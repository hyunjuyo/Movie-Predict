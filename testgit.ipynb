{
  "nbformat": 4,
  "nbformat_minor": 0,
  "metadata": {
    "colab": {
      "name": "testgit.ipynb",
      "provenance": [],
      "mount_file_id": "1IVq8YnLhdWQlBiws7EYXZ0yrlNxzMHu9",
      "authorship_tag": "ABX9TyPneb0eVqRTU7drno7zPRw9",
      "include_colab_link": true
    },
    "kernelspec": {
      "name": "python3",
      "display_name": "Python 3"
    },
    "language_info": {
      "name": "python"
    }
  },
  "cells": [
    {
      "cell_type": "markdown",
      "metadata": {
        "id": "view-in-github",
        "colab_type": "text"
      },
      "source": [
        "<a href=\"https://colab.research.google.com/github/Rhos0129/Movie-Predict/blob/main/testgit.ipynb\" target=\"_parent\"><img src=\"https://colab.research.google.com/assets/colab-badge.svg\" alt=\"Open In Colab\"/></a>"
      ]
    },
    {
      "cell_type": "code",
      "metadata": {
        "colab": {
          "base_uri": "https://localhost:8080/"
        },
        "id": "twyCSIJJJael",
        "outputId": "0920320c-96d0-4636-e031-28829c235ee9"
      },
      "source": [
        "print('Hello World')"
      ],
      "execution_count": 1,
      "outputs": [
        {
          "output_type": "stream",
          "name": "stdout",
          "text": [
            "Hello World\n"
          ]
        }
      ]
    },
    {
      "cell_type": "code",
      "metadata": {
        "colab": {
          "base_uri": "https://localhost:8080/"
        },
        "id": "q98V9q50JedZ",
        "outputId": "c60f1c61-7dfe-4ebb-d049-7620788755e3"
      },
      "source": [
        "print('수정후 commit, push 해보기')"
      ],
      "execution_count": 2,
      "outputs": [
        {
          "output_type": "stream",
          "name": "stdout",
          "text": [
            "수정후 commit, push 해보기\n"
          ]
        }
      ]
    }
  ]
}