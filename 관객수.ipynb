{
  "nbformat": 4,
  "nbformat_minor": 0,
  "metadata": {
    "colab": {
      "name": "관객수.ipynb",
      "provenance": [],
      "toc_visible": true,
      "mount_file_id": "1mEL1he3fZusUiM187wl7jlYq5bFPElHk",
      "authorship_tag": "ABX9TyNmMge9e1RKsKA5+IPbc4xx",
      "include_colab_link": true
    },
    "kernelspec": {
      "name": "python3",
      "display_name": "Python 3"
    },
    "language_info": {
      "name": "python"
    }
  },
  "cells": [
    {
      "cell_type": "markdown",
      "metadata": {
        "id": "view-in-github",
        "colab_type": "text"
      },
      "source": [
        "<a href=\"https://colab.research.google.com/github/Rhos0129/Movie-Predict/blob/main/%EA%B4%80%EA%B0%9D%EC%88%98.ipynb\" target=\"_parent\"><img src=\"https://colab.research.google.com/assets/colab-badge.svg\" alt=\"Open In Colab\"/></a>"
      ]
    },
    {
      "cell_type": "code",
      "metadata": {
        "colab": {
          "base_uri": "https://localhost:8080/"
        },
        "id": "Wb2ZKRoWiFU0",
        "outputId": "3d4c071b-f050-4431-efee-87f1e19daa23"
      },
      "source": [
        "%cd /content/drive/MyDrive/moviePredict"
      ],
      "execution_count": 1,
      "outputs": [
        {
          "output_type": "stream",
          "name": "stdout",
          "text": [
            "/content/drive/MyDrive/moviePredict\n"
          ]
        }
      ]
    },
    {
      "cell_type": "markdown",
      "metadata": {
        "id": "ypJG7fXvnmQI"
      },
      "source": [
        "## 1. 데이터 탐색\n",
        "- 데이터 출처 : [캐글의 영화 데이터셋](https://www.kaggle.com/rounakbanik/the-movies-dataset)\n",
        "\n"
      ]
    },
    {
      "cell_type": "markdown",
      "metadata": {
        "id": "ajFGwxCIoTcY"
      },
      "source": [
        "  \n",
        "  ### 영화의 메타데이터\n"
      ]
    },
    {
      "cell_type": "markdown",
      "metadata": {
        "id": "SM_Da924XlCi"
      },
      "source": [
        "#### 데이터 정리\n",
        "  - 사용할 변수 선택\n",
        "  - 중복행은 하나 남기고 제거"
      ]
    },
    {
      "cell_type": "code",
      "metadata": {
        "colab": {
          "base_uri": "https://localhost:8080/",
          "height": 477
        },
        "id": "ELYOpTfDjr7z",
        "outputId": "9bdec483-7670-49de-8c89-593813189ec2"
      },
      "source": [
        "import pandas as pd\n",
        "\n",
        "movie=pd.read_csv('./data/movies_metadata.csv')\n",
        "movie.head(3)"
      ],
      "execution_count": 2,
      "outputs": [
        {
          "output_type": "stream",
          "name": "stderr",
          "text": [
            "/usr/local/lib/python3.7/dist-packages/IPython/core/interactiveshell.py:2718: DtypeWarning: Columns (10) have mixed types.Specify dtype option on import or set low_memory=False.\n",
            "  interactivity=interactivity, compiler=compiler, result=result)\n"
          ]
        },
        {
          "output_type": "execute_result",
          "data": {
            "text/html": [
              "<div>\n",
              "<style scoped>\n",
              "    .dataframe tbody tr th:only-of-type {\n",
              "        vertical-align: middle;\n",
              "    }\n",
              "\n",
              "    .dataframe tbody tr th {\n",
              "        vertical-align: top;\n",
              "    }\n",
              "\n",
              "    .dataframe thead th {\n",
              "        text-align: right;\n",
              "    }\n",
              "</style>\n",
              "<table border=\"1\" class=\"dataframe\">\n",
              "  <thead>\n",
              "    <tr style=\"text-align: right;\">\n",
              "      <th></th>\n",
              "      <th>adult</th>\n",
              "      <th>belongs_to_collection</th>\n",
              "      <th>budget</th>\n",
              "      <th>genres</th>\n",
              "      <th>homepage</th>\n",
              "      <th>id</th>\n",
              "      <th>imdb_id</th>\n",
              "      <th>original_language</th>\n",
              "      <th>original_title</th>\n",
              "      <th>overview</th>\n",
              "      <th>popularity</th>\n",
              "      <th>poster_path</th>\n",
              "      <th>production_companies</th>\n",
              "      <th>production_countries</th>\n",
              "      <th>release_date</th>\n",
              "      <th>revenue</th>\n",
              "      <th>runtime</th>\n",
              "      <th>spoken_languages</th>\n",
              "      <th>status</th>\n",
              "      <th>tagline</th>\n",
              "      <th>title</th>\n",
              "      <th>video</th>\n",
              "      <th>vote_average</th>\n",
              "      <th>vote_count</th>\n",
              "    </tr>\n",
              "  </thead>\n",
              "  <tbody>\n",
              "    <tr>\n",
              "      <th>0</th>\n",
              "      <td>False</td>\n",
              "      <td>{'id': 10194, 'name': 'Toy Story Collection', ...</td>\n",
              "      <td>30000000</td>\n",
              "      <td>[{'id': 16, 'name': 'Animation'}, {'id': 35, '...</td>\n",
              "      <td>http://toystory.disney.com/toy-story</td>\n",
              "      <td>862</td>\n",
              "      <td>tt0114709</td>\n",
              "      <td>en</td>\n",
              "      <td>Toy Story</td>\n",
              "      <td>Led by Woody, Andy's toys live happily in his ...</td>\n",
              "      <td>21.9469</td>\n",
              "      <td>/rhIRbceoE9lR4veEXuwCC2wARtG.jpg</td>\n",
              "      <td>[{'name': 'Pixar Animation Studios', 'id': 3}]</td>\n",
              "      <td>[{'iso_3166_1': 'US', 'name': 'United States o...</td>\n",
              "      <td>1995-10-30</td>\n",
              "      <td>373554033.0</td>\n",
              "      <td>81.0</td>\n",
              "      <td>[{'iso_639_1': 'en', 'name': 'English'}]</td>\n",
              "      <td>Released</td>\n",
              "      <td>NaN</td>\n",
              "      <td>Toy Story</td>\n",
              "      <td>False</td>\n",
              "      <td>7.7</td>\n",
              "      <td>5415.0</td>\n",
              "    </tr>\n",
              "    <tr>\n",
              "      <th>1</th>\n",
              "      <td>False</td>\n",
              "      <td>NaN</td>\n",
              "      <td>65000000</td>\n",
              "      <td>[{'id': 12, 'name': 'Adventure'}, {'id': 14, '...</td>\n",
              "      <td>NaN</td>\n",
              "      <td>8844</td>\n",
              "      <td>tt0113497</td>\n",
              "      <td>en</td>\n",
              "      <td>Jumanji</td>\n",
              "      <td>When siblings Judy and Peter discover an encha...</td>\n",
              "      <td>17.0155</td>\n",
              "      <td>/vzmL6fP7aPKNKPRTFnZmiUfciyV.jpg</td>\n",
              "      <td>[{'name': 'TriStar Pictures', 'id': 559}, {'na...</td>\n",
              "      <td>[{'iso_3166_1': 'US', 'name': 'United States o...</td>\n",
              "      <td>1995-12-15</td>\n",
              "      <td>262797249.0</td>\n",
              "      <td>104.0</td>\n",
              "      <td>[{'iso_639_1': 'en', 'name': 'English'}, {'iso...</td>\n",
              "      <td>Released</td>\n",
              "      <td>Roll the dice and unleash the excitement!</td>\n",
              "      <td>Jumanji</td>\n",
              "      <td>False</td>\n",
              "      <td>6.9</td>\n",
              "      <td>2413.0</td>\n",
              "    </tr>\n",
              "    <tr>\n",
              "      <th>2</th>\n",
              "      <td>False</td>\n",
              "      <td>{'id': 119050, 'name': 'Grumpy Old Men Collect...</td>\n",
              "      <td>0</td>\n",
              "      <td>[{'id': 10749, 'name': 'Romance'}, {'id': 35, ...</td>\n",
              "      <td>NaN</td>\n",
              "      <td>15602</td>\n",
              "      <td>tt0113228</td>\n",
              "      <td>en</td>\n",
              "      <td>Grumpier Old Men</td>\n",
              "      <td>A family wedding reignites the ancient feud be...</td>\n",
              "      <td>11.7129</td>\n",
              "      <td>/6ksm1sjKMFLbO7UY2i6G1ju9SML.jpg</td>\n",
              "      <td>[{'name': 'Warner Bros.', 'id': 6194}, {'name'...</td>\n",
              "      <td>[{'iso_3166_1': 'US', 'name': 'United States o...</td>\n",
              "      <td>1995-12-22</td>\n",
              "      <td>0.0</td>\n",
              "      <td>101.0</td>\n",
              "      <td>[{'iso_639_1': 'en', 'name': 'English'}]</td>\n",
              "      <td>Released</td>\n",
              "      <td>Still Yelling. Still Fighting. Still Ready for...</td>\n",
              "      <td>Grumpier Old Men</td>\n",
              "      <td>False</td>\n",
              "      <td>6.5</td>\n",
              "      <td>92.0</td>\n",
              "    </tr>\n",
              "  </tbody>\n",
              "</table>\n",
              "</div>"
            ],
            "text/plain": [
              "   adult  ... vote_count\n",
              "0  False  ...     5415.0\n",
              "1  False  ...     2413.0\n",
              "2  False  ...       92.0\n",
              "\n",
              "[3 rows x 24 columns]"
            ]
          },
          "metadata": {},
          "execution_count": 2
        }
      ]
    },
    {
      "cell_type": "code",
      "metadata": {
        "colab": {
          "base_uri": "https://localhost:8080/"
        },
        "id": "5QN3vH_rYtLQ",
        "outputId": "2bd24fa8-eaca-4e94-b14a-f7e0bdba1765"
      },
      "source": [
        "movie.columns"
      ],
      "execution_count": 3,
      "outputs": [
        {
          "output_type": "execute_result",
          "data": {
            "text/plain": [
              "Index(['adult', 'belongs_to_collection', 'budget', 'genres', 'homepage', 'id',\n",
              "       'imdb_id', 'original_language', 'original_title', 'overview',\n",
              "       'popularity', 'poster_path', 'production_companies',\n",
              "       'production_countries', 'release_date', 'revenue', 'runtime',\n",
              "       'spoken_languages', 'status', 'tagline', 'title', 'video',\n",
              "       'vote_average', 'vote_count'],\n",
              "      dtype='object')"
            ]
          },
          "metadata": {},
          "execution_count": 3
        }
      ]
    },
    {
      "cell_type": "code",
      "metadata": {
        "id": "o_sySWKZmmJC",
        "colab": {
          "base_uri": "https://localhost:8080/"
        },
        "outputId": "68963646-e355-4e3a-c937-8b4491e349a8"
      },
      "source": [
        "movie.info()"
      ],
      "execution_count": 4,
      "outputs": [
        {
          "output_type": "stream",
          "name": "stdout",
          "text": [
            "<class 'pandas.core.frame.DataFrame'>\n",
            "RangeIndex: 45466 entries, 0 to 45465\n",
            "Data columns (total 24 columns):\n",
            " #   Column                 Non-Null Count  Dtype  \n",
            "---  ------                 --------------  -----  \n",
            " 0   adult                  45466 non-null  object \n",
            " 1   belongs_to_collection  4494 non-null   object \n",
            " 2   budget                 45466 non-null  object \n",
            " 3   genres                 45466 non-null  object \n",
            " 4   homepage               7782 non-null   object \n",
            " 5   id                     45466 non-null  object \n",
            " 6   imdb_id                45449 non-null  object \n",
            " 7   original_language      45455 non-null  object \n",
            " 8   original_title         45466 non-null  object \n",
            " 9   overview               44512 non-null  object \n",
            " 10  popularity             45461 non-null  object \n",
            " 11  poster_path            45080 non-null  object \n",
            " 12  production_companies   45463 non-null  object \n",
            " 13  production_countries   45463 non-null  object \n",
            " 14  release_date           45379 non-null  object \n",
            " 15  revenue                45460 non-null  float64\n",
            " 16  runtime                45203 non-null  float64\n",
            " 17  spoken_languages       45460 non-null  object \n",
            " 18  status                 45379 non-null  object \n",
            " 19  tagline                20412 non-null  object \n",
            " 20  title                  45460 non-null  object \n",
            " 21  video                  45460 non-null  object \n",
            " 22  vote_average           45460 non-null  float64\n",
            " 23  vote_count             45460 non-null  float64\n",
            "dtypes: float64(4), object(20)\n",
            "memory usage: 8.3+ MB\n"
          ]
        }
      ]
    },
    {
      "cell_type": "code",
      "metadata": {
        "scrolled": false,
        "id": "BLOPny5DmmJC",
        "colab": {
          "base_uri": "https://localhost:8080/",
          "height": 143
        },
        "outputId": "95ec47f6-ca7c-47dc-f955-f79bc753dc17"
      },
      "source": [
        "# 사용할 변수 선택\n",
        "movie = movie[['id', 'original_title', 'original_language','release_date','genres', 'popularity', 'vote_average', 'vote_count', 'budget', 'revenue']]\n",
        "movie = movie.rename(columns={\n",
        "    'original_title':'title',\n",
        "    'original_language':'language',\n",
        "    })\n",
        "movie.head(3)"
      ],
      "execution_count": 5,
      "outputs": [
        {
          "output_type": "execute_result",
          "data": {
            "text/html": [
              "<div>\n",
              "<style scoped>\n",
              "    .dataframe tbody tr th:only-of-type {\n",
              "        vertical-align: middle;\n",
              "    }\n",
              "\n",
              "    .dataframe tbody tr th {\n",
              "        vertical-align: top;\n",
              "    }\n",
              "\n",
              "    .dataframe thead th {\n",
              "        text-align: right;\n",
              "    }\n",
              "</style>\n",
              "<table border=\"1\" class=\"dataframe\">\n",
              "  <thead>\n",
              "    <tr style=\"text-align: right;\">\n",
              "      <th></th>\n",
              "      <th>id</th>\n",
              "      <th>title</th>\n",
              "      <th>language</th>\n",
              "      <th>release_date</th>\n",
              "      <th>genres</th>\n",
              "      <th>popularity</th>\n",
              "      <th>vote_average</th>\n",
              "      <th>vote_count</th>\n",
              "      <th>budget</th>\n",
              "      <th>revenue</th>\n",
              "    </tr>\n",
              "  </thead>\n",
              "  <tbody>\n",
              "    <tr>\n",
              "      <th>0</th>\n",
              "      <td>862</td>\n",
              "      <td>Toy Story</td>\n",
              "      <td>en</td>\n",
              "      <td>1995-10-30</td>\n",
              "      <td>[{'id': 16, 'name': 'Animation'}, {'id': 35, '...</td>\n",
              "      <td>21.9469</td>\n",
              "      <td>7.7</td>\n",
              "      <td>5415.0</td>\n",
              "      <td>30000000</td>\n",
              "      <td>373554033.0</td>\n",
              "    </tr>\n",
              "    <tr>\n",
              "      <th>1</th>\n",
              "      <td>8844</td>\n",
              "      <td>Jumanji</td>\n",
              "      <td>en</td>\n",
              "      <td>1995-12-15</td>\n",
              "      <td>[{'id': 12, 'name': 'Adventure'}, {'id': 14, '...</td>\n",
              "      <td>17.0155</td>\n",
              "      <td>6.9</td>\n",
              "      <td>2413.0</td>\n",
              "      <td>65000000</td>\n",
              "      <td>262797249.0</td>\n",
              "    </tr>\n",
              "    <tr>\n",
              "      <th>2</th>\n",
              "      <td>15602</td>\n",
              "      <td>Grumpier Old Men</td>\n",
              "      <td>en</td>\n",
              "      <td>1995-12-22</td>\n",
              "      <td>[{'id': 10749, 'name': 'Romance'}, {'id': 35, ...</td>\n",
              "      <td>11.7129</td>\n",
              "      <td>6.5</td>\n",
              "      <td>92.0</td>\n",
              "      <td>0</td>\n",
              "      <td>0.0</td>\n",
              "    </tr>\n",
              "  </tbody>\n",
              "</table>\n",
              "</div>"
            ],
            "text/plain": [
              "      id             title language  ... vote_count    budget      revenue\n",
              "0    862         Toy Story       en  ...     5415.0  30000000  373554033.0\n",
              "1   8844           Jumanji       en  ...     2413.0  65000000  262797249.0\n",
              "2  15602  Grumpier Old Men       en  ...       92.0         0          0.0\n",
              "\n",
              "[3 rows x 10 columns]"
            ]
          },
          "metadata": {},
          "execution_count": 5
        }
      ]
    },
    {
      "cell_type": "code",
      "metadata": {
        "colab": {
          "base_uri": "https://localhost:8080/"
        },
        "id": "_hL1_eIhWFCe",
        "outputId": "65ee4fb8-6c3b-443a-d3ef-f2a6f6fd0e54"
      },
      "source": [
        "# 중복행은 하나 남기고 제거\n",
        "movie=movie.drop_duplicates()\n",
        "movie.info()"
      ],
      "execution_count": 6,
      "outputs": [
        {
          "output_type": "stream",
          "name": "stdout",
          "text": [
            "<class 'pandas.core.frame.DataFrame'>\n",
            "Int64Index: 45453 entries, 0 to 45465\n",
            "Data columns (total 10 columns):\n",
            " #   Column        Non-Null Count  Dtype  \n",
            "---  ------        --------------  -----  \n",
            " 0   id            45453 non-null  object \n",
            " 1   title         45453 non-null  object \n",
            " 2   language      45442 non-null  object \n",
            " 3   release_date  45366 non-null  object \n",
            " 4   genres        45453 non-null  object \n",
            " 5   popularity    45448 non-null  object \n",
            " 6   vote_average  45447 non-null  float64\n",
            " 7   vote_count    45447 non-null  float64\n",
            " 8   budget        45453 non-null  object \n",
            " 9   revenue       45447 non-null  float64\n",
            "dtypes: float64(3), object(7)\n",
            "memory usage: 3.8+ MB\n"
          ]
        }
      ]
    },
    {
      "cell_type": "markdown",
      "metadata": {
        "id": "yk6kgipRSwl7"
      },
      "source": [
        "#### id, title (영화 아이디, 영화제목)\n",
        "- id는 같으나 컬럼값이 다른 행은 모두 제거"
      ]
    },
    {
      "cell_type": "code",
      "metadata": {
        "colab": {
          "base_uri": "https://localhost:8080/"
        },
        "id": "gSLjfvmtdiFO",
        "outputId": "29fafca0-b405-4e6d-cc85-3982cbfd8bf0"
      },
      "source": [
        "# id는 null값 없음\n",
        "len(movie[movie['id'].isnull()])"
      ],
      "execution_count": 7,
      "outputs": [
        {
          "output_type": "execute_result",
          "data": {
            "text/plain": [
              "0"
            ]
          },
          "metadata": {},
          "execution_count": 7
        }
      ]
    },
    {
      "cell_type": "code",
      "metadata": {
        "colab": {
          "base_uri": "https://localhost:8080/"
        },
        "id": "m760ieloStu5",
        "outputId": "09d5fcef-a9e9-4ac0-b783-609afc635c21"
      },
      "source": [
        "# id는 같으나 다른 컬럼값이 존재\n",
        "len(movie[movie.duplicated(['id'], keep=False)])"
      ],
      "execution_count": 8,
      "outputs": [
        {
          "output_type": "execute_result",
          "data": {
            "text/plain": [
              "34"
            ]
          },
          "metadata": {},
          "execution_count": 8
        }
      ]
    },
    {
      "cell_type": "code",
      "metadata": {
        "colab": {
          "base_uri": "https://localhost:8080/"
        },
        "id": "gSO8H8FKSvzy",
        "outputId": "9c411054-a9ac-4808-dca8-27c991655663"
      },
      "source": [
        "# 중복 아이디 모두 제거\n",
        "movie=movie.drop_duplicates(['id'], keep=False)\n",
        "movie.info()"
      ],
      "execution_count": 9,
      "outputs": [
        {
          "output_type": "stream",
          "name": "stdout",
          "text": [
            "<class 'pandas.core.frame.DataFrame'>\n",
            "Int64Index: 45419 entries, 0 to 45465\n",
            "Data columns (total 10 columns):\n",
            " #   Column        Non-Null Count  Dtype  \n",
            "---  ------        --------------  -----  \n",
            " 0   id            45419 non-null  object \n",
            " 1   title         45419 non-null  object \n",
            " 2   language      45408 non-null  object \n",
            " 3   release_date  45332 non-null  object \n",
            " 4   genres        45419 non-null  object \n",
            " 5   popularity    45414 non-null  object \n",
            " 6   vote_average  45413 non-null  float64\n",
            " 7   vote_count    45413 non-null  float64\n",
            " 8   budget        45419 non-null  object \n",
            " 9   revenue       45413 non-null  float64\n",
            "dtypes: float64(3), object(7)\n",
            "memory usage: 3.8+ MB\n"
          ]
        }
      ]
    },
    {
      "cell_type": "code",
      "metadata": {
        "colab": {
          "base_uri": "https://localhost:8080/"
        },
        "id": "zXylP5gRdYPE",
        "outputId": "921f8057-6154-47a3-ece6-251dacc1d228"
      },
      "source": [
        "# title은 null값 없음\n",
        "len(movie[movie['title'].isnull()])"
      ],
      "execution_count": 10,
      "outputs": [
        {
          "output_type": "execute_result",
          "data": {
            "text/plain": [
              "0"
            ]
          },
          "metadata": {},
          "execution_count": 10
        }
      ]
    },
    {
      "cell_type": "code",
      "metadata": {
        "colab": {
          "base_uri": "https://localhost:8080/"
        },
        "id": "qHBBOJJUcAr2",
        "outputId": "59b8f3f6-bf98-4e83-9583-8809431dba73"
      },
      "source": [
        "# 중복되는 영화제목이 많으나.. 제목이 같아도 다른 id를 가졌으므로 데이터 유지\n",
        "len(movie[movie.duplicated(['title'], keep=False)])"
      ],
      "execution_count": 11,
      "outputs": [
        {
          "output_type": "execute_result",
          "data": {
            "text/plain": [
              "3701"
            ]
          },
          "metadata": {},
          "execution_count": 11
        }
      ]
    },
    {
      "cell_type": "markdown",
      "metadata": {
        "id": "a8qfSajnawov"
      },
      "source": [
        "#### language (언어)\n",
        "- null값, 이상한 값 제거"
      ]
    },
    {
      "cell_type": "code",
      "metadata": {
        "colab": {
          "base_uri": "https://localhost:8080/"
        },
        "id": "13b_HEBmdqoV",
        "outputId": "dbce1c6c-2851-4a73-88cb-9de5e4588e2c"
      },
      "source": [
        "len(movie[movie['language'].isnull()])"
      ],
      "execution_count": 12,
      "outputs": [
        {
          "output_type": "execute_result",
          "data": {
            "text/plain": [
              "11"
            ]
          },
          "metadata": {},
          "execution_count": 12
        }
      ]
    },
    {
      "cell_type": "code",
      "metadata": {
        "id": "OgC1BtTVdwU_"
      },
      "source": [
        "# null값 제거\n",
        "movie=movie[movie['language'].notnull()]"
      ],
      "execution_count": 13,
      "outputs": []
    },
    {
      "cell_type": "code",
      "metadata": {
        "colab": {
          "base_uri": "https://localhost:8080/"
        },
        "id": "zQREeB59cf1t",
        "outputId": "cc7f71a1-2275-416a-990d-7f086bfe09e8"
      },
      "source": [
        "movie['language'].unique(), len(movie['language'].unique())"
      ],
      "execution_count": 14,
      "outputs": [
        {
          "output_type": "execute_result",
          "data": {
            "text/plain": [
              "(array(['en', 'fr', 'zh', 'it', 'fa', 'nl', 'de', 'cn', 'ar', 'es', 'ru',\n",
              "        'sv', 'ja', 'ko', 'sr', 'bn', 'he', 'pt', 'wo', 'ro', 'hu', 'cy',\n",
              "        'vi', 'cs', 'da', 'no', 'nb', 'pl', 'el', 'sh', 'xx', 'mk', 'bo',\n",
              "        'ca', 'fi', 'th', 'sk', 'bs', 'hi', 'tr', 'is', 'ps', 'ab', 'eo',\n",
              "        'ka', 'mn', 'bm', 'zu', 'uk', 'af', 'la', 'et', 'ku', 'fy', 'lv',\n",
              "        'ta', 'sl', 'tl', 'ur', 'rw', 'id', 'bg', 'mr', 'lt', 'kk', 'ms',\n",
              "        'sq', '104.0', 'qu', 'te', 'am', 'jv', 'tg', 'ml', 'hr', 'lo',\n",
              "        'ay', 'kn', 'eu', 'ne', 'pa', 'ky', 'gl', '68.0', 'uz', 'sm', 'mt',\n",
              "        '82.0', 'hy', 'iu', 'lb', 'si'], dtype=object), 92)"
            ]
          },
          "metadata": {},
          "execution_count": 14
        }
      ]
    },
    {
      "cell_type": "code",
      "metadata": {
        "id": "Wxi7fUoBeDYb"
      },
      "source": [
        "# 이상한 값 제거\n",
        "movie=movie[(movie['language']!='68.0')&(movie['language']!='82.0')]"
      ],
      "execution_count": 15,
      "outputs": []
    },
    {
      "cell_type": "markdown",
      "metadata": {
        "id": "7o_DufxbLn6A"
      },
      "source": [
        "#### rerelease_date (출시일)\n",
        "- null값과 이상한 값(1, 12, ...) 제거\n",
        "- 정렬"
      ]
    },
    {
      "cell_type": "code",
      "metadata": {
        "colab": {
          "base_uri": "https://localhost:8080/"
        },
        "id": "coFpp7QoL-j8",
        "outputId": "aa96671e-8611-47d5-94e7-1968e5287940"
      },
      "source": [
        "len(movie[movie['release_date'].isnull()])"
      ],
      "execution_count": 16,
      "outputs": [
        {
          "output_type": "execute_result",
          "data": {
            "text/plain": [
              "87"
            ]
          },
          "metadata": {},
          "execution_count": 16
        }
      ]
    },
    {
      "cell_type": "code",
      "metadata": {
        "colab": {
          "base_uri": "https://localhost:8080/"
        },
        "id": "UBPVN-rsMJC_",
        "outputId": "087d1385-b330-44d8-a5ea-3396df7bdd12"
      },
      "source": [
        "movie=movie[movie['release_date'].notnull()]\n",
        "movie=movie.sort_values('release_date')\n",
        "movie['release_date'].head()"
      ],
      "execution_count": 17,
      "outputs": [
        {
          "output_type": "execute_result",
          "data": {
            "text/plain": [
              "19730             1\n",
              "34940    1874-12-09\n",
              "34937    1878-06-14\n",
              "41602    1883-11-19\n",
              "34933    1887-08-18\n",
              "Name: release_date, dtype: object"
            ]
          },
          "metadata": {},
          "execution_count": 17
        }
      ]
    },
    {
      "cell_type": "code",
      "metadata": {
        "colab": {
          "base_uri": "https://localhost:8080/"
        },
        "id": "PAhEwD3NMY4f",
        "outputId": "e6578aa1-e9d3-48a7-c472-937e95bda27c"
      },
      "source": [
        "dates=[]\n",
        "for date in movie['release_date']:\n",
        "  try:\n",
        "    date=pd.to_datetime(date).strftime('%Y%m%d')\n",
        "  except:\n",
        "    date=0\n",
        "  dates.append(date)\n",
        "\n",
        "len(dates)"
      ],
      "execution_count": 18,
      "outputs": [
        {
          "output_type": "execute_result",
          "data": {
            "text/plain": [
              "45319"
            ]
          },
          "metadata": {},
          "execution_count": 18
        }
      ]
    },
    {
      "cell_type": "code",
      "metadata": {
        "colab": {
          "base_uri": "https://localhost:8080/",
          "height": 258
        },
        "id": "1ukYlGRKPD1x",
        "outputId": "72325298-353d-466b-dc12-f0e2afb272bb"
      },
      "source": [
        "movie['release_date']=dates\n",
        "movie=movie[movie['release_date']!=0]\n",
        "movie.tail()"
      ],
      "execution_count": 19,
      "outputs": [
        {
          "output_type": "execute_result",
          "data": {
            "text/html": [
              "<div>\n",
              "<style scoped>\n",
              "    .dataframe tbody tr th:only-of-type {\n",
              "        vertical-align: middle;\n",
              "    }\n",
              "\n",
              "    .dataframe tbody tr th {\n",
              "        vertical-align: top;\n",
              "    }\n",
              "\n",
              "    .dataframe thead th {\n",
              "        text-align: right;\n",
              "    }\n",
              "</style>\n",
              "<table border=\"1\" class=\"dataframe\">\n",
              "  <thead>\n",
              "    <tr style=\"text-align: right;\">\n",
              "      <th></th>\n",
              "      <th>id</th>\n",
              "      <th>title</th>\n",
              "      <th>language</th>\n",
              "      <th>release_date</th>\n",
              "      <th>genres</th>\n",
              "      <th>popularity</th>\n",
              "      <th>vote_average</th>\n",
              "      <th>vote_count</th>\n",
              "      <th>budget</th>\n",
              "      <th>revenue</th>\n",
              "    </tr>\n",
              "  </thead>\n",
              "  <tbody>\n",
              "    <tr>\n",
              "      <th>44535</th>\n",
              "      <td>412059</td>\n",
              "      <td>Mobile Homes</td>\n",
              "      <td>en</td>\n",
              "      <td>20180404</td>\n",
              "      <td>[{'id': 18, 'name': 'Drama'}]</td>\n",
              "      <td>0.155147</td>\n",
              "      <td>0.0</td>\n",
              "      <td>1.0</td>\n",
              "      <td>0</td>\n",
              "      <td>0.0</td>\n",
              "    </tr>\n",
              "    <tr>\n",
              "      <th>38130</th>\n",
              "      <td>332283</td>\n",
              "      <td>Mary Shelley</td>\n",
              "      <td>en</td>\n",
              "      <td>20180425</td>\n",
              "      <td>[{'id': 18, 'name': 'Drama'}, {'id': 10749, 'n...</td>\n",
              "      <td>3.328261</td>\n",
              "      <td>0.0</td>\n",
              "      <td>1.0</td>\n",
              "      <td>0</td>\n",
              "      <td>0.0</td>\n",
              "    </tr>\n",
              "    <tr>\n",
              "      <th>30402</th>\n",
              "      <td>38700</td>\n",
              "      <td>Bad Boys for Life</td>\n",
              "      <td>en</td>\n",
              "      <td>20181107</td>\n",
              "      <td>[{'id': 53, 'name': 'Thriller'}, {'id': 28, 'n...</td>\n",
              "      <td>2.17855</td>\n",
              "      <td>0.0</td>\n",
              "      <td>12.0</td>\n",
              "      <td>0</td>\n",
              "      <td>0.0</td>\n",
              "    </tr>\n",
              "    <tr>\n",
              "      <th>38885</th>\n",
              "      <td>299782</td>\n",
              "      <td>The Other Side of the Wind</td>\n",
              "      <td>en</td>\n",
              "      <td>20181231</td>\n",
              "      <td>[{'id': 35, 'name': 'Comedy'}, {'id': 18, 'nam...</td>\n",
              "      <td>0.238154</td>\n",
              "      <td>0.0</td>\n",
              "      <td>1.0</td>\n",
              "      <td>12000000</td>\n",
              "      <td>0.0</td>\n",
              "    </tr>\n",
              "    <tr>\n",
              "      <th>26559</th>\n",
              "      <td>76600</td>\n",
              "      <td>Avatar 2</td>\n",
              "      <td>en</td>\n",
              "      <td>20201216</td>\n",
              "      <td>[{'id': 28, 'name': 'Action'}, {'id': 12, 'nam...</td>\n",
              "      <td>6.02006</td>\n",
              "      <td>0.0</td>\n",
              "      <td>58.0</td>\n",
              "      <td>0</td>\n",
              "      <td>0.0</td>\n",
              "    </tr>\n",
              "  </tbody>\n",
              "</table>\n",
              "</div>"
            ],
            "text/plain": [
              "           id                       title  ...    budget revenue\n",
              "44535  412059                Mobile Homes  ...         0     0.0\n",
              "38130  332283                Mary Shelley  ...         0     0.0\n",
              "30402   38700           Bad Boys for Life  ...         0     0.0\n",
              "38885  299782  The Other Side of the Wind  ...  12000000     0.0\n",
              "26559   76600                    Avatar 2  ...         0     0.0\n",
              "\n",
              "[5 rows x 10 columns]"
            ]
          },
          "metadata": {},
          "execution_count": 19
        }
      ]
    },
    {
      "cell_type": "code",
      "metadata": {
        "colab": {
          "base_uri": "https://localhost:8080/"
        },
        "id": "XvJvRdfLLZ8o",
        "outputId": "169788a9-789b-4083-9ed9-3685865dd32d"
      },
      "source": [
        "movie.info"
      ],
      "execution_count": 20,
      "outputs": [
        {
          "output_type": "execute_result",
          "data": {
            "text/plain": [
              "<bound method DataFrame.info of            id                        title  ...    budget revenue\n",
              "34940  315946             Passage de Venus  ...         0     0.0\n",
              "34937  194079   Sallie Gardner at a Gallop  ...         0     0.0\n",
              "41602  426903              Buffalo Running  ...         0     0.0\n",
              "34933  159897  Man Walking Around a Corner  ...         0     0.0\n",
              "34934   96882             Accordion Player  ...         0     0.0\n",
              "...       ...                          ...  ...       ...     ...\n",
              "44535  412059                 Mobile Homes  ...         0     0.0\n",
              "38130  332283                 Mary Shelley  ...         0     0.0\n",
              "30402   38700            Bad Boys for Life  ...         0     0.0\n",
              "38885  299782   The Other Side of the Wind  ...  12000000     0.0\n",
              "26559   76600                     Avatar 2  ...         0     0.0\n",
              "\n",
              "[45318 rows x 10 columns]>"
            ]
          },
          "metadata": {},
          "execution_count": 20
        }
      ]
    },
    {
      "cell_type": "code",
      "metadata": {
        "id": "EA8KRjH1bMDc"
      },
      "source": [
        ""
      ],
      "execution_count": 20,
      "outputs": []
    },
    {
      "cell_type": "markdown",
      "metadata": {
        "id": "9xVhdpcnbPkT"
      },
      "source": [
        "#### genres (장르)\n",
        "- 한 영화가 여러 장르일 수 있다.\n",
        "- 장르 종류 확인\n"
      ]
    },
    {
      "cell_type": "code",
      "metadata": {
        "colab": {
          "base_uri": "https://localhost:8080/"
        },
        "id": "3GGAeLVGfc6G",
        "outputId": "99d1bd75-4b09-48ec-c776-0e08a1d9ff17"
      },
      "source": [
        "len(movie[movie['genres'].isnull()])"
      ],
      "execution_count": 21,
      "outputs": [
        {
          "output_type": "execute_result",
          "data": {
            "text/plain": [
              "0"
            ]
          },
          "metadata": {},
          "execution_count": 21
        }
      ]
    },
    {
      "cell_type": "code",
      "metadata": {
        "colab": {
          "base_uri": "https://localhost:8080/"
        },
        "id": "jVeofSMYgptR",
        "outputId": "ce900668-9b94-4a16-f12f-d0a4785d2fb1"
      },
      "source": [
        "# 한 영화가 여러 장르일 수 있다.\n",
        "movie['genres'].unique()"
      ],
      "execution_count": 22,
      "outputs": [
        {
          "output_type": "execute_result",
          "data": {
            "text/plain": [
              "array([\"[{'id': 99, 'name': 'Documentary'}]\", '[]',\n",
              "       \"[{'id': 35, 'name': 'Comedy'}]\", ...,\n",
              "       \"[{'id': 28, 'name': 'Action'}, {'id': 37, 'name': 'Western'}, {'id': 878, 'name': 'Science Fiction'}, {'id': 14, 'name': 'Fantasy'}, {'id': 27, 'name': 'Horror'}]\",\n",
              "       \"[{'id': 35, 'name': 'Comedy'}, {'id': 10402, 'name': 'Music'}, {'id': 10749, 'name': 'Romance'}, {'id': 878, 'name': 'Science Fiction'}]\",\n",
              "       \"[{'id': 16, 'name': 'Animation'}, {'id': 12, 'name': 'Adventure'}, {'id': 35, 'name': 'Comedy'}, {'id': 28, 'name': 'Action'}, {'id': 10751, 'name': 'Family'}]\"],\n",
              "      dtype=object)"
            ]
          },
          "metadata": {},
          "execution_count": 22
        }
      ]
    },
    {
      "cell_type": "code",
      "metadata": {
        "colab": {
          "base_uri": "https://localhost:8080/"
        },
        "id": "9wELE0QzfkfS",
        "outputId": "3675c816-db0b-4e71-b994-5d89a06fd975"
      },
      "source": [
        "# 장르 종류 확인\n",
        "uniqueGenres=[]\n",
        "for genres in movie['genres']:\n",
        "  for g in eval(genres):\n",
        "    if g not in uniqueGenres:\n",
        "      uniqueGenres.append(g)\n",
        "  \n",
        "uniqueGenres"
      ],
      "execution_count": 23,
      "outputs": [
        {
          "output_type": "execute_result",
          "data": {
            "text/plain": [
              "[{'id': 99, 'name': 'Documentary'},\n",
              " {'id': 35, 'name': 'Comedy'},\n",
              " {'id': 28, 'name': 'Action'},\n",
              " {'id': 16, 'name': 'Animation'},\n",
              " {'id': 18, 'name': 'Drama'},\n",
              " {'id': 36, 'name': 'History'},\n",
              " {'id': 27, 'name': 'Horror'},\n",
              " {'id': 10749, 'name': 'Romance'},\n",
              " {'id': 14, 'name': 'Fantasy'},\n",
              " {'id': 10751, 'name': 'Family'},\n",
              " {'id': 878, 'name': 'Science Fiction'},\n",
              " {'id': 53, 'name': 'Thriller'},\n",
              " {'id': 80, 'name': 'Crime'},\n",
              " {'id': 12, 'name': 'Adventure'},\n",
              " {'id': 10402, 'name': 'Music'},\n",
              " {'id': 37, 'name': 'Western'},\n",
              " {'id': 10752, 'name': 'War'},\n",
              " {'id': 9648, 'name': 'Mystery'},\n",
              " {'id': 10769, 'name': 'Foreign'},\n",
              " {'id': 10770, 'name': 'TV Movie'}]"
            ]
          },
          "metadata": {},
          "execution_count": 23
        }
      ]
    },
    {
      "cell_type": "markdown",
      "metadata": {
        "id": "rNa5uX-nZkYq"
      },
      "source": [
        "#### popularity, vote_average, vote_count (인기도, 평점)"
      ]
    },
    {
      "cell_type": "code",
      "metadata": {
        "colab": {
          "base_uri": "https://localhost:8080/"
        },
        "id": "4BqFovX9ZjjR",
        "outputId": "ee0af13d-74e0-4cc7-de57-8dc66ef664a0"
      },
      "source": [
        "len(movie[movie['popularity'].isnull()])"
      ],
      "execution_count": 24,
      "outputs": [
        {
          "output_type": "execute_result",
          "data": {
            "text/plain": [
              "0"
            ]
          },
          "metadata": {},
          "execution_count": 24
        }
      ]
    },
    {
      "cell_type": "markdown",
      "metadata": {
        "id": "xRfjK6yDbiZu"
      },
      "source": [
        "#### budget, revenue : 예산, 수입"
      ]
    },
    {
      "cell_type": "code",
      "metadata": {
        "id": "mSbq4rV6bmAr"
      },
      "source": [
        ""
      ],
      "execution_count": 24,
      "outputs": []
    }
  ]
}