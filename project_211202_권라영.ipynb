{
 "cells": [
  {
   "cell_type": "markdown",
   "metadata": {},
   "source": [
    "- 기본 데이터: https://www.kaggle.com/rounakbanik/the-movies-dataset\n",
    "- 11월 29일 회의 결과: 'vote_count' 컬럼에 대한 머신러닝 -> 'budget' 컬럼에 대한 머신러닝으로 변경\n",
    "    - 이에 따라 자료 전처리 과정 수정"
   ]
  },
  {
   "cell_type": "markdown",
   "metadata": {},
   "source": [
    "## Ⅰ. EDA / 전처리"
   ]
  },
  {
   "cell_type": "markdown",
   "metadata": {},
   "source": [
    "### 1. movies_metadata.csv 살펴보기"
   ]
  },
  {
   "cell_type": "code",
   "execution_count": 1,
   "metadata": {},
   "outputs": [],
   "source": [
    "import pandas as pd"
   ]
  },
  {
   "cell_type": "code",
   "execution_count": 2,
   "metadata": {},
   "outputs": [
    {
     "name": "stderr",
     "output_type": "stream",
     "text": [
      "C:\\Users\\ser\\miniconda3\\envs\\ds_study\\lib\\site-packages\\IPython\\core\\interactiveshell.py:3444: DtypeWarning: Columns (10) have mixed types.Specify dtype option on import or set low_memory=False.\n",
      "  exec(code_obj, self.user_global_ns, self.user_ns)\n"
     ]
    }
   ],
   "source": [
    "movies_metadata = pd.read_csv('../data/movies_metadata.csv')"
   ]
  },
  {
   "cell_type": "code",
   "execution_count": 3,
   "metadata": {},
   "outputs": [
    {
     "data": {
      "text/html": [
       "<div>\n",
       "<style scoped>\n",
       "    .dataframe tbody tr th:only-of-type {\n",
       "        vertical-align: middle;\n",
       "    }\n",
       "\n",
       "    .dataframe tbody tr th {\n",
       "        vertical-align: top;\n",
       "    }\n",
       "\n",
       "    .dataframe thead th {\n",
       "        text-align: right;\n",
       "    }\n",
       "</style>\n",
       "<table border=\"1\" class=\"dataframe\">\n",
       "  <thead>\n",
       "    <tr style=\"text-align: right;\">\n",
       "      <th></th>\n",
       "      <th>adult</th>\n",
       "      <th>belongs_to_collection</th>\n",
       "      <th>budget</th>\n",
       "      <th>genres</th>\n",
       "      <th>homepage</th>\n",
       "      <th>id</th>\n",
       "      <th>imdb_id</th>\n",
       "      <th>original_language</th>\n",
       "      <th>original_title</th>\n",
       "      <th>overview</th>\n",
       "      <th>...</th>\n",
       "      <th>release_date</th>\n",
       "      <th>revenue</th>\n",
       "      <th>runtime</th>\n",
       "      <th>spoken_languages</th>\n",
       "      <th>status</th>\n",
       "      <th>tagline</th>\n",
       "      <th>title</th>\n",
       "      <th>video</th>\n",
       "      <th>vote_average</th>\n",
       "      <th>vote_count</th>\n",
       "    </tr>\n",
       "  </thead>\n",
       "  <tbody>\n",
       "    <tr>\n",
       "      <th>0</th>\n",
       "      <td>False</td>\n",
       "      <td>{'id': 10194, 'name': 'Toy Story Collection', ...</td>\n",
       "      <td>30000000</td>\n",
       "      <td>[{'id': 16, 'name': 'Animation'}, {'id': 35, '...</td>\n",
       "      <td>http://toystory.disney.com/toy-story</td>\n",
       "      <td>862</td>\n",
       "      <td>tt0114709</td>\n",
       "      <td>en</td>\n",
       "      <td>Toy Story</td>\n",
       "      <td>Led by Woody, Andy's toys live happily in his ...</td>\n",
       "      <td>...</td>\n",
       "      <td>1995-10-30</td>\n",
       "      <td>373554033.0</td>\n",
       "      <td>81.0</td>\n",
       "      <td>[{'iso_639_1': 'en', 'name': 'English'}]</td>\n",
       "      <td>Released</td>\n",
       "      <td>NaN</td>\n",
       "      <td>Toy Story</td>\n",
       "      <td>False</td>\n",
       "      <td>7.7</td>\n",
       "      <td>5415.0</td>\n",
       "    </tr>\n",
       "    <tr>\n",
       "      <th>1</th>\n",
       "      <td>False</td>\n",
       "      <td>NaN</td>\n",
       "      <td>65000000</td>\n",
       "      <td>[{'id': 12, 'name': 'Adventure'}, {'id': 14, '...</td>\n",
       "      <td>NaN</td>\n",
       "      <td>8844</td>\n",
       "      <td>tt0113497</td>\n",
       "      <td>en</td>\n",
       "      <td>Jumanji</td>\n",
       "      <td>When siblings Judy and Peter discover an encha...</td>\n",
       "      <td>...</td>\n",
       "      <td>1995-12-15</td>\n",
       "      <td>262797249.0</td>\n",
       "      <td>104.0</td>\n",
       "      <td>[{'iso_639_1': 'en', 'name': 'English'}, {'iso...</td>\n",
       "      <td>Released</td>\n",
       "      <td>Roll the dice and unleash the excitement!</td>\n",
       "      <td>Jumanji</td>\n",
       "      <td>False</td>\n",
       "      <td>6.9</td>\n",
       "      <td>2413.0</td>\n",
       "    </tr>\n",
       "    <tr>\n",
       "      <th>2</th>\n",
       "      <td>False</td>\n",
       "      <td>{'id': 119050, 'name': 'Grumpy Old Men Collect...</td>\n",
       "      <td>0</td>\n",
       "      <td>[{'id': 10749, 'name': 'Romance'}, {'id': 35, ...</td>\n",
       "      <td>NaN</td>\n",
       "      <td>15602</td>\n",
       "      <td>tt0113228</td>\n",
       "      <td>en</td>\n",
       "      <td>Grumpier Old Men</td>\n",
       "      <td>A family wedding reignites the ancient feud be...</td>\n",
       "      <td>...</td>\n",
       "      <td>1995-12-22</td>\n",
       "      <td>0.0</td>\n",
       "      <td>101.0</td>\n",
       "      <td>[{'iso_639_1': 'en', 'name': 'English'}]</td>\n",
       "      <td>Released</td>\n",
       "      <td>Still Yelling. Still Fighting. Still Ready for...</td>\n",
       "      <td>Grumpier Old Men</td>\n",
       "      <td>False</td>\n",
       "      <td>6.5</td>\n",
       "      <td>92.0</td>\n",
       "    </tr>\n",
       "    <tr>\n",
       "      <th>3</th>\n",
       "      <td>False</td>\n",
       "      <td>NaN</td>\n",
       "      <td>16000000</td>\n",
       "      <td>[{'id': 35, 'name': 'Comedy'}, {'id': 18, 'nam...</td>\n",
       "      <td>NaN</td>\n",
       "      <td>31357</td>\n",
       "      <td>tt0114885</td>\n",
       "      <td>en</td>\n",
       "      <td>Waiting to Exhale</td>\n",
       "      <td>Cheated on, mistreated and stepped on, the wom...</td>\n",
       "      <td>...</td>\n",
       "      <td>1995-12-22</td>\n",
       "      <td>81452156.0</td>\n",
       "      <td>127.0</td>\n",
       "      <td>[{'iso_639_1': 'en', 'name': 'English'}]</td>\n",
       "      <td>Released</td>\n",
       "      <td>Friends are the people who let you be yourself...</td>\n",
       "      <td>Waiting to Exhale</td>\n",
       "      <td>False</td>\n",
       "      <td>6.1</td>\n",
       "      <td>34.0</td>\n",
       "    </tr>\n",
       "    <tr>\n",
       "      <th>4</th>\n",
       "      <td>False</td>\n",
       "      <td>{'id': 96871, 'name': 'Father of the Bride Col...</td>\n",
       "      <td>0</td>\n",
       "      <td>[{'id': 35, 'name': 'Comedy'}]</td>\n",
       "      <td>NaN</td>\n",
       "      <td>11862</td>\n",
       "      <td>tt0113041</td>\n",
       "      <td>en</td>\n",
       "      <td>Father of the Bride Part II</td>\n",
       "      <td>Just when George Banks has recovered from his ...</td>\n",
       "      <td>...</td>\n",
       "      <td>1995-02-10</td>\n",
       "      <td>76578911.0</td>\n",
       "      <td>106.0</td>\n",
       "      <td>[{'iso_639_1': 'en', 'name': 'English'}]</td>\n",
       "      <td>Released</td>\n",
       "      <td>Just When His World Is Back To Normal... He's ...</td>\n",
       "      <td>Father of the Bride Part II</td>\n",
       "      <td>False</td>\n",
       "      <td>5.7</td>\n",
       "      <td>173.0</td>\n",
       "    </tr>\n",
       "  </tbody>\n",
       "</table>\n",
       "<p>5 rows × 24 columns</p>\n",
       "</div>"
      ],
      "text/plain": [
       "   adult                              belongs_to_collection    budget  \\\n",
       "0  False  {'id': 10194, 'name': 'Toy Story Collection', ...  30000000   \n",
       "1  False                                                NaN  65000000   \n",
       "2  False  {'id': 119050, 'name': 'Grumpy Old Men Collect...         0   \n",
       "3  False                                                NaN  16000000   \n",
       "4  False  {'id': 96871, 'name': 'Father of the Bride Col...         0   \n",
       "\n",
       "                                              genres  \\\n",
       "0  [{'id': 16, 'name': 'Animation'}, {'id': 35, '...   \n",
       "1  [{'id': 12, 'name': 'Adventure'}, {'id': 14, '...   \n",
       "2  [{'id': 10749, 'name': 'Romance'}, {'id': 35, ...   \n",
       "3  [{'id': 35, 'name': 'Comedy'}, {'id': 18, 'nam...   \n",
       "4                     [{'id': 35, 'name': 'Comedy'}]   \n",
       "\n",
       "                               homepage     id    imdb_id original_language  \\\n",
       "0  http://toystory.disney.com/toy-story    862  tt0114709                en   \n",
       "1                                   NaN   8844  tt0113497                en   \n",
       "2                                   NaN  15602  tt0113228                en   \n",
       "3                                   NaN  31357  tt0114885                en   \n",
       "4                                   NaN  11862  tt0113041                en   \n",
       "\n",
       "                original_title  \\\n",
       "0                    Toy Story   \n",
       "1                      Jumanji   \n",
       "2             Grumpier Old Men   \n",
       "3            Waiting to Exhale   \n",
       "4  Father of the Bride Part II   \n",
       "\n",
       "                                            overview  ... release_date  \\\n",
       "0  Led by Woody, Andy's toys live happily in his ...  ...   1995-10-30   \n",
       "1  When siblings Judy and Peter discover an encha...  ...   1995-12-15   \n",
       "2  A family wedding reignites the ancient feud be...  ...   1995-12-22   \n",
       "3  Cheated on, mistreated and stepped on, the wom...  ...   1995-12-22   \n",
       "4  Just when George Banks has recovered from his ...  ...   1995-02-10   \n",
       "\n",
       "       revenue runtime                                   spoken_languages  \\\n",
       "0  373554033.0    81.0           [{'iso_639_1': 'en', 'name': 'English'}]   \n",
       "1  262797249.0   104.0  [{'iso_639_1': 'en', 'name': 'English'}, {'iso...   \n",
       "2          0.0   101.0           [{'iso_639_1': 'en', 'name': 'English'}]   \n",
       "3   81452156.0   127.0           [{'iso_639_1': 'en', 'name': 'English'}]   \n",
       "4   76578911.0   106.0           [{'iso_639_1': 'en', 'name': 'English'}]   \n",
       "\n",
       "     status                                            tagline  \\\n",
       "0  Released                                                NaN   \n",
       "1  Released          Roll the dice and unleash the excitement!   \n",
       "2  Released  Still Yelling. Still Fighting. Still Ready for...   \n",
       "3  Released  Friends are the people who let you be yourself...   \n",
       "4  Released  Just When His World Is Back To Normal... He's ...   \n",
       "\n",
       "                         title  video vote_average vote_count  \n",
       "0                    Toy Story  False          7.7     5415.0  \n",
       "1                      Jumanji  False          6.9     2413.0  \n",
       "2             Grumpier Old Men  False          6.5       92.0  \n",
       "3            Waiting to Exhale  False          6.1       34.0  \n",
       "4  Father of the Bride Part II  False          5.7      173.0  \n",
       "\n",
       "[5 rows x 24 columns]"
      ]
     },
     "execution_count": 3,
     "metadata": {},
     "output_type": "execute_result"
    }
   ],
   "source": [
    "movies_metadata.head()"
   ]
  },
  {
   "cell_type": "code",
   "execution_count": 4,
   "metadata": {},
   "outputs": [
    {
     "name": "stdout",
     "output_type": "stream",
     "text": [
      "<class 'pandas.core.frame.DataFrame'>\n",
      "RangeIndex: 45466 entries, 0 to 45465\n",
      "Data columns (total 24 columns):\n",
      " #   Column                 Non-Null Count  Dtype  \n",
      "---  ------                 --------------  -----  \n",
      " 0   adult                  45466 non-null  object \n",
      " 1   belongs_to_collection  4494 non-null   object \n",
      " 2   budget                 45466 non-null  object \n",
      " 3   genres                 45466 non-null  object \n",
      " 4   homepage               7782 non-null   object \n",
      " 5   id                     45466 non-null  object \n",
      " 6   imdb_id                45449 non-null  object \n",
      " 7   original_language      45455 non-null  object \n",
      " 8   original_title         45466 non-null  object \n",
      " 9   overview               44512 non-null  object \n",
      " 10  popularity             45461 non-null  object \n",
      " 11  poster_path            45080 non-null  object \n",
      " 12  production_companies   45463 non-null  object \n",
      " 13  production_countries   45463 non-null  object \n",
      " 14  release_date           45379 non-null  object \n",
      " 15  revenue                45460 non-null  float64\n",
      " 16  runtime                45203 non-null  float64\n",
      " 17  spoken_languages       45460 non-null  object \n",
      " 18  status                 45379 non-null  object \n",
      " 19  tagline                20412 non-null  object \n",
      " 20  title                  45460 non-null  object \n",
      " 21  video                  45460 non-null  object \n",
      " 22  vote_average           45460 non-null  float64\n",
      " 23  vote_count             45460 non-null  float64\n",
      "dtypes: float64(4), object(20)\n",
      "memory usage: 8.3+ MB\n"
     ]
    }
   ],
   "source": [
    "movies_metadata.info()"
   ]
  },
  {
   "cell_type": "code",
   "execution_count": 5,
   "metadata": {},
   "outputs": [
    {
     "data": {
      "text/plain": [
       "adult                        0\n",
       "belongs_to_collection    40972\n",
       "budget                       0\n",
       "genres                       0\n",
       "homepage                 37684\n",
       "id                           0\n",
       "imdb_id                     17\n",
       "original_language           11\n",
       "original_title               0\n",
       "overview                   954\n",
       "popularity                   5\n",
       "poster_path                386\n",
       "production_companies         3\n",
       "production_countries         3\n",
       "release_date                87\n",
       "revenue                      6\n",
       "runtime                    263\n",
       "spoken_languages             6\n",
       "status                      87\n",
       "tagline                  25054\n",
       "title                        6\n",
       "video                        6\n",
       "vote_average                 6\n",
       "vote_count                   6\n",
       "dtype: int64"
      ]
     },
     "execution_count": 5,
     "metadata": {},
     "output_type": "execute_result"
    }
   ],
   "source": [
    "movies_metadata.isnull().sum()"
   ]
  },
  {
   "cell_type": "markdown",
   "metadata": {},
   "source": [
    "### 2. 중복값 / null값 처리\n",
    "- 중복값\n",
    "    - 'id'컬럼(tmdb id) 이용해 확인 가능.\n",
    "- 컬럼별 null값\n",
    "    - 'belongs_to_collection': 시리즈 관련. 시리즈물 여부에 대한 컬럼 생성(null일 경우 0, 값이 존재할 경우 1)해 분석할 수 있을 듯.\n",
    "    - 'homepage': 영화 공식 홈페이지 주소. 컬럼 자체를 삭제해도 무방.\n",
    "    - 'imdb_id': 영화 고유값으로서의 역할은 tmdb id('id' 컬럼)으로도 할 수 있음. 컬럼 자체를 삭제해도 무방.\n",
    "    - 'original_language': null값을 가진 영화만 삭제 또는 검색을 통해 채워넣기 가능\n",
    "    - 'overview': 영화 소개글. 컬럼 자체를 삭제해도 무방.\n",
    "    - 'popularity': tmdb에서 다시 확인해본 뒤 없으면 해당 영화만 삭제.\n",
    "    - 'poster_path': 포스터 이미지 경로값 저장. 컬럼 자체를 삭제해도 무방.\n",
    "    - 'production_companies': null값을 가진 영화만 삭제 또는 검색을 통해 채워넣기 가능\n",
    "    - 'production_countries': null값을 가진 영화만 삭제 또는 검색을 통해 채워넣기 가능\n",
    "    - 'release_date': null값을 가진 영화만 삭제 또는 검색을 통해 채워넣기 가능\n",
    "    - 'revenue': null값 데이터 삭제\n",
    "    - 'runtime': null값을 가진 영화만 삭제 또는 검색을 통해 채워넣기 가능\n",
    "    - 'spoken_language': null값을 가진 영화만 삭제 또는 검색을 통해 채워넣기 가능\n",
    "    - 'status': 개봉한 영화를 대상으로 하므로 값이 'Released'인 경우만 남김\n",
    "    - 'tagline': 태그라인. 유의미한 값이 많으면 자연어 처리를 해볼 수도 있지만, null값의 비율이 커 삭제.\n",
    "    - 'title', 'video', 'vote_average', 'vote_count': 이 컬럼들이 빈 값은 아래와 같이 확인 결과 다른 값도 대다수 비어 있음. 삭제."
   ]
  },
  {
   "cell_type": "code",
   "execution_count": 6,
   "metadata": {},
   "outputs": [
    {
     "data": {
      "text/html": [
       "<div>\n",
       "<style scoped>\n",
       "    .dataframe tbody tr th:only-of-type {\n",
       "        vertical-align: middle;\n",
       "    }\n",
       "\n",
       "    .dataframe tbody tr th {\n",
       "        vertical-align: top;\n",
       "    }\n",
       "\n",
       "    .dataframe thead th {\n",
       "        text-align: right;\n",
       "    }\n",
       "</style>\n",
       "<table border=\"1\" class=\"dataframe\">\n",
       "  <thead>\n",
       "    <tr style=\"text-align: right;\">\n",
       "      <th></th>\n",
       "      <th>adult</th>\n",
       "      <th>belongs_to_collection</th>\n",
       "      <th>budget</th>\n",
       "      <th>genres</th>\n",
       "      <th>homepage</th>\n",
       "      <th>id</th>\n",
       "      <th>imdb_id</th>\n",
       "      <th>original_language</th>\n",
       "      <th>original_title</th>\n",
       "      <th>overview</th>\n",
       "      <th>...</th>\n",
       "      <th>release_date</th>\n",
       "      <th>revenue</th>\n",
       "      <th>runtime</th>\n",
       "      <th>spoken_languages</th>\n",
       "      <th>status</th>\n",
       "      <th>tagline</th>\n",
       "      <th>title</th>\n",
       "      <th>video</th>\n",
       "      <th>vote_average</th>\n",
       "      <th>vote_count</th>\n",
       "    </tr>\n",
       "  </thead>\n",
       "  <tbody>\n",
       "    <tr>\n",
       "      <th>19729</th>\n",
       "      <td>False</td>\n",
       "      <td>NaN</td>\n",
       "      <td>0</td>\n",
       "      <td>[{'id': 28, 'name': 'Action'}, {'id': 53, 'nam...</td>\n",
       "      <td>NaN</td>\n",
       "      <td>82663</td>\n",
       "      <td>tt0113002</td>\n",
       "      <td>en</td>\n",
       "      <td>Midnight Man</td>\n",
       "      <td>British soldiers force a recently captured IRA...</td>\n",
       "      <td>...</td>\n",
       "      <td>NaN</td>\n",
       "      <td>NaN</td>\n",
       "      <td>NaN</td>\n",
       "      <td>NaN</td>\n",
       "      <td>NaN</td>\n",
       "      <td>NaN</td>\n",
       "      <td>NaN</td>\n",
       "      <td>NaN</td>\n",
       "      <td>NaN</td>\n",
       "      <td>NaN</td>\n",
       "    </tr>\n",
       "    <tr>\n",
       "      <th>19730</th>\n",
       "      <td>- Written by Ørnås</td>\n",
       "      <td>0.065736</td>\n",
       "      <td>/ff9qCepilowshEtG2GYWwzt2bs4.jpg</td>\n",
       "      <td>[{'name': 'Carousel Productions', 'id': 11176}...</td>\n",
       "      <td>[{'iso_3166_1': 'CA', 'name': 'Canada'}, {'iso...</td>\n",
       "      <td>1997-08-20</td>\n",
       "      <td>0</td>\n",
       "      <td>104.0</td>\n",
       "      <td>[{'iso_639_1': 'en', 'name': 'English'}]</td>\n",
       "      <td>Released</td>\n",
       "      <td>...</td>\n",
       "      <td>1</td>\n",
       "      <td>NaN</td>\n",
       "      <td>NaN</td>\n",
       "      <td>NaN</td>\n",
       "      <td>NaN</td>\n",
       "      <td>NaN</td>\n",
       "      <td>NaN</td>\n",
       "      <td>NaN</td>\n",
       "      <td>NaN</td>\n",
       "      <td>NaN</td>\n",
       "    </tr>\n",
       "    <tr>\n",
       "      <th>29502</th>\n",
       "      <td>False</td>\n",
       "      <td>{'id': 122661, 'name': 'Mardock Scramble Colle...</td>\n",
       "      <td>0</td>\n",
       "      <td>[{'id': 16, 'name': 'Animation'}, {'id': 878, ...</td>\n",
       "      <td>http://m-scramble.jp/exhaust/</td>\n",
       "      <td>122662</td>\n",
       "      <td>tt2423504</td>\n",
       "      <td>ja</td>\n",
       "      <td>マルドゥック・スクランブル 排気</td>\n",
       "      <td>Third film of the Mardock Scramble series.</td>\n",
       "      <td>...</td>\n",
       "      <td>NaN</td>\n",
       "      <td>NaN</td>\n",
       "      <td>NaN</td>\n",
       "      <td>NaN</td>\n",
       "      <td>NaN</td>\n",
       "      <td>NaN</td>\n",
       "      <td>NaN</td>\n",
       "      <td>NaN</td>\n",
       "      <td>NaN</td>\n",
       "      <td>NaN</td>\n",
       "    </tr>\n",
       "    <tr>\n",
       "      <th>29503</th>\n",
       "      <td>Rune Balot goes to a casino connected to the ...</td>\n",
       "      <td>1.931659</td>\n",
       "      <td>/zV8bHuSL6WXoD6FWogP9j4x80bL.jpg</td>\n",
       "      <td>[{'name': 'Aniplex', 'id': 2883}, {'name': 'Go...</td>\n",
       "      <td>[{'iso_3166_1': 'US', 'name': 'United States o...</td>\n",
       "      <td>2012-09-29</td>\n",
       "      <td>0</td>\n",
       "      <td>68.0</td>\n",
       "      <td>[{'iso_639_1': 'ja', 'name': '日本語'}]</td>\n",
       "      <td>Released</td>\n",
       "      <td>...</td>\n",
       "      <td>12</td>\n",
       "      <td>NaN</td>\n",
       "      <td>NaN</td>\n",
       "      <td>NaN</td>\n",
       "      <td>NaN</td>\n",
       "      <td>NaN</td>\n",
       "      <td>NaN</td>\n",
       "      <td>NaN</td>\n",
       "      <td>NaN</td>\n",
       "      <td>NaN</td>\n",
       "    </tr>\n",
       "    <tr>\n",
       "      <th>35586</th>\n",
       "      <td>False</td>\n",
       "      <td>NaN</td>\n",
       "      <td>0</td>\n",
       "      <td>[{'id': 10770, 'name': 'TV Movie'}, {'id': 28,...</td>\n",
       "      <td>NaN</td>\n",
       "      <td>249260</td>\n",
       "      <td>tt2622826</td>\n",
       "      <td>en</td>\n",
       "      <td>Avalanche Sharks</td>\n",
       "      <td>A group of skiers are terrorized during spring...</td>\n",
       "      <td>...</td>\n",
       "      <td>NaN</td>\n",
       "      <td>NaN</td>\n",
       "      <td>NaN</td>\n",
       "      <td>NaN</td>\n",
       "      <td>NaN</td>\n",
       "      <td>NaN</td>\n",
       "      <td>NaN</td>\n",
       "      <td>NaN</td>\n",
       "      <td>NaN</td>\n",
       "      <td>NaN</td>\n",
       "    </tr>\n",
       "    <tr>\n",
       "      <th>35587</th>\n",
       "      <td>Avalanche Sharks tells the story of a bikini ...</td>\n",
       "      <td>2.185485</td>\n",
       "      <td>/zaSf5OG7V8X8gqFvly88zDdRm46.jpg</td>\n",
       "      <td>[{'name': 'Odyssey Media', 'id': 17161}, {'nam...</td>\n",
       "      <td>[{'iso_3166_1': 'CA', 'name': 'Canada'}]</td>\n",
       "      <td>2014-01-01</td>\n",
       "      <td>0</td>\n",
       "      <td>82.0</td>\n",
       "      <td>[{'iso_639_1': 'en', 'name': 'English'}]</td>\n",
       "      <td>Released</td>\n",
       "      <td>...</td>\n",
       "      <td>22</td>\n",
       "      <td>NaN</td>\n",
       "      <td>NaN</td>\n",
       "      <td>NaN</td>\n",
       "      <td>NaN</td>\n",
       "      <td>NaN</td>\n",
       "      <td>NaN</td>\n",
       "      <td>NaN</td>\n",
       "      <td>NaN</td>\n",
       "      <td>NaN</td>\n",
       "    </tr>\n",
       "  </tbody>\n",
       "</table>\n",
       "<p>6 rows × 24 columns</p>\n",
       "</div>"
      ],
      "text/plain": [
       "                                                   adult  \\\n",
       "19729                                              False   \n",
       "19730                                 - Written by Ørnås   \n",
       "29502                                              False   \n",
       "29503   Rune Balot goes to a casino connected to the ...   \n",
       "35586                                              False   \n",
       "35587   Avalanche Sharks tells the story of a bikini ...   \n",
       "\n",
       "                                   belongs_to_collection  \\\n",
       "19729                                                NaN   \n",
       "19730                                           0.065736   \n",
       "29502  {'id': 122661, 'name': 'Mardock Scramble Colle...   \n",
       "29503                                           1.931659   \n",
       "35586                                                NaN   \n",
       "35587                                           2.185485   \n",
       "\n",
       "                                 budget  \\\n",
       "19729                                 0   \n",
       "19730  /ff9qCepilowshEtG2GYWwzt2bs4.jpg   \n",
       "29502                                 0   \n",
       "29503  /zV8bHuSL6WXoD6FWogP9j4x80bL.jpg   \n",
       "35586                                 0   \n",
       "35587  /zaSf5OG7V8X8gqFvly88zDdRm46.jpg   \n",
       "\n",
       "                                                  genres  \\\n",
       "19729  [{'id': 28, 'name': 'Action'}, {'id': 53, 'nam...   \n",
       "19730  [{'name': 'Carousel Productions', 'id': 11176}...   \n",
       "29502  [{'id': 16, 'name': 'Animation'}, {'id': 878, ...   \n",
       "29503  [{'name': 'Aniplex', 'id': 2883}, {'name': 'Go...   \n",
       "35586  [{'id': 10770, 'name': 'TV Movie'}, {'id': 28,...   \n",
       "35587  [{'name': 'Odyssey Media', 'id': 17161}, {'nam...   \n",
       "\n",
       "                                                homepage          id  \\\n",
       "19729                                                NaN       82663   \n",
       "19730  [{'iso_3166_1': 'CA', 'name': 'Canada'}, {'iso...  1997-08-20   \n",
       "29502                      http://m-scramble.jp/exhaust/      122662   \n",
       "29503  [{'iso_3166_1': 'US', 'name': 'United States o...  2012-09-29   \n",
       "35586                                                NaN      249260   \n",
       "35587           [{'iso_3166_1': 'CA', 'name': 'Canada'}]  2014-01-01   \n",
       "\n",
       "         imdb_id original_language                            original_title  \\\n",
       "19729  tt0113002                en                              Midnight Man   \n",
       "19730          0             104.0  [{'iso_639_1': 'en', 'name': 'English'}]   \n",
       "29502  tt2423504                ja                          マルドゥック・スクランブル 排気   \n",
       "29503          0              68.0      [{'iso_639_1': 'ja', 'name': '日本語'}]   \n",
       "35586  tt2622826                en                          Avalanche Sharks   \n",
       "35587          0              82.0  [{'iso_639_1': 'en', 'name': 'English'}]   \n",
       "\n",
       "                                                overview  ... release_date  \\\n",
       "19729  British soldiers force a recently captured IRA...  ...          NaN   \n",
       "19730                                           Released  ...            1   \n",
       "29502         Third film of the Mardock Scramble series.  ...          NaN   \n",
       "29503                                           Released  ...           12   \n",
       "35586  A group of skiers are terrorized during spring...  ...          NaN   \n",
       "35587                                           Released  ...           22   \n",
       "\n",
       "      revenue runtime spoken_languages status  tagline  title video  \\\n",
       "19729     NaN     NaN              NaN    NaN      NaN    NaN   NaN   \n",
       "19730     NaN     NaN              NaN    NaN      NaN    NaN   NaN   \n",
       "29502     NaN     NaN              NaN    NaN      NaN    NaN   NaN   \n",
       "29503     NaN     NaN              NaN    NaN      NaN    NaN   NaN   \n",
       "35586     NaN     NaN              NaN    NaN      NaN    NaN   NaN   \n",
       "35587     NaN     NaN              NaN    NaN      NaN    NaN   NaN   \n",
       "\n",
       "      vote_average vote_count  \n",
       "19729          NaN        NaN  \n",
       "19730          NaN        NaN  \n",
       "29502          NaN        NaN  \n",
       "29503          NaN        NaN  \n",
       "35586          NaN        NaN  \n",
       "35587          NaN        NaN  \n",
       "\n",
       "[6 rows x 24 columns]"
      ]
     },
     "execution_count": 6,
     "metadata": {},
     "output_type": "execute_result"
    }
   ],
   "source": [
    "movies_metadata[movies_metadata['vote_count'].isnull()]"
   ]
  },
  {
   "cell_type": "markdown",
   "metadata": {},
   "source": [
    "- 위의 결과에서 일부 잘못 들어간 값이 확인됨. 해당 값 삭제 처리.\n",
    "- 앞서 'status' 컬럼에서 'Released'인 경우만 남기기로 했으므로 이 방식으로 잘못 들어간 값도 삭제 가능."
   ]
  },
  {
   "cell_type": "code",
   "execution_count": 7,
   "metadata": {},
   "outputs": [
    {
     "data": {
      "text/html": [
       "<div>\n",
       "<style scoped>\n",
       "    .dataframe tbody tr th:only-of-type {\n",
       "        vertical-align: middle;\n",
       "    }\n",
       "\n",
       "    .dataframe tbody tr th {\n",
       "        vertical-align: top;\n",
       "    }\n",
       "\n",
       "    .dataframe thead th {\n",
       "        text-align: right;\n",
       "    }\n",
       "</style>\n",
       "<table border=\"1\" class=\"dataframe\">\n",
       "  <thead>\n",
       "    <tr style=\"text-align: right;\">\n",
       "      <th></th>\n",
       "      <th>adult</th>\n",
       "      <th>belongs_to_collection</th>\n",
       "      <th>budget</th>\n",
       "      <th>genres</th>\n",
       "      <th>homepage</th>\n",
       "      <th>id</th>\n",
       "      <th>imdb_id</th>\n",
       "      <th>original_language</th>\n",
       "      <th>original_title</th>\n",
       "      <th>overview</th>\n",
       "      <th>...</th>\n",
       "      <th>release_date</th>\n",
       "      <th>revenue</th>\n",
       "      <th>runtime</th>\n",
       "      <th>spoken_languages</th>\n",
       "      <th>status</th>\n",
       "      <th>tagline</th>\n",
       "      <th>title</th>\n",
       "      <th>video</th>\n",
       "      <th>vote_average</th>\n",
       "      <th>vote_count</th>\n",
       "    </tr>\n",
       "  </thead>\n",
       "  <tbody>\n",
       "    <tr>\n",
       "      <th>0</th>\n",
       "      <td>False</td>\n",
       "      <td>{'id': 10194, 'name': 'Toy Story Collection', ...</td>\n",
       "      <td>30000000</td>\n",
       "      <td>[{'id': 16, 'name': 'Animation'}, {'id': 35, '...</td>\n",
       "      <td>http://toystory.disney.com/toy-story</td>\n",
       "      <td>862</td>\n",
       "      <td>tt0114709</td>\n",
       "      <td>en</td>\n",
       "      <td>Toy Story</td>\n",
       "      <td>Led by Woody, Andy's toys live happily in his ...</td>\n",
       "      <td>...</td>\n",
       "      <td>1995-10-30</td>\n",
       "      <td>373554033.0</td>\n",
       "      <td>81.0</td>\n",
       "      <td>[{'iso_639_1': 'en', 'name': 'English'}]</td>\n",
       "      <td>Released</td>\n",
       "      <td>NaN</td>\n",
       "      <td>Toy Story</td>\n",
       "      <td>False</td>\n",
       "      <td>7.7</td>\n",
       "      <td>5415.0</td>\n",
       "    </tr>\n",
       "    <tr>\n",
       "      <th>1</th>\n",
       "      <td>False</td>\n",
       "      <td>NaN</td>\n",
       "      <td>65000000</td>\n",
       "      <td>[{'id': 12, 'name': 'Adventure'}, {'id': 14, '...</td>\n",
       "      <td>NaN</td>\n",
       "      <td>8844</td>\n",
       "      <td>tt0113497</td>\n",
       "      <td>en</td>\n",
       "      <td>Jumanji</td>\n",
       "      <td>When siblings Judy and Peter discover an encha...</td>\n",
       "      <td>...</td>\n",
       "      <td>1995-12-15</td>\n",
       "      <td>262797249.0</td>\n",
       "      <td>104.0</td>\n",
       "      <td>[{'iso_639_1': 'en', 'name': 'English'}, {'iso...</td>\n",
       "      <td>Released</td>\n",
       "      <td>Roll the dice and unleash the excitement!</td>\n",
       "      <td>Jumanji</td>\n",
       "      <td>False</td>\n",
       "      <td>6.9</td>\n",
       "      <td>2413.0</td>\n",
       "    </tr>\n",
       "    <tr>\n",
       "      <th>2</th>\n",
       "      <td>False</td>\n",
       "      <td>{'id': 119050, 'name': 'Grumpy Old Men Collect...</td>\n",
       "      <td>0</td>\n",
       "      <td>[{'id': 10749, 'name': 'Romance'}, {'id': 35, ...</td>\n",
       "      <td>NaN</td>\n",
       "      <td>15602</td>\n",
       "      <td>tt0113228</td>\n",
       "      <td>en</td>\n",
       "      <td>Grumpier Old Men</td>\n",
       "      <td>A family wedding reignites the ancient feud be...</td>\n",
       "      <td>...</td>\n",
       "      <td>1995-12-22</td>\n",
       "      <td>0.0</td>\n",
       "      <td>101.0</td>\n",
       "      <td>[{'iso_639_1': 'en', 'name': 'English'}]</td>\n",
       "      <td>Released</td>\n",
       "      <td>Still Yelling. Still Fighting. Still Ready for...</td>\n",
       "      <td>Grumpier Old Men</td>\n",
       "      <td>False</td>\n",
       "      <td>6.5</td>\n",
       "      <td>92.0</td>\n",
       "    </tr>\n",
       "    <tr>\n",
       "      <th>3</th>\n",
       "      <td>False</td>\n",
       "      <td>NaN</td>\n",
       "      <td>16000000</td>\n",
       "      <td>[{'id': 35, 'name': 'Comedy'}, {'id': 18, 'nam...</td>\n",
       "      <td>NaN</td>\n",
       "      <td>31357</td>\n",
       "      <td>tt0114885</td>\n",
       "      <td>en</td>\n",
       "      <td>Waiting to Exhale</td>\n",
       "      <td>Cheated on, mistreated and stepped on, the wom...</td>\n",
       "      <td>...</td>\n",
       "      <td>1995-12-22</td>\n",
       "      <td>81452156.0</td>\n",
       "      <td>127.0</td>\n",
       "      <td>[{'iso_639_1': 'en', 'name': 'English'}]</td>\n",
       "      <td>Released</td>\n",
       "      <td>Friends are the people who let you be yourself...</td>\n",
       "      <td>Waiting to Exhale</td>\n",
       "      <td>False</td>\n",
       "      <td>6.1</td>\n",
       "      <td>34.0</td>\n",
       "    </tr>\n",
       "    <tr>\n",
       "      <th>4</th>\n",
       "      <td>False</td>\n",
       "      <td>{'id': 96871, 'name': 'Father of the Bride Col...</td>\n",
       "      <td>0</td>\n",
       "      <td>[{'id': 35, 'name': 'Comedy'}]</td>\n",
       "      <td>NaN</td>\n",
       "      <td>11862</td>\n",
       "      <td>tt0113041</td>\n",
       "      <td>en</td>\n",
       "      <td>Father of the Bride Part II</td>\n",
       "      <td>Just when George Banks has recovered from his ...</td>\n",
       "      <td>...</td>\n",
       "      <td>1995-02-10</td>\n",
       "      <td>76578911.0</td>\n",
       "      <td>106.0</td>\n",
       "      <td>[{'iso_639_1': 'en', 'name': 'English'}]</td>\n",
       "      <td>Released</td>\n",
       "      <td>Just When His World Is Back To Normal... He's ...</td>\n",
       "      <td>Father of the Bride Part II</td>\n",
       "      <td>False</td>\n",
       "      <td>5.7</td>\n",
       "      <td>173.0</td>\n",
       "    </tr>\n",
       "  </tbody>\n",
       "</table>\n",
       "<p>5 rows × 24 columns</p>\n",
       "</div>"
      ],
      "text/plain": [
       "   adult                              belongs_to_collection    budget  \\\n",
       "0  False  {'id': 10194, 'name': 'Toy Story Collection', ...  30000000   \n",
       "1  False                                                NaN  65000000   \n",
       "2  False  {'id': 119050, 'name': 'Grumpy Old Men Collect...         0   \n",
       "3  False                                                NaN  16000000   \n",
       "4  False  {'id': 96871, 'name': 'Father of the Bride Col...         0   \n",
       "\n",
       "                                              genres  \\\n",
       "0  [{'id': 16, 'name': 'Animation'}, {'id': 35, '...   \n",
       "1  [{'id': 12, 'name': 'Adventure'}, {'id': 14, '...   \n",
       "2  [{'id': 10749, 'name': 'Romance'}, {'id': 35, ...   \n",
       "3  [{'id': 35, 'name': 'Comedy'}, {'id': 18, 'nam...   \n",
       "4                     [{'id': 35, 'name': 'Comedy'}]   \n",
       "\n",
       "                               homepage     id    imdb_id original_language  \\\n",
       "0  http://toystory.disney.com/toy-story    862  tt0114709                en   \n",
       "1                                   NaN   8844  tt0113497                en   \n",
       "2                                   NaN  15602  tt0113228                en   \n",
       "3                                   NaN  31357  tt0114885                en   \n",
       "4                                   NaN  11862  tt0113041                en   \n",
       "\n",
       "                original_title  \\\n",
       "0                    Toy Story   \n",
       "1                      Jumanji   \n",
       "2             Grumpier Old Men   \n",
       "3            Waiting to Exhale   \n",
       "4  Father of the Bride Part II   \n",
       "\n",
       "                                            overview  ... release_date  \\\n",
       "0  Led by Woody, Andy's toys live happily in his ...  ...   1995-10-30   \n",
       "1  When siblings Judy and Peter discover an encha...  ...   1995-12-15   \n",
       "2  A family wedding reignites the ancient feud be...  ...   1995-12-22   \n",
       "3  Cheated on, mistreated and stepped on, the wom...  ...   1995-12-22   \n",
       "4  Just when George Banks has recovered from his ...  ...   1995-02-10   \n",
       "\n",
       "       revenue runtime                                   spoken_languages  \\\n",
       "0  373554033.0    81.0           [{'iso_639_1': 'en', 'name': 'English'}]   \n",
       "1  262797249.0   104.0  [{'iso_639_1': 'en', 'name': 'English'}, {'iso...   \n",
       "2          0.0   101.0           [{'iso_639_1': 'en', 'name': 'English'}]   \n",
       "3   81452156.0   127.0           [{'iso_639_1': 'en', 'name': 'English'}]   \n",
       "4   76578911.0   106.0           [{'iso_639_1': 'en', 'name': 'English'}]   \n",
       "\n",
       "     status                                            tagline  \\\n",
       "0  Released                                                NaN   \n",
       "1  Released          Roll the dice and unleash the excitement!   \n",
       "2  Released  Still Yelling. Still Fighting. Still Ready for...   \n",
       "3  Released  Friends are the people who let you be yourself...   \n",
       "4  Released  Just When His World Is Back To Normal... He's ...   \n",
       "\n",
       "                         title  video vote_average vote_count  \n",
       "0                    Toy Story  False          7.7     5415.0  \n",
       "1                      Jumanji  False          6.9     2413.0  \n",
       "2             Grumpier Old Men  False          6.5       92.0  \n",
       "3            Waiting to Exhale  False          6.1       34.0  \n",
       "4  Father of the Bride Part II  False          5.7      173.0  \n",
       "\n",
       "[5 rows x 24 columns]"
      ]
     },
     "execution_count": 7,
     "metadata": {},
     "output_type": "execute_result"
    }
   ],
   "source": [
    "is_released = movies_metadata['status'] == 'Released'\n",
    "movies = movies_metadata[is_released]\n",
    "movies.head()"
   ]
  },
  {
   "cell_type": "markdown",
   "metadata": {},
   "source": [
    "#### 1) 중복값 처리"
   ]
  },
  {
   "cell_type": "code",
   "execution_count": 8,
   "metadata": {},
   "outputs": [
    {
     "data": {
      "text/plain": [
       "141971    3\n",
       "152795    2\n",
       "265189    2\n",
       "119916    2\n",
       "13209     2\n",
       "         ..\n",
       "47808     1\n",
       "33217     1\n",
       "29989     1\n",
       "90634     1\n",
       "461257    1\n",
       "Name: id, Length: 44985, dtype: int64"
      ]
     },
     "execution_count": 8,
     "metadata": {},
     "output_type": "execute_result"
    }
   ],
   "source": [
    "movies['id'].value_counts()"
   ]
  },
  {
   "cell_type": "code",
   "execution_count": 9,
   "metadata": {},
   "outputs": [
    {
     "name": "stderr",
     "output_type": "stream",
     "text": [
      "C:\\Users\\ser\\miniconda3\\envs\\ds_study\\lib\\site-packages\\pandas\\util\\_decorators.py:311: SettingWithCopyWarning: \n",
      "A value is trying to be set on a copy of a slice from a DataFrame\n",
      "\n",
      "See the caveats in the documentation: https://pandas.pydata.org/pandas-docs/stable/user_guide/indexing.html#returning-a-view-versus-a-copy\n",
      "  return func(*args, **kwargs)\n"
     ]
    }
   ],
   "source": [
    "movies.drop_duplicates(['id'], inplace=True)"
   ]
  },
  {
   "cell_type": "code",
   "execution_count": 10,
   "metadata": {},
   "outputs": [
    {
     "data": {
      "text/plain": [
       "862       1\n",
       "117452    1\n",
       "175518    1\n",
       "146730    1\n",
       "72204     1\n",
       "         ..\n",
       "31561     1\n",
       "1912      1\n",
       "35002     1\n",
       "47813     1\n",
       "461257    1\n",
       "Name: id, Length: 44985, dtype: int64"
      ]
     },
     "execution_count": 10,
     "metadata": {},
     "output_type": "execute_result"
    }
   ],
   "source": [
    "# 확인\n",
    "movies['id'].value_counts()"
   ]
  },
  {
   "cell_type": "markdown",
   "metadata": {},
   "source": [
    "#### 2) null값 처리"
   ]
  },
  {
   "cell_type": "code",
   "execution_count": 11,
   "metadata": {},
   "outputs": [
    {
     "data": {
      "text/plain": [
       "adult                        0\n",
       "belongs_to_collection    40522\n",
       "budget                       0\n",
       "genres                       0\n",
       "homepage                 37284\n",
       "id                           0\n",
       "imdb_id                     15\n",
       "original_language           10\n",
       "original_title               0\n",
       "overview                   920\n",
       "popularity                   0\n",
       "poster_path                373\n",
       "production_companies         0\n",
       "production_countries         0\n",
       "release_date                78\n",
       "revenue                      0\n",
       "runtime                    251\n",
       "spoken_languages             0\n",
       "status                       0\n",
       "tagline                  24696\n",
       "title                        0\n",
       "video                        0\n",
       "vote_average                 0\n",
       "vote_count                   0\n",
       "dtype: int64"
      ]
     },
     "execution_count": 11,
     "metadata": {},
     "output_type": "execute_result"
    }
   ],
   "source": [
    "movies.isnull().sum()"
   ]
  },
  {
   "cell_type": "markdown",
   "metadata": {},
   "source": [
    "- original_language 컬럼 null값은 검색해 추가"
   ]
  },
  {
   "cell_type": "code",
   "execution_count": 12,
   "metadata": {},
   "outputs": [],
   "source": [
    "movies = movies.reset_index()"
   ]
  },
  {
   "cell_type": "code",
   "execution_count": 13,
   "metadata": {},
   "outputs": [],
   "source": [
    "movies.drop('index', axis=1, inplace=True)"
   ]
  },
  {
   "cell_type": "code",
   "execution_count": 14,
   "metadata": {},
   "outputs": [
    {
     "data": {
      "text/html": [
       "<div>\n",
       "<style scoped>\n",
       "    .dataframe tbody tr th:only-of-type {\n",
       "        vertical-align: middle;\n",
       "    }\n",
       "\n",
       "    .dataframe tbody tr th {\n",
       "        vertical-align: top;\n",
       "    }\n",
       "\n",
       "    .dataframe thead th {\n",
       "        text-align: right;\n",
       "    }\n",
       "</style>\n",
       "<table border=\"1\" class=\"dataframe\">\n",
       "  <thead>\n",
       "    <tr style=\"text-align: right;\">\n",
       "      <th></th>\n",
       "      <th>adult</th>\n",
       "      <th>belongs_to_collection</th>\n",
       "      <th>budget</th>\n",
       "      <th>genres</th>\n",
       "      <th>homepage</th>\n",
       "      <th>id</th>\n",
       "      <th>imdb_id</th>\n",
       "      <th>original_language</th>\n",
       "      <th>original_title</th>\n",
       "      <th>overview</th>\n",
       "      <th>...</th>\n",
       "      <th>release_date</th>\n",
       "      <th>revenue</th>\n",
       "      <th>runtime</th>\n",
       "      <th>spoken_languages</th>\n",
       "      <th>status</th>\n",
       "      <th>tagline</th>\n",
       "      <th>title</th>\n",
       "      <th>video</th>\n",
       "      <th>vote_average</th>\n",
       "      <th>vote_count</th>\n",
       "    </tr>\n",
       "  </thead>\n",
       "  <tbody>\n",
       "    <tr>\n",
       "      <th>19452</th>\n",
       "      <td>False</td>\n",
       "      <td>NaN</td>\n",
       "      <td>0</td>\n",
       "      <td>[{'id': 99, 'name': 'Documentary'}]</td>\n",
       "      <td>NaN</td>\n",
       "      <td>283101</td>\n",
       "      <td>tt0429086</td>\n",
       "      <td>NaN</td>\n",
       "      <td>Shadowing the Third Man</td>\n",
       "      <td>Documentary about the production of The Third ...</td>\n",
       "      <td>...</td>\n",
       "      <td>2004-10-11</td>\n",
       "      <td>0.0</td>\n",
       "      <td>95.0</td>\n",
       "      <td>[{'iso_639_1': 'de', 'name': 'Deutsch'}, {'iso...</td>\n",
       "      <td>Released</td>\n",
       "      <td>NaN</td>\n",
       "      <td>Shadowing the Third Man</td>\n",
       "      <td>False</td>\n",
       "      <td>0.0</td>\n",
       "      <td>0.0</td>\n",
       "    </tr>\n",
       "    <tr>\n",
       "      <th>21456</th>\n",
       "      <td>False</td>\n",
       "      <td>NaN</td>\n",
       "      <td>0</td>\n",
       "      <td>[{'id': 10749, 'name': 'Romance'}, {'id': 18, ...</td>\n",
       "      <td>NaN</td>\n",
       "      <td>103902</td>\n",
       "      <td>tt0838231</td>\n",
       "      <td>NaN</td>\n",
       "      <td>Unfinished Sky</td>\n",
       "      <td>An Outback farmer takes in an Afghani woman wh...</td>\n",
       "      <td>...</td>\n",
       "      <td>2007-08-04</td>\n",
       "      <td>0.0</td>\n",
       "      <td>94.0</td>\n",
       "      <td>[{'iso_639_1': 'en', 'name': 'English'}]</td>\n",
       "      <td>Released</td>\n",
       "      <td>NaN</td>\n",
       "      <td>Unfinished Sky</td>\n",
       "      <td>False</td>\n",
       "      <td>6.4</td>\n",
       "      <td>8.0</td>\n",
       "    </tr>\n",
       "    <tr>\n",
       "      <th>22673</th>\n",
       "      <td>False</td>\n",
       "      <td>NaN</td>\n",
       "      <td>0</td>\n",
       "      <td>[{'id': 10752, 'name': 'War'}, {'id': 37, 'nam...</td>\n",
       "      <td>NaN</td>\n",
       "      <td>359195</td>\n",
       "      <td>tt0053558</td>\n",
       "      <td>NaN</td>\n",
       "      <td>13 Fighting Men</td>\n",
       "      <td>A group of Union Army soldiers is charged with...</td>\n",
       "      <td>...</td>\n",
       "      <td>1960-03-31</td>\n",
       "      <td>0.0</td>\n",
       "      <td>69.0</td>\n",
       "      <td>[{'iso_639_1': 'en', 'name': 'English'}]</td>\n",
       "      <td>Released</td>\n",
       "      <td>NaN</td>\n",
       "      <td>13 Fighting Men</td>\n",
       "      <td>False</td>\n",
       "      <td>0.0</td>\n",
       "      <td>0.0</td>\n",
       "    </tr>\n",
       "    <tr>\n",
       "      <th>31873</th>\n",
       "      <td>False</td>\n",
       "      <td>NaN</td>\n",
       "      <td>0</td>\n",
       "      <td>[{'id': 35, 'name': 'Comedy'}]</td>\n",
       "      <td>NaN</td>\n",
       "      <td>147050</td>\n",
       "      <td>tt0122580</td>\n",
       "      <td>NaN</td>\n",
       "      <td>Lambchops</td>\n",
       "      <td>George and Gracie enter an elegant drawing roo...</td>\n",
       "      <td>...</td>\n",
       "      <td>1929-10-31</td>\n",
       "      <td>0.0</td>\n",
       "      <td>8.0</td>\n",
       "      <td>[{'iso_639_1': 'en', 'name': 'English'}]</td>\n",
       "      <td>Released</td>\n",
       "      <td>NaN</td>\n",
       "      <td>Lambchops</td>\n",
       "      <td>False</td>\n",
       "      <td>6.5</td>\n",
       "      <td>2.0</td>\n",
       "    </tr>\n",
       "    <tr>\n",
       "      <th>37071</th>\n",
       "      <td>False</td>\n",
       "      <td>NaN</td>\n",
       "      <td>0</td>\n",
       "      <td>[{'id': 16, 'name': 'Animation'}]</td>\n",
       "      <td>NaN</td>\n",
       "      <td>257095</td>\n",
       "      <td>tt0225145</td>\n",
       "      <td>NaN</td>\n",
       "      <td>Bajaja</td>\n",
       "      <td>The first fairy tale transformed into a full-l...</td>\n",
       "      <td>...</td>\n",
       "      <td>1950-01-26</td>\n",
       "      <td>0.0</td>\n",
       "      <td>87.0</td>\n",
       "      <td>[{'iso_639_1': 'cs', 'name': 'Český'}]</td>\n",
       "      <td>Released</td>\n",
       "      <td>NaN</td>\n",
       "      <td>Prince Bayaya</td>\n",
       "      <td>False</td>\n",
       "      <td>5.0</td>\n",
       "      <td>1.0</td>\n",
       "    </tr>\n",
       "    <tr>\n",
       "      <th>40657</th>\n",
       "      <td>False</td>\n",
       "      <td>NaN</td>\n",
       "      <td>0</td>\n",
       "      <td>[{'id': 99, 'name': 'Documentary'}]</td>\n",
       "      <td>NaN</td>\n",
       "      <td>332742</td>\n",
       "      <td>tt4432912</td>\n",
       "      <td>NaN</td>\n",
       "      <td>Song of Lahore</td>\n",
       "      <td>Until the late 1970s, the Pakistani city of La...</td>\n",
       "      <td>...</td>\n",
       "      <td>2015-11-13</td>\n",
       "      <td>0.0</td>\n",
       "      <td>82.0</td>\n",
       "      <td>[{'iso_639_1': 'ur', 'name': 'اردو'}, {'iso_63...</td>\n",
       "      <td>Released</td>\n",
       "      <td>NaN</td>\n",
       "      <td>Song of Lahore</td>\n",
       "      <td>False</td>\n",
       "      <td>6.5</td>\n",
       "      <td>2.0</td>\n",
       "    </tr>\n",
       "    <tr>\n",
       "      <th>41469</th>\n",
       "      <td>False</td>\n",
       "      <td>NaN</td>\n",
       "      <td>0</td>\n",
       "      <td>[{'id': 99, 'name': 'Documentary'}]</td>\n",
       "      <td>NaN</td>\n",
       "      <td>144410</td>\n",
       "      <td>tt0154152</td>\n",
       "      <td>NaN</td>\n",
       "      <td>Annabelle Serpentine Dance</td>\n",
       "      <td>Two dancers perform in succession facing a sta...</td>\n",
       "      <td>...</td>\n",
       "      <td>1895-04-01</td>\n",
       "      <td>0.0</td>\n",
       "      <td>1.0</td>\n",
       "      <td>[{'iso_639_1': 'xx', 'name': 'No Language'}]</td>\n",
       "      <td>Released</td>\n",
       "      <td>NaN</td>\n",
       "      <td>Annabelle Serpentine Dance</td>\n",
       "      <td>False</td>\n",
       "      <td>5.7</td>\n",
       "      <td>20.0</td>\n",
       "    </tr>\n",
       "    <tr>\n",
       "      <th>43614</th>\n",
       "      <td>False</td>\n",
       "      <td>NaN</td>\n",
       "      <td>0</td>\n",
       "      <td>[{'id': 18, 'name': 'Drama'}]</td>\n",
       "      <td>NaN</td>\n",
       "      <td>380438</td>\n",
       "      <td>tt0298411</td>\n",
       "      <td>NaN</td>\n",
       "      <td>Lettre d'une inconnue</td>\n",
       "      <td>NaN</td>\n",
       "      <td>...</td>\n",
       "      <td>2001-01-01</td>\n",
       "      <td>0.0</td>\n",
       "      <td>0.0</td>\n",
       "      <td>[{'iso_639_1': 'fr', 'name': 'Français'}]</td>\n",
       "      <td>Released</td>\n",
       "      <td>NaN</td>\n",
       "      <td>Lettre d'une inconnue</td>\n",
       "      <td>False</td>\n",
       "      <td>0.0</td>\n",
       "      <td>0.0</td>\n",
       "    </tr>\n",
       "    <tr>\n",
       "      <th>43959</th>\n",
       "      <td>False</td>\n",
       "      <td>NaN</td>\n",
       "      <td>0</td>\n",
       "      <td>[{'id': 16, 'name': 'Animation'}, {'id': 99, '...</td>\n",
       "      <td>NaN</td>\n",
       "      <td>381096</td>\n",
       "      <td>tt5333518</td>\n",
       "      <td>NaN</td>\n",
       "      <td>Garn</td>\n",
       "      <td>The traditional crafts of crochet and knitting...</td>\n",
       "      <td>...</td>\n",
       "      <td>2016-03-12</td>\n",
       "      <td>0.0</td>\n",
       "      <td>76.0</td>\n",
       "      <td>[{'iso_639_1': 'sv', 'name': 'svenska'}, {'iso...</td>\n",
       "      <td>Released</td>\n",
       "      <td>NaN</td>\n",
       "      <td>Yarn</td>\n",
       "      <td>False</td>\n",
       "      <td>0.0</td>\n",
       "      <td>0.0</td>\n",
       "    </tr>\n",
       "    <tr>\n",
       "      <th>44119</th>\n",
       "      <td>False</td>\n",
       "      <td>NaN</td>\n",
       "      <td>0</td>\n",
       "      <td>[]</td>\n",
       "      <td>NaN</td>\n",
       "      <td>381525</td>\n",
       "      <td>tt5376720</td>\n",
       "      <td>NaN</td>\n",
       "      <td>WiNWiN</td>\n",
       "      <td>American investment fund buys Austrian compani...</td>\n",
       "      <td>...</td>\n",
       "      <td>2016-01-27</td>\n",
       "      <td>0.0</td>\n",
       "      <td>84.0</td>\n",
       "      <td>[{'iso_639_1': 'de', 'name': 'Deutsch'}, {'iso...</td>\n",
       "      <td>Released</td>\n",
       "      <td>NaN</td>\n",
       "      <td>WiNWiN</td>\n",
       "      <td>False</td>\n",
       "      <td>0.0</td>\n",
       "      <td>0.0</td>\n",
       "    </tr>\n",
       "  </tbody>\n",
       "</table>\n",
       "<p>10 rows × 24 columns</p>\n",
       "</div>"
      ],
      "text/plain": [
       "       adult belongs_to_collection budget  \\\n",
       "19452  False                   NaN      0   \n",
       "21456  False                   NaN      0   \n",
       "22673  False                   NaN      0   \n",
       "31873  False                   NaN      0   \n",
       "37071  False                   NaN      0   \n",
       "40657  False                   NaN      0   \n",
       "41469  False                   NaN      0   \n",
       "43614  False                   NaN      0   \n",
       "43959  False                   NaN      0   \n",
       "44119  False                   NaN      0   \n",
       "\n",
       "                                                  genres homepage      id  \\\n",
       "19452                [{'id': 99, 'name': 'Documentary'}]      NaN  283101   \n",
       "21456  [{'id': 10749, 'name': 'Romance'}, {'id': 18, ...      NaN  103902   \n",
       "22673  [{'id': 10752, 'name': 'War'}, {'id': 37, 'nam...      NaN  359195   \n",
       "31873                     [{'id': 35, 'name': 'Comedy'}]      NaN  147050   \n",
       "37071                  [{'id': 16, 'name': 'Animation'}]      NaN  257095   \n",
       "40657                [{'id': 99, 'name': 'Documentary'}]      NaN  332742   \n",
       "41469                [{'id': 99, 'name': 'Documentary'}]      NaN  144410   \n",
       "43614                      [{'id': 18, 'name': 'Drama'}]      NaN  380438   \n",
       "43959  [{'id': 16, 'name': 'Animation'}, {'id': 99, '...      NaN  381096   \n",
       "44119                                                 []      NaN  381525   \n",
       "\n",
       "         imdb_id original_language              original_title  \\\n",
       "19452  tt0429086               NaN     Shadowing the Third Man   \n",
       "21456  tt0838231               NaN              Unfinished Sky   \n",
       "22673  tt0053558               NaN             13 Fighting Men   \n",
       "31873  tt0122580               NaN                   Lambchops   \n",
       "37071  tt0225145               NaN                      Bajaja   \n",
       "40657  tt4432912               NaN              Song of Lahore   \n",
       "41469  tt0154152               NaN  Annabelle Serpentine Dance   \n",
       "43614  tt0298411               NaN       Lettre d'une inconnue   \n",
       "43959  tt5333518               NaN                        Garn   \n",
       "44119  tt5376720               NaN                      WiNWiN   \n",
       "\n",
       "                                                overview  ... release_date  \\\n",
       "19452  Documentary about the production of The Third ...  ...   2004-10-11   \n",
       "21456  An Outback farmer takes in an Afghani woman wh...  ...   2007-08-04   \n",
       "22673  A group of Union Army soldiers is charged with...  ...   1960-03-31   \n",
       "31873  George and Gracie enter an elegant drawing roo...  ...   1929-10-31   \n",
       "37071  The first fairy tale transformed into a full-l...  ...   1950-01-26   \n",
       "40657  Until the late 1970s, the Pakistani city of La...  ...   2015-11-13   \n",
       "41469  Two dancers perform in succession facing a sta...  ...   1895-04-01   \n",
       "43614                                                NaN  ...   2001-01-01   \n",
       "43959  The traditional crafts of crochet and knitting...  ...   2016-03-12   \n",
       "44119  American investment fund buys Austrian compani...  ...   2016-01-27   \n",
       "\n",
       "      revenue runtime                                   spoken_languages  \\\n",
       "19452     0.0    95.0  [{'iso_639_1': 'de', 'name': 'Deutsch'}, {'iso...   \n",
       "21456     0.0    94.0           [{'iso_639_1': 'en', 'name': 'English'}]   \n",
       "22673     0.0    69.0           [{'iso_639_1': 'en', 'name': 'English'}]   \n",
       "31873     0.0     8.0           [{'iso_639_1': 'en', 'name': 'English'}]   \n",
       "37071     0.0    87.0             [{'iso_639_1': 'cs', 'name': 'Český'}]   \n",
       "40657     0.0    82.0  [{'iso_639_1': 'ur', 'name': 'اردو'}, {'iso_63...   \n",
       "41469     0.0     1.0       [{'iso_639_1': 'xx', 'name': 'No Language'}]   \n",
       "43614     0.0     0.0          [{'iso_639_1': 'fr', 'name': 'Français'}]   \n",
       "43959     0.0    76.0  [{'iso_639_1': 'sv', 'name': 'svenska'}, {'iso...   \n",
       "44119     0.0    84.0  [{'iso_639_1': 'de', 'name': 'Deutsch'}, {'iso...   \n",
       "\n",
       "         status  tagline                       title  video vote_average  \\\n",
       "19452  Released      NaN     Shadowing the Third Man  False          0.0   \n",
       "21456  Released      NaN              Unfinished Sky  False          6.4   \n",
       "22673  Released      NaN             13 Fighting Men  False          0.0   \n",
       "31873  Released      NaN                   Lambchops  False          6.5   \n",
       "37071  Released      NaN               Prince Bayaya  False          5.0   \n",
       "40657  Released      NaN              Song of Lahore  False          6.5   \n",
       "41469  Released      NaN  Annabelle Serpentine Dance  False          5.7   \n",
       "43614  Released      NaN       Lettre d'une inconnue  False          0.0   \n",
       "43959  Released      NaN                        Yarn  False          0.0   \n",
       "44119  Released      NaN                      WiNWiN  False          0.0   \n",
       "\n",
       "      vote_count  \n",
       "19452        0.0  \n",
       "21456        8.0  \n",
       "22673        0.0  \n",
       "31873        2.0  \n",
       "37071        1.0  \n",
       "40657        2.0  \n",
       "41469       20.0  \n",
       "43614        0.0  \n",
       "43959        0.0  \n",
       "44119        0.0  \n",
       "\n",
       "[10 rows x 24 columns]"
      ]
     },
     "execution_count": 14,
     "metadata": {},
     "output_type": "execute_result"
    }
   ],
   "source": [
    "movies[movies['original_language'].isnull()]"
   ]
  },
  {
   "cell_type": "code",
   "execution_count": 15,
   "metadata": {},
   "outputs": [],
   "source": [
    "movies.iloc[19452, 7] = 'en'\n",
    "movies.iloc[21456, 7] = 'en'\n",
    "movies.iloc[22673, 7] = 'en'\n",
    "movies.iloc[31873, 7] = 'en'\n",
    "movies.iloc[37071, 7] = 'cz'\n",
    "movies.iloc[40657, 7] = 'en'\n",
    "movies.iloc[43614, 7] = 'fr'\n",
    "movies.iloc[43959, 7] = 'en'\n",
    "movies.iloc[44119, 7] = 'de'\n",
    "\n",
    "# 'Annabelle Serpentine Dance'는 무성영화로 보임"
   ]
  },
  {
   "cell_type": "code",
   "execution_count": 16,
   "metadata": {},
   "outputs": [
    {
     "data": {
      "text/html": [
       "<div>\n",
       "<style scoped>\n",
       "    .dataframe tbody tr th:only-of-type {\n",
       "        vertical-align: middle;\n",
       "    }\n",
       "\n",
       "    .dataframe tbody tr th {\n",
       "        vertical-align: top;\n",
       "    }\n",
       "\n",
       "    .dataframe thead th {\n",
       "        text-align: right;\n",
       "    }\n",
       "</style>\n",
       "<table border=\"1\" class=\"dataframe\">\n",
       "  <thead>\n",
       "    <tr style=\"text-align: right;\">\n",
       "      <th></th>\n",
       "      <th>adult</th>\n",
       "      <th>belongs_to_collection</th>\n",
       "      <th>budget</th>\n",
       "      <th>genres</th>\n",
       "      <th>homepage</th>\n",
       "      <th>id</th>\n",
       "      <th>imdb_id</th>\n",
       "      <th>original_language</th>\n",
       "      <th>original_title</th>\n",
       "      <th>overview</th>\n",
       "      <th>...</th>\n",
       "      <th>release_date</th>\n",
       "      <th>revenue</th>\n",
       "      <th>runtime</th>\n",
       "      <th>spoken_languages</th>\n",
       "      <th>status</th>\n",
       "      <th>tagline</th>\n",
       "      <th>title</th>\n",
       "      <th>video</th>\n",
       "      <th>vote_average</th>\n",
       "      <th>vote_count</th>\n",
       "    </tr>\n",
       "  </thead>\n",
       "  <tbody>\n",
       "    <tr>\n",
       "      <th>41469</th>\n",
       "      <td>False</td>\n",
       "      <td>NaN</td>\n",
       "      <td>0</td>\n",
       "      <td>[{'id': 99, 'name': 'Documentary'}]</td>\n",
       "      <td>NaN</td>\n",
       "      <td>144410</td>\n",
       "      <td>tt0154152</td>\n",
       "      <td>NaN</td>\n",
       "      <td>Annabelle Serpentine Dance</td>\n",
       "      <td>Two dancers perform in succession facing a sta...</td>\n",
       "      <td>...</td>\n",
       "      <td>1895-04-01</td>\n",
       "      <td>0.0</td>\n",
       "      <td>1.0</td>\n",
       "      <td>[{'iso_639_1': 'xx', 'name': 'No Language'}]</td>\n",
       "      <td>Released</td>\n",
       "      <td>NaN</td>\n",
       "      <td>Annabelle Serpentine Dance</td>\n",
       "      <td>False</td>\n",
       "      <td>5.7</td>\n",
       "      <td>20.0</td>\n",
       "    </tr>\n",
       "  </tbody>\n",
       "</table>\n",
       "<p>1 rows × 24 columns</p>\n",
       "</div>"
      ],
      "text/plain": [
       "       adult belongs_to_collection budget  \\\n",
       "41469  False                   NaN      0   \n",
       "\n",
       "                                    genres homepage      id    imdb_id  \\\n",
       "41469  [{'id': 99, 'name': 'Documentary'}]      NaN  144410  tt0154152   \n",
       "\n",
       "      original_language              original_title  \\\n",
       "41469               NaN  Annabelle Serpentine Dance   \n",
       "\n",
       "                                                overview  ... release_date  \\\n",
       "41469  Two dancers perform in succession facing a sta...  ...   1895-04-01   \n",
       "\n",
       "      revenue runtime                              spoken_languages    status  \\\n",
       "41469     0.0     1.0  [{'iso_639_1': 'xx', 'name': 'No Language'}]  Released   \n",
       "\n",
       "       tagline                       title  video vote_average vote_count  \n",
       "41469      NaN  Annabelle Serpentine Dance  False          5.7       20.0  \n",
       "\n",
       "[1 rows x 24 columns]"
      ]
     },
     "execution_count": 16,
     "metadata": {},
     "output_type": "execute_result"
    }
   ],
   "source": [
    "# 확인\n",
    "movies[movies['original_language'].isnull()]"
   ]
  },
  {
   "cell_type": "markdown",
   "metadata": {},
   "source": [
    "- 'release_date' / 'runtime' 컬럼 null값은 제외 처리"
   ]
  },
  {
   "cell_type": "code",
   "execution_count": 17,
   "metadata": {},
   "outputs": [
    {
     "data": {
      "text/html": [
       "<div>\n",
       "<style scoped>\n",
       "    .dataframe tbody tr th:only-of-type {\n",
       "        vertical-align: middle;\n",
       "    }\n",
       "\n",
       "    .dataframe tbody tr th {\n",
       "        vertical-align: top;\n",
       "    }\n",
       "\n",
       "    .dataframe thead th {\n",
       "        text-align: right;\n",
       "    }\n",
       "</style>\n",
       "<table border=\"1\" class=\"dataframe\">\n",
       "  <thead>\n",
       "    <tr style=\"text-align: right;\">\n",
       "      <th></th>\n",
       "      <th>adult</th>\n",
       "      <th>belongs_to_collection</th>\n",
       "      <th>budget</th>\n",
       "      <th>genres</th>\n",
       "      <th>homepage</th>\n",
       "      <th>id</th>\n",
       "      <th>imdb_id</th>\n",
       "      <th>original_language</th>\n",
       "      <th>original_title</th>\n",
       "      <th>overview</th>\n",
       "      <th>...</th>\n",
       "      <th>release_date</th>\n",
       "      <th>revenue</th>\n",
       "      <th>runtime</th>\n",
       "      <th>spoken_languages</th>\n",
       "      <th>status</th>\n",
       "      <th>tagline</th>\n",
       "      <th>title</th>\n",
       "      <th>video</th>\n",
       "      <th>vote_average</th>\n",
       "      <th>vote_count</th>\n",
       "    </tr>\n",
       "  </thead>\n",
       "  <tbody>\n",
       "    <tr>\n",
       "      <th>0</th>\n",
       "      <td>False</td>\n",
       "      <td>{'id': 10194, 'name': 'Toy Story Collection', ...</td>\n",
       "      <td>30000000</td>\n",
       "      <td>[{'id': 16, 'name': 'Animation'}, {'id': 35, '...</td>\n",
       "      <td>http://toystory.disney.com/toy-story</td>\n",
       "      <td>862</td>\n",
       "      <td>tt0114709</td>\n",
       "      <td>en</td>\n",
       "      <td>Toy Story</td>\n",
       "      <td>Led by Woody, Andy's toys live happily in his ...</td>\n",
       "      <td>...</td>\n",
       "      <td>1995-10-30</td>\n",
       "      <td>373554033.0</td>\n",
       "      <td>81.0</td>\n",
       "      <td>[{'iso_639_1': 'en', 'name': 'English'}]</td>\n",
       "      <td>Released</td>\n",
       "      <td>NaN</td>\n",
       "      <td>Toy Story</td>\n",
       "      <td>False</td>\n",
       "      <td>7.7</td>\n",
       "      <td>5415.0</td>\n",
       "    </tr>\n",
       "    <tr>\n",
       "      <th>1</th>\n",
       "      <td>False</td>\n",
       "      <td>NaN</td>\n",
       "      <td>65000000</td>\n",
       "      <td>[{'id': 12, 'name': 'Adventure'}, {'id': 14, '...</td>\n",
       "      <td>NaN</td>\n",
       "      <td>8844</td>\n",
       "      <td>tt0113497</td>\n",
       "      <td>en</td>\n",
       "      <td>Jumanji</td>\n",
       "      <td>When siblings Judy and Peter discover an encha...</td>\n",
       "      <td>...</td>\n",
       "      <td>1995-12-15</td>\n",
       "      <td>262797249.0</td>\n",
       "      <td>104.0</td>\n",
       "      <td>[{'iso_639_1': 'en', 'name': 'English'}, {'iso...</td>\n",
       "      <td>Released</td>\n",
       "      <td>Roll the dice and unleash the excitement!</td>\n",
       "      <td>Jumanji</td>\n",
       "      <td>False</td>\n",
       "      <td>6.9</td>\n",
       "      <td>2413.0</td>\n",
       "    </tr>\n",
       "    <tr>\n",
       "      <th>2</th>\n",
       "      <td>False</td>\n",
       "      <td>{'id': 119050, 'name': 'Grumpy Old Men Collect...</td>\n",
       "      <td>0</td>\n",
       "      <td>[{'id': 10749, 'name': 'Romance'}, {'id': 35, ...</td>\n",
       "      <td>NaN</td>\n",
       "      <td>15602</td>\n",
       "      <td>tt0113228</td>\n",
       "      <td>en</td>\n",
       "      <td>Grumpier Old Men</td>\n",
       "      <td>A family wedding reignites the ancient feud be...</td>\n",
       "      <td>...</td>\n",
       "      <td>1995-12-22</td>\n",
       "      <td>0.0</td>\n",
       "      <td>101.0</td>\n",
       "      <td>[{'iso_639_1': 'en', 'name': 'English'}]</td>\n",
       "      <td>Released</td>\n",
       "      <td>Still Yelling. Still Fighting. Still Ready for...</td>\n",
       "      <td>Grumpier Old Men</td>\n",
       "      <td>False</td>\n",
       "      <td>6.5</td>\n",
       "      <td>92.0</td>\n",
       "    </tr>\n",
       "    <tr>\n",
       "      <th>3</th>\n",
       "      <td>False</td>\n",
       "      <td>NaN</td>\n",
       "      <td>16000000</td>\n",
       "      <td>[{'id': 35, 'name': 'Comedy'}, {'id': 18, 'nam...</td>\n",
       "      <td>NaN</td>\n",
       "      <td>31357</td>\n",
       "      <td>tt0114885</td>\n",
       "      <td>en</td>\n",
       "      <td>Waiting to Exhale</td>\n",
       "      <td>Cheated on, mistreated and stepped on, the wom...</td>\n",
       "      <td>...</td>\n",
       "      <td>1995-12-22</td>\n",
       "      <td>81452156.0</td>\n",
       "      <td>127.0</td>\n",
       "      <td>[{'iso_639_1': 'en', 'name': 'English'}]</td>\n",
       "      <td>Released</td>\n",
       "      <td>Friends are the people who let you be yourself...</td>\n",
       "      <td>Waiting to Exhale</td>\n",
       "      <td>False</td>\n",
       "      <td>6.1</td>\n",
       "      <td>34.0</td>\n",
       "    </tr>\n",
       "    <tr>\n",
       "      <th>4</th>\n",
       "      <td>False</td>\n",
       "      <td>{'id': 96871, 'name': 'Father of the Bride Col...</td>\n",
       "      <td>0</td>\n",
       "      <td>[{'id': 35, 'name': 'Comedy'}]</td>\n",
       "      <td>NaN</td>\n",
       "      <td>11862</td>\n",
       "      <td>tt0113041</td>\n",
       "      <td>en</td>\n",
       "      <td>Father of the Bride Part II</td>\n",
       "      <td>Just when George Banks has recovered from his ...</td>\n",
       "      <td>...</td>\n",
       "      <td>1995-02-10</td>\n",
       "      <td>76578911.0</td>\n",
       "      <td>106.0</td>\n",
       "      <td>[{'iso_639_1': 'en', 'name': 'English'}]</td>\n",
       "      <td>Released</td>\n",
       "      <td>Just When His World Is Back To Normal... He's ...</td>\n",
       "      <td>Father of the Bride Part II</td>\n",
       "      <td>False</td>\n",
       "      <td>5.7</td>\n",
       "      <td>173.0</td>\n",
       "    </tr>\n",
       "  </tbody>\n",
       "</table>\n",
       "<p>5 rows × 24 columns</p>\n",
       "</div>"
      ],
      "text/plain": [
       "   adult                              belongs_to_collection    budget  \\\n",
       "0  False  {'id': 10194, 'name': 'Toy Story Collection', ...  30000000   \n",
       "1  False                                                NaN  65000000   \n",
       "2  False  {'id': 119050, 'name': 'Grumpy Old Men Collect...         0   \n",
       "3  False                                                NaN  16000000   \n",
       "4  False  {'id': 96871, 'name': 'Father of the Bride Col...         0   \n",
       "\n",
       "                                              genres  \\\n",
       "0  [{'id': 16, 'name': 'Animation'}, {'id': 35, '...   \n",
       "1  [{'id': 12, 'name': 'Adventure'}, {'id': 14, '...   \n",
       "2  [{'id': 10749, 'name': 'Romance'}, {'id': 35, ...   \n",
       "3  [{'id': 35, 'name': 'Comedy'}, {'id': 18, 'nam...   \n",
       "4                     [{'id': 35, 'name': 'Comedy'}]   \n",
       "\n",
       "                               homepage     id    imdb_id original_language  \\\n",
       "0  http://toystory.disney.com/toy-story    862  tt0114709                en   \n",
       "1                                   NaN   8844  tt0113497                en   \n",
       "2                                   NaN  15602  tt0113228                en   \n",
       "3                                   NaN  31357  tt0114885                en   \n",
       "4                                   NaN  11862  tt0113041                en   \n",
       "\n",
       "                original_title  \\\n",
       "0                    Toy Story   \n",
       "1                      Jumanji   \n",
       "2             Grumpier Old Men   \n",
       "3            Waiting to Exhale   \n",
       "4  Father of the Bride Part II   \n",
       "\n",
       "                                            overview  ... release_date  \\\n",
       "0  Led by Woody, Andy's toys live happily in his ...  ...   1995-10-30   \n",
       "1  When siblings Judy and Peter discover an encha...  ...   1995-12-15   \n",
       "2  A family wedding reignites the ancient feud be...  ...   1995-12-22   \n",
       "3  Cheated on, mistreated and stepped on, the wom...  ...   1995-12-22   \n",
       "4  Just when George Banks has recovered from his ...  ...   1995-02-10   \n",
       "\n",
       "       revenue runtime                                   spoken_languages  \\\n",
       "0  373554033.0    81.0           [{'iso_639_1': 'en', 'name': 'English'}]   \n",
       "1  262797249.0   104.0  [{'iso_639_1': 'en', 'name': 'English'}, {'iso...   \n",
       "2          0.0   101.0           [{'iso_639_1': 'en', 'name': 'English'}]   \n",
       "3   81452156.0   127.0           [{'iso_639_1': 'en', 'name': 'English'}]   \n",
       "4   76578911.0   106.0           [{'iso_639_1': 'en', 'name': 'English'}]   \n",
       "\n",
       "     status                                            tagline  \\\n",
       "0  Released                                                NaN   \n",
       "1  Released          Roll the dice and unleash the excitement!   \n",
       "2  Released  Still Yelling. Still Fighting. Still Ready for...   \n",
       "3  Released  Friends are the people who let you be yourself...   \n",
       "4  Released  Just When His World Is Back To Normal... He's ...   \n",
       "\n",
       "                         title  video vote_average vote_count  \n",
       "0                    Toy Story  False          7.7     5415.0  \n",
       "1                      Jumanji  False          6.9     2413.0  \n",
       "2             Grumpier Old Men  False          6.5       92.0  \n",
       "3            Waiting to Exhale  False          6.1       34.0  \n",
       "4  Father of the Bride Part II  False          5.7      173.0  \n",
       "\n",
       "[5 rows x 24 columns]"
      ]
     },
     "execution_count": 17,
     "metadata": {},
     "output_type": "execute_result"
    }
   ],
   "source": [
    "movies = movies[movies['release_date'].notna()]\n",
    "movies.head()"
   ]
  },
  {
   "cell_type": "code",
   "execution_count": 18,
   "metadata": {},
   "outputs": [],
   "source": [
    "movies = movies[movies['runtime'].notna()]"
   ]
  },
  {
   "cell_type": "markdown",
   "metadata": {},
   "source": [
    "- genres, production_companies 컬럼은 번호와 이름 분리해 리스트 형식으로 새 컬럼 생성.\n",
    "- spoken_languages, production_countries 컬럼은 이름만 분리해 새 컬럼 생성."
   ]
  },
  {
   "cell_type": "code",
   "execution_count": 19,
   "metadata": {},
   "outputs": [
    {
     "data": {
      "text/plain": [
       "str"
      ]
     },
     "execution_count": 19,
     "metadata": {},
     "output_type": "execute_result"
    }
   ],
   "source": [
    "type(movies['genres'][0])"
   ]
  },
  {
   "cell_type": "code",
   "execution_count": 20,
   "metadata": {},
   "outputs": [],
   "source": [
    "import ast"
   ]
  },
  {
   "cell_type": "code",
   "execution_count": 21,
   "metadata": {},
   "outputs": [],
   "source": [
    "movies['genres'] = movies['genres'].apply(ast.literal_eval)"
   ]
  },
  {
   "cell_type": "code",
   "execution_count": 22,
   "metadata": {},
   "outputs": [],
   "source": [
    "movies['genres_id'] = movies['genres'].apply(lambda x: [v.get('id') for v in x])\n",
    "movies['genres_name'] = movies['genres'].apply(lambda x: [v.get('name') for v in x])"
   ]
  },
  {
   "cell_type": "code",
   "execution_count": 23,
   "metadata": {},
   "outputs": [
    {
     "data": {
      "text/plain": [
       "str"
      ]
     },
     "execution_count": 23,
     "metadata": {},
     "output_type": "execute_result"
    }
   ],
   "source": [
    "type(movies['production_companies'][0])"
   ]
  },
  {
   "cell_type": "code",
   "execution_count": 24,
   "metadata": {},
   "outputs": [],
   "source": [
    "movies['production_companies'] = movies['production_companies'].apply(ast.literal_eval)\n",
    "movies['production_companies_id'] = movies['production_companies'].apply(lambda x: [v.get('id') for v in x])\n",
    "movies['production_companies_name'] = movies['production_companies'].apply(lambda x: [v.get('name') for v in x])"
   ]
  },
  {
   "cell_type": "code",
   "execution_count": 25,
   "metadata": {},
   "outputs": [
    {
     "data": {
      "text/plain": [
       "str"
      ]
     },
     "execution_count": 25,
     "metadata": {},
     "output_type": "execute_result"
    }
   ],
   "source": [
    "type(movies['spoken_languages'][0])"
   ]
  },
  {
   "cell_type": "code",
   "execution_count": 26,
   "metadata": {},
   "outputs": [],
   "source": [
    "movies['spoken_languages'] = movies['spoken_languages'].apply(ast.literal_eval)\n",
    "movies['spoken_languages'] = movies['spoken_languages'].apply(lambda x: [v.get('name') for v in x])"
   ]
  },
  {
   "cell_type": "code",
   "execution_count": 28,
   "metadata": {},
   "outputs": [
    {
     "data": {
      "text/plain": [
       "str"
      ]
     },
     "execution_count": 28,
     "metadata": {},
     "output_type": "execute_result"
    }
   ],
   "source": [
    "type(movies['production_countries'][0])"
   ]
  },
  {
   "cell_type": "code",
   "execution_count": 29,
   "metadata": {},
   "outputs": [],
   "source": [
    "movies['production_countries'] = movies['production_countries'].apply(ast.literal_eval)\n",
    "movies['production_countries'] = movies['production_countries'].apply(lambda x: [v.get('name') for v in x])"
   ]
  },
  {
   "cell_type": "markdown",
   "metadata": {},
   "source": [
    "- 필요한 컬럼만 남기고 삭제.\n",
    "- budget, revenue, vote_average 는 성공을 예측하는 다른 척도로 설정했으므로 제외.\n",
    "- status는 Released만 남겼으므로 제외."
   ]
  },
  {
   "cell_type": "code",
   "execution_count": 30,
   "metadata": {},
   "outputs": [],
   "source": [
    "movies_df = movies[['original_title', 'title', 'id', 'release_date', 'genres_name', 'genres_id', 'runtime', 'popularity', 'original_language', 'spoken_languages', 'production_companies_name', 'production_companies_id', 'production_countries', 'adult', 'vote_count']]"
   ]
  },
  {
   "cell_type": "code",
   "execution_count": 31,
   "metadata": {},
   "outputs": [
    {
     "data": {
      "text/html": [
       "<div>\n",
       "<style scoped>\n",
       "    .dataframe tbody tr th:only-of-type {\n",
       "        vertical-align: middle;\n",
       "    }\n",
       "\n",
       "    .dataframe tbody tr th {\n",
       "        vertical-align: top;\n",
       "    }\n",
       "\n",
       "    .dataframe thead th {\n",
       "        text-align: right;\n",
       "    }\n",
       "</style>\n",
       "<table border=\"1\" class=\"dataframe\">\n",
       "  <thead>\n",
       "    <tr style=\"text-align: right;\">\n",
       "      <th></th>\n",
       "      <th>original_title</th>\n",
       "      <th>title</th>\n",
       "      <th>id</th>\n",
       "      <th>release_date</th>\n",
       "      <th>genres_name</th>\n",
       "      <th>genres_id</th>\n",
       "      <th>runtime</th>\n",
       "      <th>popularity</th>\n",
       "      <th>original_language</th>\n",
       "      <th>spoken_languages</th>\n",
       "      <th>production_companies_name</th>\n",
       "      <th>production_companies_id</th>\n",
       "      <th>production_countries</th>\n",
       "      <th>adult</th>\n",
       "      <th>vote_count</th>\n",
       "    </tr>\n",
       "  </thead>\n",
       "  <tbody>\n",
       "    <tr>\n",
       "      <th>0</th>\n",
       "      <td>Toy Story</td>\n",
       "      <td>Toy Story</td>\n",
       "      <td>862</td>\n",
       "      <td>1995-10-30</td>\n",
       "      <td>[Animation, Comedy, Family]</td>\n",
       "      <td>[16, 35, 10751]</td>\n",
       "      <td>81.0</td>\n",
       "      <td>21.946943</td>\n",
       "      <td>en</td>\n",
       "      <td>[English]</td>\n",
       "      <td>[Pixar Animation Studios]</td>\n",
       "      <td>[3]</td>\n",
       "      <td>[United States of America]</td>\n",
       "      <td>False</td>\n",
       "      <td>5415.0</td>\n",
       "    </tr>\n",
       "    <tr>\n",
       "      <th>1</th>\n",
       "      <td>Jumanji</td>\n",
       "      <td>Jumanji</td>\n",
       "      <td>8844</td>\n",
       "      <td>1995-12-15</td>\n",
       "      <td>[Adventure, Fantasy, Family]</td>\n",
       "      <td>[12, 14, 10751]</td>\n",
       "      <td>104.0</td>\n",
       "      <td>17.015539</td>\n",
       "      <td>en</td>\n",
       "      <td>[English, Français]</td>\n",
       "      <td>[TriStar Pictures, Teitler Film, Interscope Co...</td>\n",
       "      <td>[559, 2550, 10201]</td>\n",
       "      <td>[United States of America]</td>\n",
       "      <td>False</td>\n",
       "      <td>2413.0</td>\n",
       "    </tr>\n",
       "    <tr>\n",
       "      <th>2</th>\n",
       "      <td>Grumpier Old Men</td>\n",
       "      <td>Grumpier Old Men</td>\n",
       "      <td>15602</td>\n",
       "      <td>1995-12-22</td>\n",
       "      <td>[Romance, Comedy]</td>\n",
       "      <td>[10749, 35]</td>\n",
       "      <td>101.0</td>\n",
       "      <td>11.7129</td>\n",
       "      <td>en</td>\n",
       "      <td>[English]</td>\n",
       "      <td>[Warner Bros., Lancaster Gate]</td>\n",
       "      <td>[6194, 19464]</td>\n",
       "      <td>[United States of America]</td>\n",
       "      <td>False</td>\n",
       "      <td>92.0</td>\n",
       "    </tr>\n",
       "    <tr>\n",
       "      <th>3</th>\n",
       "      <td>Waiting to Exhale</td>\n",
       "      <td>Waiting to Exhale</td>\n",
       "      <td>31357</td>\n",
       "      <td>1995-12-22</td>\n",
       "      <td>[Comedy, Drama, Romance]</td>\n",
       "      <td>[35, 18, 10749]</td>\n",
       "      <td>127.0</td>\n",
       "      <td>3.859495</td>\n",
       "      <td>en</td>\n",
       "      <td>[English]</td>\n",
       "      <td>[Twentieth Century Fox Film Corporation]</td>\n",
       "      <td>[306]</td>\n",
       "      <td>[United States of America]</td>\n",
       "      <td>False</td>\n",
       "      <td>34.0</td>\n",
       "    </tr>\n",
       "    <tr>\n",
       "      <th>4</th>\n",
       "      <td>Father of the Bride Part II</td>\n",
       "      <td>Father of the Bride Part II</td>\n",
       "      <td>11862</td>\n",
       "      <td>1995-02-10</td>\n",
       "      <td>[Comedy]</td>\n",
       "      <td>[35]</td>\n",
       "      <td>106.0</td>\n",
       "      <td>8.387519</td>\n",
       "      <td>en</td>\n",
       "      <td>[English]</td>\n",
       "      <td>[Sandollar Productions, Touchstone Pictures]</td>\n",
       "      <td>[5842, 9195]</td>\n",
       "      <td>[United States of America]</td>\n",
       "      <td>False</td>\n",
       "      <td>173.0</td>\n",
       "    </tr>\n",
       "  </tbody>\n",
       "</table>\n",
       "</div>"
      ],
      "text/plain": [
       "                original_title                        title     id  \\\n",
       "0                    Toy Story                    Toy Story    862   \n",
       "1                      Jumanji                      Jumanji   8844   \n",
       "2             Grumpier Old Men             Grumpier Old Men  15602   \n",
       "3            Waiting to Exhale            Waiting to Exhale  31357   \n",
       "4  Father of the Bride Part II  Father of the Bride Part II  11862   \n",
       "\n",
       "  release_date                   genres_name        genres_id  runtime  \\\n",
       "0   1995-10-30   [Animation, Comedy, Family]  [16, 35, 10751]     81.0   \n",
       "1   1995-12-15  [Adventure, Fantasy, Family]  [12, 14, 10751]    104.0   \n",
       "2   1995-12-22             [Romance, Comedy]      [10749, 35]    101.0   \n",
       "3   1995-12-22      [Comedy, Drama, Romance]  [35, 18, 10749]    127.0   \n",
       "4   1995-02-10                      [Comedy]             [35]    106.0   \n",
       "\n",
       "  popularity original_language     spoken_languages  \\\n",
       "0  21.946943                en            [English]   \n",
       "1  17.015539                en  [English, Français]   \n",
       "2    11.7129                en            [English]   \n",
       "3   3.859495                en            [English]   \n",
       "4   8.387519                en            [English]   \n",
       "\n",
       "                           production_companies_name production_companies_id  \\\n",
       "0                          [Pixar Animation Studios]                     [3]   \n",
       "1  [TriStar Pictures, Teitler Film, Interscope Co...      [559, 2550, 10201]   \n",
       "2                     [Warner Bros., Lancaster Gate]           [6194, 19464]   \n",
       "3           [Twentieth Century Fox Film Corporation]                   [306]   \n",
       "4       [Sandollar Productions, Touchstone Pictures]            [5842, 9195]   \n",
       "\n",
       "         production_countries  adult  vote_count  \n",
       "0  [United States of America]  False      5415.0  \n",
       "1  [United States of America]  False      2413.0  \n",
       "2  [United States of America]  False        92.0  \n",
       "3  [United States of America]  False        34.0  \n",
       "4  [United States of America]  False       173.0  "
      ]
     },
     "execution_count": 31,
     "metadata": {},
     "output_type": "execute_result"
    }
   ],
   "source": [
    "movies_df.head()"
   ]
  },
  {
   "cell_type": "code",
   "execution_count": 32,
   "metadata": {},
   "outputs": [
    {
     "name": "stdout",
     "output_type": "stream",
     "text": [
      "<class 'pandas.core.frame.DataFrame'>\n",
      "Int64Index: 44667 entries, 0 to 44984\n",
      "Data columns (total 28 columns):\n",
      " #   Column                     Non-Null Count  Dtype  \n",
      "---  ------                     --------------  -----  \n",
      " 0   adult                      44667 non-null  object \n",
      " 1   belongs_to_collection      4456 non-null   object \n",
      " 2   budget                     44667 non-null  object \n",
      " 3   genres                     44667 non-null  object \n",
      " 4   homepage                   7690 non-null   object \n",
      " 5   id                         44667 non-null  object \n",
      " 6   imdb_id                    44657 non-null  object \n",
      " 7   original_language          44666 non-null  object \n",
      " 8   original_title             44667 non-null  object \n",
      " 9   overview                   44000 non-null  object \n",
      " 10  popularity                 44667 non-null  object \n",
      " 11  poster_path                44352 non-null  object \n",
      " 12  production_companies       44667 non-null  object \n",
      " 13  production_countries       44667 non-null  object \n",
      " 14  release_date               44667 non-null  object \n",
      " 15  revenue                    44667 non-null  float64\n",
      " 16  runtime                    44667 non-null  float64\n",
      " 17  spoken_languages           44667 non-null  object \n",
      " 18  status                     44667 non-null  object \n",
      " 19  tagline                    20276 non-null  object \n",
      " 20  title                      44667 non-null  object \n",
      " 21  video                      44667 non-null  object \n",
      " 22  vote_average               44667 non-null  float64\n",
      " 23  vote_count                 44667 non-null  float64\n",
      " 24  genres_id                  44667 non-null  object \n",
      " 25  genres_name                44667 non-null  object \n",
      " 26  production_companies_id    44667 non-null  object \n",
      " 27  production_companies_name  44667 non-null  object \n",
      "dtypes: float64(4), object(24)\n",
      "memory usage: 10.9+ MB\n"
     ]
    }
   ],
   "source": [
    "movies.info()"
   ]
  },
  {
   "cell_type": "code",
   "execution_count": 33,
   "metadata": {},
   "outputs": [],
   "source": [
    "movies_df.to_csv(\n",
    "    \"../data/movie_df.csv\", sep=\",\", encoding=\"utf-8\"\n",
    ")"
   ]
  },
  {
   "cell_type": "code",
   "execution_count": 34,
   "metadata": {},
   "outputs": [],
   "source": [
    "movies_df = pd.read_csv(\"../data/movie_df.csv\", encoding=\"utf-8\")"
   ]
  },
  {
   "cell_type": "markdown",
   "metadata": {},
   "source": [
    "### 3. Credit, Keyword 컬럼 추가"
   ]
  },
  {
   "cell_type": "markdown",
   "metadata": {},
   "source": [
    "#### 1) credit.csv 정리"
   ]
  },
  {
   "cell_type": "code",
   "execution_count": 35,
   "metadata": {},
   "outputs": [
    {
     "data": {
      "text/html": [
       "<div>\n",
       "<style scoped>\n",
       "    .dataframe tbody tr th:only-of-type {\n",
       "        vertical-align: middle;\n",
       "    }\n",
       "\n",
       "    .dataframe tbody tr th {\n",
       "        vertical-align: top;\n",
       "    }\n",
       "\n",
       "    .dataframe thead th {\n",
       "        text-align: right;\n",
       "    }\n",
       "</style>\n",
       "<table border=\"1\" class=\"dataframe\">\n",
       "  <thead>\n",
       "    <tr style=\"text-align: right;\">\n",
       "      <th></th>\n",
       "      <th>cast</th>\n",
       "      <th>crew</th>\n",
       "      <th>id</th>\n",
       "    </tr>\n",
       "  </thead>\n",
       "  <tbody>\n",
       "    <tr>\n",
       "      <th>45471</th>\n",
       "      <td>[{'cast_id': 0, 'character': '', 'credit_id': ...</td>\n",
       "      <td>[{'credit_id': '5894a97d925141426c00818c', 'de...</td>\n",
       "      <td>439050</td>\n",
       "    </tr>\n",
       "    <tr>\n",
       "      <th>45472</th>\n",
       "      <td>[{'cast_id': 1002, 'character': 'Sister Angela...</td>\n",
       "      <td>[{'credit_id': '52fe4af1c3a36847f81e9b15', 'de...</td>\n",
       "      <td>111109</td>\n",
       "    </tr>\n",
       "    <tr>\n",
       "      <th>45473</th>\n",
       "      <td>[{'cast_id': 6, 'character': 'Emily Shaw', 'cr...</td>\n",
       "      <td>[{'credit_id': '52fe4776c3a368484e0c8387', 'de...</td>\n",
       "      <td>67758</td>\n",
       "    </tr>\n",
       "    <tr>\n",
       "      <th>45474</th>\n",
       "      <td>[{'cast_id': 2, 'character': '', 'credit_id': ...</td>\n",
       "      <td>[{'credit_id': '533bccebc3a36844cf0011a7', 'de...</td>\n",
       "      <td>227506</td>\n",
       "    </tr>\n",
       "    <tr>\n",
       "      <th>45475</th>\n",
       "      <td>[]</td>\n",
       "      <td>[{'credit_id': '593e676c92514105b702e68e', 'de...</td>\n",
       "      <td>461257</td>\n",
       "    </tr>\n",
       "  </tbody>\n",
       "</table>\n",
       "</div>"
      ],
      "text/plain": [
       "                                                    cast  \\\n",
       "45471  [{'cast_id': 0, 'character': '', 'credit_id': ...   \n",
       "45472  [{'cast_id': 1002, 'character': 'Sister Angela...   \n",
       "45473  [{'cast_id': 6, 'character': 'Emily Shaw', 'cr...   \n",
       "45474  [{'cast_id': 2, 'character': '', 'credit_id': ...   \n",
       "45475                                                 []   \n",
       "\n",
       "                                                    crew      id  \n",
       "45471  [{'credit_id': '5894a97d925141426c00818c', 'de...  439050  \n",
       "45472  [{'credit_id': '52fe4af1c3a36847f81e9b15', 'de...  111109  \n",
       "45473  [{'credit_id': '52fe4776c3a368484e0c8387', 'de...   67758  \n",
       "45474  [{'credit_id': '533bccebc3a36844cf0011a7', 'de...  227506  \n",
       "45475  [{'credit_id': '593e676c92514105b702e68e', 'de...  461257  "
      ]
     },
     "execution_count": 35,
     "metadata": {},
     "output_type": "execute_result"
    }
   ],
   "source": [
    "credits = pd.read_csv('../data/credits.csv')\n",
    "credits.tail()"
   ]
  },
  {
   "cell_type": "code",
   "execution_count": 36,
   "metadata": {},
   "outputs": [
    {
     "data": {
      "text/plain": [
       "str"
      ]
     },
     "execution_count": 36,
     "metadata": {},
     "output_type": "execute_result"
    }
   ],
   "source": [
    "type(credits['cast'][0])"
   ]
  },
  {
   "cell_type": "code",
   "execution_count": 37,
   "metadata": {},
   "outputs": [
    {
     "data": {
      "text/plain": [
       "\"[{'cast_id': 14, 'character': 'Woody (voice)', 'credit_id': '52fe4284c3a36847f8024f95', 'gender': 2, 'id': 31, 'name': 'Tom Hanks', 'order': 0, 'profile_path': '/pQFoyx7rp09CJTAb932F2g8Nlho.jpg'}, {'cast_id': 15, 'character': 'Buzz Lightyear (voice)', 'credit_id': '52fe4284c3a36847f8024f99', 'gender': 2, 'id': 12898, 'name': 'Tim Allen', 'order': 1, 'profile_path': '/uX2xVf6pMmPepxnvFWyBtjexzgY.jpg'}, {'cast_id': 16, 'character': 'Mr. Potato Head (voice)', 'credit_id': '52fe4284c3a36847f8024f9d', 'gender': 2, 'id': 7167, 'name': 'Don Rickles', 'order': 2, 'profile_path': '/h5BcaDMPRVLHLDzbQavec4xfSdt.jpg'}, {'cast_id': 17, 'character': 'Slinky Dog (voice)', 'credit_id': '52fe4284c3a36847f8024fa1', 'gender': 2, 'id': 12899, 'name': 'Jim Varney', 'order': 3, 'profile_path': '/eIo2jVVXYgjDtaHoF19Ll9vtW7h.jpg'}, {'cast_id': 18, 'character': 'Rex (voice)', 'credit_id': '52fe4284c3a36847f8024fa5', 'gender': 2, 'id': 12900, 'name': 'Wallace Shawn', 'order': 4, 'profile_path': '/oGE6JqPP2xH4tNORKNqxbNPYi7u.jpg'}, {'cast_id': 19, 'character': 'Hamm (voice)', 'credit_id': '52fe4284c3a36847f8024fa9', 'gender': 2, 'id': 7907, 'name': 'John Ratzenberger', 'order': 5, 'profile_path': '/yGechiKWL6TJDfVE2KPSJYqdMsY.jpg'}, {'cast_id': 20, 'character': 'Bo Peep (voice)', 'credit_id': '52fe4284c3a36847f8024fad', 'gender': 1, 'id': 8873, 'name': 'Annie Potts', 'order': 6, 'profile_path': '/eryXT84RL41jHSJcMy4kS3u9y6w.jpg'}, {'cast_id': 26, 'character': 'Andy (voice)', 'credit_id': '52fe4284c3a36847f8024fc1', 'gender': 0, 'id': 1116442, 'name': 'John Morris', 'order': 7, 'profile_path': '/vYGyvK4LzeaUCoNSHtsuqJUY15M.jpg'}, {'cast_id': 22, 'character': 'Sid (voice)', 'credit_id': '52fe4284c3a36847f8024fb1', 'gender': 2, 'id': 12901, 'name': 'Erik von Detten', 'order': 8, 'profile_path': '/twnF1ZaJ1FUNUuo6xLXwcxjayBE.jpg'}, {'cast_id': 23, 'character': 'Mrs. Davis (voice)', 'credit_id': '52fe4284c3a36847f8024fb5', 'gender': 1, 'id': 12133, 'name': 'Laurie Metcalf', 'order': 9, 'profile_path': '/unMMIT60eoBM2sN2nyR7EZ2BvvD.jpg'}, {'cast_id': 24, 'character': 'Sergeant (voice)', 'credit_id': '52fe4284c3a36847f8024fb9', 'gender': 2, 'id': 8655, 'name': 'R. Lee Ermey', 'order': 10, 'profile_path': '/r8GBqFBjypLUP9VVqDqfZ7wYbSs.jpg'}, {'cast_id': 25, 'character': 'Hannah (voice)', 'credit_id': '52fe4284c3a36847f8024fbd', 'gender': 1, 'id': 12903, 'name': 'Sarah Freeman', 'order': 11, 'profile_path': None}, {'cast_id': 27, 'character': 'TV Announcer (voice)', 'credit_id': '52fe4284c3a36847f8024fc5', 'gender': 2, 'id': 37221, 'name': 'Penn Jillette', 'order': 12, 'profile_path': '/zmAaXUdx12NRsssgHbk1T31j2x9.jpg'}]\""
      ]
     },
     "execution_count": 37,
     "metadata": {},
     "output_type": "execute_result"
    }
   ],
   "source": [
    "credits['cast'][0]"
   ]
  },
  {
   "cell_type": "code",
   "execution_count": 38,
   "metadata": {},
   "outputs": [],
   "source": [
    "# cast가 없을 수 있음. 자연다큐 등. 없는 값은 그대로 둠.\n",
    "\n",
    "credits['cast'] = credits['cast'].apply(ast.literal_eval)\n",
    "credits['cast_id'] = credits['cast'].apply(lambda x: [v.get('id') for v in x])\n",
    "credits['cast_name'] = credits['cast'].apply(lambda x: [v.get('name') for v in x])"
   ]
  },
  {
   "cell_type": "code",
   "execution_count": 39,
   "metadata": {},
   "outputs": [
    {
     "data": {
      "text/plain": [
       "str"
      ]
     },
     "execution_count": 39,
     "metadata": {},
     "output_type": "execute_result"
    }
   ],
   "source": [
    "type(credits['crew'][0])"
   ]
  },
  {
   "cell_type": "code",
   "execution_count": 40,
   "metadata": {},
   "outputs": [
    {
     "data": {
      "text/plain": [
       "'[{\\'credit_id\\': \\'52fe4284c3a36847f8024f49\\', \\'department\\': \\'Directing\\', \\'gender\\': 2, \\'id\\': 7879, \\'job\\': \\'Director\\', \\'name\\': \\'John Lasseter\\', \\'profile_path\\': \\'/7EdqiNbr4FRjIhKHyPPdFfEEEFG.jpg\\'}, {\\'credit_id\\': \\'52fe4284c3a36847f8024f4f\\', \\'department\\': \\'Writing\\', \\'gender\\': 2, \\'id\\': 12891, \\'job\\': \\'Screenplay\\', \\'name\\': \\'Joss Whedon\\', \\'profile_path\\': \\'/dTiVsuaTVTeGmvkhcyJvKp2A5kr.jpg\\'}, {\\'credit_id\\': \\'52fe4284c3a36847f8024f55\\', \\'department\\': \\'Writing\\', \\'gender\\': 2, \\'id\\': 7, \\'job\\': \\'Screenplay\\', \\'name\\': \\'Andrew Stanton\\', \\'profile_path\\': \\'/pvQWsu0qc8JFQhMVJkTHuexUAa1.jpg\\'}, {\\'credit_id\\': \\'52fe4284c3a36847f8024f5b\\', \\'department\\': \\'Writing\\', \\'gender\\': 2, \\'id\\': 12892, \\'job\\': \\'Screenplay\\', \\'name\\': \\'Joel Cohen\\', \\'profile_path\\': \\'/dAubAiZcvKFbboWlj7oXOkZnTSu.jpg\\'}, {\\'credit_id\\': \\'52fe4284c3a36847f8024f61\\', \\'department\\': \\'Writing\\', \\'gender\\': 0, \\'id\\': 12893, \\'job\\': \\'Screenplay\\', \\'name\\': \\'Alec Sokolow\\', \\'profile_path\\': \\'/v79vlRYi94BZUQnkkyznbGUZLjT.jpg\\'}, {\\'credit_id\\': \\'52fe4284c3a36847f8024f67\\', \\'department\\': \\'Production\\', \\'gender\\': 1, \\'id\\': 12894, \\'job\\': \\'Producer\\', \\'name\\': \\'Bonnie Arnold\\', \\'profile_path\\': None}, {\\'credit_id\\': \\'52fe4284c3a36847f8024f6d\\', \\'department\\': \\'Production\\', \\'gender\\': 0, \\'id\\': 12895, \\'job\\': \\'Executive Producer\\', \\'name\\': \\'Ed Catmull\\', \\'profile_path\\': None}, {\\'credit_id\\': \\'52fe4284c3a36847f8024f73\\', \\'department\\': \\'Production\\', \\'gender\\': 2, \\'id\\': 12896, \\'job\\': \\'Producer\\', \\'name\\': \\'Ralph Guggenheim\\', \\'profile_path\\': None}, {\\'credit_id\\': \\'52fe4284c3a36847f8024f79\\', \\'department\\': \\'Production\\', \\'gender\\': 2, \\'id\\': 12897, \\'job\\': \\'Executive Producer\\', \\'name\\': \\'Steve Jobs\\', \\'profile_path\\': \\'/mOMP3SwD5qWQSR0ldCIByd3guTV.jpg\\'}, {\\'credit_id\\': \\'52fe4284c3a36847f8024f8b\\', \\'department\\': \\'Editing\\', \\'gender\\': 2, \\'id\\': 8, \\'job\\': \\'Editor\\', \\'name\\': \\'Lee Unkrich\\', \\'profile_path\\': \\'/bdTCCXjgOV3YyaNmLGYGOxFQMOc.jpg\\'}, {\\'credit_id\\': \\'52fe4284c3a36847f8024f91\\', \\'department\\': \\'Art\\', \\'gender\\': 2, \\'id\\': 7883, \\'job\\': \\'Art Direction\\', \\'name\\': \\'Ralph Eggleston\\', \\'profile_path\\': \\'/uUfcGKDsKO1aROMpXRs67Hn6RvR.jpg\\'}, {\\'credit_id\\': \\'598331bf925141421201044b\\', \\'department\\': \\'Editing\\', \\'gender\\': 2, \\'id\\': 1168870, \\'job\\': \\'Editor\\', \\'name\\': \\'Robert Gordon\\', \\'profile_path\\': None}, {\\'credit_id\\': \\'5892168cc3a36809660095f9\\', \\'department\\': \\'Sound\\', \\'gender\\': 0, \\'id\\': 1552883, \\'job\\': \\'Foley Editor\\', \\'name\\': \\'Mary Helen Leasman\\', \\'profile_path\\': None}, {\\'credit_id\\': \\'5531824d9251415289000945\\', \\'department\\': \\'Visual Effects\\', \\'gender\\': 0, \\'id\\': 1453514, \\'job\\': \\'Animation\\', \\'name\\': \\'Kim Blanchette\\', \\'profile_path\\': None}, {\\'credit_id\\': \\'589215969251412dcb009bf6\\', \\'department\\': \\'Sound\\', \\'gender\\': 0, \\'id\\': 1414182, \\'job\\': \\'ADR Editor\\', \\'name\\': \\'Marilyn McCoppen\\', \\'profile_path\\': None}, {\\'credit_id\\': \\'589217099251412dc500a018\\', \\'department\\': \\'Sound\\', \\'gender\\': 2, \\'id\\': 7885, \\'job\\': \\'Orchestrator\\', \\'name\\': \\'Randy Newman\\', \\'profile_path\\': \\'/w0JzfoiM25nrnxYOzosPHRq6mlE.jpg\\'}, {\\'credit_id\\': \\'5693e6b29251417b0e0000e3\\', \\'department\\': \\'Editing\\', \\'gender\\': 0, \\'id\\': 1429549, \\'job\\': \\'Color Timer\\', \\'name\\': \\'Dale E. Grahn\\', \\'profile_path\\': None}, {\\'credit_id\\': \\'572e2522c3a36869e6001a9c\\', \\'department\\': \\'Visual Effects\\', \\'gender\\': 0, \\'id\\': 7949, \\'job\\': \\'CG Painter\\', \\'name\\': \\'Robin Cooper\\', \\'profile_path\\': None}, {\\'credit_id\\': \\'574f12309251415ca1000012\\', \\'department\\': \\'Writing\\', \\'gender\\': 2, \\'id\\': 7879, \\'job\\': \\'Original Story\\', \\'name\\': \\'John Lasseter\\', \\'profile_path\\': \\'/7EdqiNbr4FRjIhKHyPPdFfEEEFG.jpg\\'}, {\\'credit_id\\': \\'574f1240c3a3682e7300001c\\', \\'department\\': \\'Writing\\', \\'gender\\': 2, \\'id\\': 12890, \\'job\\': \\'Original Story\\', \\'name\\': \\'Pete Docter\\', \\'profile_path\\': \\'/r6ngPgnReA3RHmKjmSoVsc6Awjp.jpg\\'}, {\\'credit_id\\': \\'574f12519251415c92000015\\', \\'department\\': \\'Writing\\', \\'gender\\': 0, \\'id\\': 7911, \\'job\\': \\'Original Story\\', \\'name\\': \\'Joe Ranft\\', \\'profile_path\\': \\'/f1BoWC2JbCcfP1e5hKfGsxkHzVU.jpg\\'}, {\\'credit_id\\': \\'574f12cec3a3682e82000022\\', \\'department\\': \\'Crew\\', \\'gender\\': 0, \\'id\\': 1629419, \\'job\\': \\'Post Production Supervisor\\', \\'name\\': \\'Patsy Bouge\\', \\'profile_path\\': None}, {\\'credit_id\\': \\'574f14f19251415ca1000082\\', \\'department\\': \\'Art\\', \\'gender\\': 0, \\'id\\': 7961, \\'job\\': \\'Sculptor\\', \\'name\\': \\'Norm DeCarlo\\', \\'profile_path\\': None}, {\\'credit_id\\': \\'5751ae4bc3a3683772002b7f\\', \\'department\\': \\'Visual Effects\\', \\'gender\\': 2, \\'id\\': 12905, \\'job\\': \\'Animation Director\\', \\'name\\': \\'Ash Brannon\\', \\'profile_path\\': \\'/6ueWgPEEBHvS3De2BHYQnYjRTig.jpg\\'}, {\\'credit_id\\': \\'5891edbe9251412dc5007cd6\\', \\'department\\': \\'Sound\\', \\'gender\\': 2, \\'id\\': 7885, \\'job\\': \\'Music\\', \\'name\\': \\'Randy Newman\\', \\'profile_path\\': \\'/w0JzfoiM25nrnxYOzosPHRq6mlE.jpg\\'}, {\\'credit_id\\': \\'589213d39251412dc8009832\\', \\'department\\': \\'Directing\\', \\'gender\\': 0, \\'id\\': 1748707, \\'job\\': \\'Layout\\', \\'name\\': \\'Roman Figun\\', \\'profile_path\\': None}, {\\'credit_id\\': \\'5892173dc3a3680968009351\\', \\'department\\': \\'Sound\\', \\'gender\\': 2, \\'id\\': 4949, \\'job\\': \\'Orchestrator\\', \\'name\\': \\'Don Davis\\', \\'profile_path\\': None}, {\\'credit_id\\': \\'589217cec3a3686b0a0052ba\\', \\'department\\': \\'Sound\\', \\'gender\\': 0, \\'id\\': 1372885, \\'job\\': \\'Music Editor\\', \\'name\\': \\'James Flamberg\\', \\'profile_path\\': None}, {\\'credit_id\\': \\'58921831c3a3686348004a64\\', \\'department\\': \\'Editing\\', \\'gender\\': 0, \\'id\\': 1739962, \\'job\\': \\'Negative Cutter\\', \\'name\\': \\'Mary Beth Smith\\', \\'profile_path\\': None}, {\\'credit_id\\': \\'58921838c3a36809700096c0\\', \\'department\\': \\'Editing\\', \\'gender\\': 0, \\'id\\': 1748513, \\'job\\': \\'Negative Cutter\\', \\'name\\': \\'Rick Mackay\\', \\'profile_path\\': None}, {\\'credit_id\\': \\'589218429251412dd1009d1b\\', \\'department\\': \\'Art\\', \\'gender\\': 0, \\'id\\': 1458006, \\'job\\': \\'Title Designer\\', \\'name\\': \\'Susan Bradley\\', \\'profile_path\\': None}, {\\'credit_id\\': \\'5891ed99c3a3680966007670\\', \\'department\\': \\'Crew\\', \\'gender\\': 0, \\'id\\': 1748557, \\'job\\': \\'Supervising Technical Director\\', \\'name\\': \\'William Reeves\\', \\'profile_path\\': None}, {\\'credit_id\\': \\'5891edcec3a3686b0a002eb2\\', \\'department\\': \\'Sound\\', \\'gender\\': 2, \\'id\\': 7885, \\'job\\': \\'Songs\\', \\'name\\': \\'Randy Newman\\', \\'profile_path\\': \\'/w0JzfoiM25nrnxYOzosPHRq6mlE.jpg\\'}, {\\'credit_id\\': \\'5891edf9c3a36809700075e6\\', \\'department\\': \\'Writing\\', \\'gender\\': 2, \\'id\\': 7, \\'job\\': \\'Original Story\\', \\'name\\': \\'Andrew Stanton\\', \\'profile_path\\': \\'/pvQWsu0qc8JFQhMVJkTHuexUAa1.jpg\\'}, {\\'credit_id\\': \\'58920f0b9251412dd7009104\\', \\'department\\': \\'Crew\\', \\'gender\\': 2, \\'id\\': 12890, \\'job\\': \\'Supervising Animator\\', \\'name\\': \\'Pete Docter\\', \\'profile_path\\': \\'/r6ngPgnReA3RHmKjmSoVsc6Awjp.jpg\\'}, {\\'credit_id\\': \\'58920f1fc3a3680977009021\\', \\'department\\': \\'Sound\\', \\'gender\\': 2, \\'id\\': 2216, \\'job\\': \\'Sound Designer\\', \\'name\\': \\'Gary Rydstrom\\', \\'profile_path\\': \\'/jZpr1nVfO7lldWI0YtmP1FGw7Rj.jpg\\'}, {\\'credit_id\\': \\'58920f389251412dd700912d\\', \\'department\\': \\'Production\\', \\'gender\\': 0, \\'id\\': 12909, \\'job\\': \\'Production Supervisor\\', \\'name\\': \\'Karen Robert Jackson\\', \\'profile_path\\': None}, {\\'credit_id\\': \\'58920fbd9251412dcb00969c\\', \\'department\\': \\'Crew\\', \\'gender\\': 0, \\'id\\': 953331, \\'job\\': \\'Executive Music Producer\\', \\'name\\': \\'Chris Montan\\', \\'profile_path\\': None}, {\\'credit_id\\': \\'589210069251412dd7009219\\', \\'department\\': \\'Visual Effects\\', \\'gender\\': 0, \\'id\\': 7893, \\'job\\': \\'Animation Director\\', \\'name\\': \\'Rich Quade\\', \\'profile_path\\': None}, {\\'credit_id\\': \\'589210329251412dcd00943b\\', \\'department\\': \\'Visual Effects\\', \\'gender\\': 0, \\'id\\': 8025, \\'job\\': \\'Animation\\', \\'name\\': \\'Michael Berenstein\\', \\'profile_path\\': None}, {\\'credit_id\\': \\'5892103bc3a368096a009180\\', \\'department\\': \\'Visual Effects\\', \\'gender\\': 0, \\'id\\': 78009, \\'job\\': \\'Animation\\', \\'name\\': \\'Colin Brady\\', \\'profile_path\\': None}, {\\'credit_id\\': \\'5892105dc3a3680968008db2\\', \\'department\\': \\'Visual Effects\\', \\'gender\\': 0, \\'id\\': 1748682, \\'job\\': \\'Animation\\', \\'name\\': \\'Davey Crockett Feiten\\', \\'profile_path\\': None}, {\\'credit_id\\': \\'589210669251412dcd009466\\', \\'department\\': \\'Visual Effects\\', \\'gender\\': 0, \\'id\\': 1454030, \\'job\\': \\'Animation\\', \\'name\\': \\'Angie Glocka\\', \\'profile_path\\': None}, {\\'credit_id\\': \\'5892107c9251412dd1009613\\', \\'department\\': \\'Visual Effects\\', \\'gender\\': 0, \\'id\\': 1748683, \\'job\\': \\'Animation\\', \\'name\\': \\'Rex Grignon\\', \\'profile_path\\': None}, {\\'credit_id\\': \\'5892108ac3a3680973008d3f\\', \\'department\\': \\'Visual Effects\\', \\'gender\\': 0, \\'id\\': 1748684, \\'job\\': \\'Animation\\', \\'name\\': \\'Tom K. Gurney\\', \\'profile_path\\': None}, {\\'credit_id\\': \\'58921093c3a3686348004477\\', \\'department\\': \\'Visual Effects\\', \\'gender\\': 2, \\'id\\': 8029, \\'job\\': \\'Animation\\', \\'name\\': \\'Jimmy Hayward\\', \\'profile_path\\': \\'/lTDRpudEY7BDwTefXbXzMlmb0ui.jpg\\'}, {\\'credit_id\\': \\'5892109b9251412dcd0094b0\\', \\'department\\': \\'Visual Effects\\', \\'gender\\': 0, \\'id\\': 1426773, \\'job\\': \\'Animation\\', \\'name\\': \\'Hal T. Hickel\\', \\'profile_path\\': None}, {\\'credit_id\\': \\'589210a29251412dc5009a29\\', \\'department\\': \\'Visual Effects\\', \\'gender\\': 0, \\'id\\': 8035, \\'job\\': \\'Animation\\', \\'name\\': \\'Karen Kiser\\', \\'profile_path\\': None}, {\\'credit_id\\': \\'589210ccc3a3680977009191\\', \\'department\\': \\'Visual Effects\\', \\'gender\\': 0, \\'id\\': 1748688, \\'job\\': \\'Animation\\', \\'name\\': \\'Anthony B. LaMolinara\\', \\'profile_path\\': None}, {\\'credit_id\\': \\'589210d7c3a3686b0a004c1f\\', \\'department\\': \\'Visual Effects\\', \\'gender\\': 0, \\'id\\': 587314, \\'job\\': \\'Animation\\', \\'name\\': \\'Guionne Leroy\\', \\'profile_path\\': None}, {\\'credit_id\\': \\'589210e1c3a36809770091a7\\', \\'department\\': \\'Visual Effects\\', \\'gender\\': 2, \\'id\\': 7918, \\'job\\': \\'Animation\\', \\'name\\': \\'Bud Luckey\\', \\'profile_path\\': \\'/pcCh7G19FKMNijmPQg1PMH1btic.jpg\\'}, {\\'credit_id\\': \\'589210ee9251412dc200978a\\', \\'department\\': \\'Visual Effects\\', \\'gender\\': 0, \\'id\\': 1748689, \\'job\\': \\'Animation\\', \\'name\\': \\'Les Major\\', \\'profile_path\\': None}, {\\'credit_id\\': \\'589210fa9251412dc8009595\\', \\'department\\': \\'Visual Effects\\', \\'gender\\': 2, \\'id\\': 7892, \\'job\\': \\'Animation\\', \\'name\\': \\'Glenn McQueen\\', \\'profile_path\\': None}, {\\'credit_id\\': \\'589211029251412dc8009598\\', \\'department\\': \\'Visual Effects\\', \\'gender\\': 0, \\'id\\': 555795, \\'job\\': \\'Animation\\', \\'name\\': \\'Mark Oftedal\\', \\'profile_path\\': None}, {\\'credit_id\\': \\'5892110b9251412dc800959d\\', \\'department\\': \\'Visual Effects\\', \\'gender\\': 2, \\'id\\': 7882, \\'job\\': \\'Animation\\', \\'name\\': \\'Jeff Pidgeon\\', \\'profile_path\\': \\'/yLddkg5HcgbJg00cS13GVBnP0HY.jpg\\'}, {\\'credit_id\\': \\'58921113c3a36863480044e4\\', \\'department\\': \\'Visual Effects\\', \\'gender\\': 0, \\'id\\': 8017, \\'job\\': \\'Animation\\', \\'name\\': \\'Jeff Pratt\\', \\'profile_path\\': None}, {\\'credit_id\\': \\'5892111c9251412dcb0097e9\\', \\'department\\': \\'Visual Effects\\', \\'gender\\': 0, \\'id\\': 1184140, \\'job\\': \\'Animation\\', \\'name\\': \\'Steve Rabatich\\', \\'profile_path\\': None}, {\\'credit_id\\': \\'58921123c3a36809700090f6\\', \\'department\\': \\'Visual Effects\\', \\'gender\\': 0, \\'id\\': 8049, \\'job\\': \\'Animation\\', \\'name\\': \\'Roger Rose\\', \\'profile_path\\': None}, {\\'credit_id\\': \\'5892112b9251412dcb0097fb\\', \\'department\\': \\'Visual Effects\\', \\'gender\\': 0, \\'id\\': 1509559, \\'job\\': \\'Animation\\', \\'name\\': \\'Steve Segal\\', \\'profile_path\\': None}, {\\'credit_id\\': \\'589211349251412dc80095c3\\', \\'department\\': \\'Visual Effects\\', \\'gender\\': 0, \\'id\\': 1748691, \\'job\\': \\'Animation\\', \\'name\\': \\'Doug Sheppeck\\', \\'profile_path\\': None}, {\\'credit_id\\': \\'5892113cc3a3680970009106\\', \\'department\\': \\'Visual Effects\\', \\'gender\\': 0, \\'id\\': 8050, \\'job\\': \\'Animation\\', \\'name\\': \\'Alan Sperling\\', \\'profile_path\\': None}, {\\'credit_id\\': \\'58921148c3a3686b0a004c99\\', \\'department\\': \\'Visual Effects\\', \\'gender\\': 0, \\'id\\': 8010, \\'job\\': \\'Animation\\', \\'name\\': \\'Doug Sweetland\\', \\'profile_path\\': None}, {\\'credit_id\\': \\'58921150c3a3680966009125\\', \\'department\\': \\'Visual Effects\\', \\'gender\\': 0, \\'id\\': 8044, \\'job\\': \\'Animation\\', \\'name\\': \\'David Tart\\', \\'profile_path\\': None}, {\\'credit_id\\': \\'589211629251412dc5009b00\\', \\'department\\': \\'Visual Effects\\', \\'gender\\': 0, \\'id\\': 1454034, \\'job\\': \\'Animation\\', \\'name\\': \\'Ken Willard\\', \\'profile_path\\': None}, {\\'credit_id\\': \\'589211c1c3a3686b0a004d28\\', \\'department\\': \\'Visual Effects\\', \\'gender\\': 0, \\'id\\': 7887, \\'job\\': \\'Visual Effects Supervisor\\', \\'name\\': \\'Thomas Porter\\', \\'profile_path\\': None}, {\\'credit_id\\': \\'589211d4c3a3680968008ed9\\', \\'department\\': \\'Visual Effects\\', \\'gender\\': 0, \\'id\\': 1406878, \\'job\\': \\'Visual Effects\\', \\'name\\': \\'Mark Thomas Henne\\', \\'profile_path\\': None}, {\\'credit_id\\': \\'589211f59251412dd4008e65\\', \\'department\\': \\'Visual Effects\\', \\'gender\\': 0, \\'id\\': 1748698, \\'job\\': \\'Visual Effects\\', \\'name\\': \\'Oren Jacob\\', \\'profile_path\\': None}, {\\'credit_id\\': \\'58921242c3a368096a00939b\\', \\'department\\': \\'Visual Effects\\', \\'gender\\': 0, \\'id\\': 1748699, \\'job\\': \\'Visual Effects\\', \\'name\\': \\'Darwyn Peachey\\', \\'profile_path\\': None}, {\\'credit_id\\': \\'5892124b9251412dc5009bd2\\', \\'department\\': \\'Visual Effects\\', \\'gender\\': 0, \\'id\\': 1748701, \\'job\\': \\'Visual Effects\\', \\'name\\': \\'Mitch Prater\\', \\'profile_path\\': None}, {\\'credit_id\\': \\'58921264c3a3686b0a004dbf\\', \\'department\\': \\'Visual Effects\\', \\'gender\\': 0, \\'id\\': 1748703, \\'job\\': \\'Visual Effects\\', \\'name\\': \\'Brian M. Rosen\\', \\'profile_path\\': None}, {\\'credit_id\\': \\'589212709251412dcd009676\\', \\'department\\': \\'Lighting\\', \\'gender\\': 1, \\'id\\': 12912, \\'job\\': \\'Lighting Supervisor\\', \\'name\\': \\'Sharon Calahan\\', \\'profile_path\\': None}, {\\'credit_id\\': \\'5892127fc3a3686b0a004de5\\', \\'department\\': \\'Lighting\\', \\'gender\\': 0, \\'id\\': 7899, \\'job\\': \\'Lighting Supervisor\\', \\'name\\': \\'Galyn Susman\\', \\'profile_path\\': None}, {\\'credit_id\\': \\'589212cdc3a3680970009268\\', \\'department\\': \\'Visual Effects\\', \\'gender\\': 0, \\'id\\': 12915, \\'job\\': \\'CG Painter\\', \\'name\\': \\'William Cone\\', \\'profile_path\\': None}, {\\'credit_id\\': \\'5892130f9251412dc8009791\\', \\'department\\': \\'Art\\', \\'gender\\': 0, \\'id\\': 1748705, \\'job\\': \\'Sculptor\\', \\'name\\': \\'Shelley Daniels Lekven\\', \\'profile_path\\': None}, {\\'credit_id\\': \\'5892131c9251412dd4008f4c\\', \\'department\\': \\'Visual Effects\\', \\'gender\\': 2, \\'id\\': 7889, \\'job\\': \\'Character Designer\\', \\'name\\': \\'Bob Pauley\\', \\'profile_path\\': None}, {\\'credit_id\\': \\'589213249251412dd100987b\\', \\'department\\': \\'Visual Effects\\', \\'gender\\': 2, \\'id\\': 7918, \\'job\\': \\'Character Designer\\', \\'name\\': \\'Bud Luckey\\', \\'profile_path\\': \\'/pcCh7G19FKMNijmPQg1PMH1btic.jpg\\'}, {\\'credit_id\\': \\'5892132b9251412dc80097b1\\', \\'department\\': \\'Visual Effects\\', \\'gender\\': 2, \\'id\\': 7, \\'job\\': \\'Character Designer\\', \\'name\\': \\'Andrew Stanton\\', \\'profile_path\\': \\'/pvQWsu0qc8JFQhMVJkTHuexUAa1.jpg\\'}, {\\'credit_id\\': \\'58921332c3a368634800467b\\', \\'department\\': \\'Visual Effects\\', \\'gender\\': 0, \\'id\\': 12915, \\'job\\': \\'Character Designer\\', \\'name\\': \\'William Cone\\', \\'profile_path\\': None}, {\\'credit_id\\': \\'5892135f9251412dd4008f90\\', \\'department\\': \\'Visual Effects\\', \\'gender\\': 0, \\'id\\': 1748706, \\'job\\': \\'Character Designer\\', \\'name\\': \\'Steve Johnson\\', \\'profile_path\\': None}, {\\'credit_id\\': \\'58921384c3a3680973008fd4\\', \\'department\\': \\'Visual Effects\\', \\'gender\\': 0, \\'id\\': 1176752, \\'job\\': \\'Character Designer\\', \\'name\\': \\'Dan Haskett\\', \\'profile_path\\': None}, {\\'credit_id\\': \\'5892138e9251412dc20099fc\\', \\'department\\': \\'Visual Effects\\', \\'gender\\': 0, \\'id\\': 1088034, \\'job\\': \\'Character Designer\\', \\'name\\': \\'Tom Holloway\\', \\'profile_path\\': \\'/a0r0T2usTBpgMI5aZbRBDW1fTl8.jpg\\'}, {\\'credit_id\\': \\'58921395c3a368097700942f\\', \\'department\\': \\'Visual Effects\\', \\'gender\\': 0, \\'id\\': 1447465, \\'job\\': \\'Character Designer\\', \\'name\\': \\'Jean Gillmore\\', \\'profile_path\\': None}, {\\'credit_id\\': \\'589213e2c3a3680973009026\\', \\'department\\': \\'Directing\\', \\'gender\\': 0, \\'id\\': 1748709, \\'job\\': \\'Layout\\', \\'name\\': \\'Desirée Mourad\\', \\'profile_path\\': None}, {\\'credit_id\\': \\'589214099251412dc5009d57\\', \\'department\\': \\'Art\\', \\'gender\\': 0, \\'id\\': 1748710, \\'job\\': \\'Set Dresser\\', \\'name\\': \"Kelly O\\'Connell\", \\'profile_path\\': None}, {\\'credit_id\\': \\'58921411c3a3686b0a004f70\\', \\'department\\': \\'Art\\', \\'gender\\': 0, \\'id\\': 1443471, \\'job\\': \\'Set Dresser\\', \\'name\\': \\'Sonoko Konishi\\', \\'profile_path\\': None}, {\\'credit_id\\': \\'58921434c3a368096a00956e\\', \\'department\\': \\'Art\\', \\'gender\\': 0, \\'id\\': 1748711, \\'job\\': \\'Set Dresser\\', \\'name\\': \\'Ann M. Rockwell\\', \\'profile_path\\': None}, {\\'credit_id\\': \\'5892144ac3a36809680090de\\', \\'department\\': \\'Editing\\', \\'gender\\': 0, \\'id\\': 1748712, \\'job\\': \\'Editorial Manager\\', \\'name\\': \\'Julie M. McDonald\\', \\'profile_path\\': None}, {\\'credit_id\\': \\'58921479c3a368096800910f\\', \\'department\\': \\'Editing\\', \\'gender\\': 0, \\'id\\': 1589729, \\'job\\': \\'Assistant Editor\\', \\'name\\': \\'Robin Lee\\', \\'profile_path\\': None}, {\\'credit_id\\': \\'5892148b9251412dd10099cc\\', \\'department\\': \\'Editing\\', \\'gender\\': 0, \\'id\\': 1748716, \\'job\\': \\'Assistant Editor\\', \\'name\\': \\'Tom Freeman\\', \\'profile_path\\': None}, {\\'credit_id\\': \\'589214959251412dcb009b1f\\', \\'department\\': \\'Editing\\', \\'gender\\': 0, \\'id\\': 1748717, \\'job\\': \\'Assistant Editor\\', \\'name\\': \\'Ada Cochavi\\', \\'profile_path\\': None}, {\\'credit_id\\': \\'5892149ec3a3686348004798\\', \\'department\\': \\'Editing\\', \\'gender\\': 0, \\'id\\': 1336438, \\'job\\': \\'Assistant Editor\\', \\'name\\': \\'Dana Mulligan\\', \\'profile_path\\': None}, {\\'credit_id\\': \\'589214adc3a368096a0095db\\', \\'department\\': \\'Editing\\', \\'gender\\': 0, \\'id\\': 1748718, \\'job\\': \\'Editorial Coordinator\\', \\'name\\': \\'Deirdre Morrison\\', \\'profile_path\\': None}, {\\'credit_id\\': \\'589214c7c3a368097700952b\\', \\'department\\': \\'Production\\', \\'gender\\': 0, \\'id\\': 1748719, \\'job\\': \\'Production Coordinator\\', \\'name\\': \\'Lori Lombardo\\', \\'profile_path\\': None}, {\\'credit_id\\': \\'589214cec3a368096a009603\\', \\'department\\': \\'Production\\', \\'gender\\': 0, \\'id\\': 1748720, \\'job\\': \\'Production Coordinator\\', \\'name\\': \\'Ellen Devine\\', \\'profile_path\\': None}, {\\'credit_id\\': \\'589214e39251412dc8009904\\', \\'department\\': \\'Crew\\', \\'gender\\': 0, \\'id\\': 1468014, \\'job\\': \\'Unit Publicist\\', \\'name\\': \\'Lauren Beth Strogoff\\', \\'profile_path\\': None}, {\\'credit_id\\': \\'58921544c3a3686b0a00507d\\', \\'department\\': \\'Sound\\', \\'gender\\': 2, \\'id\\': 2216, \\'job\\': \\'Sound Re-Recording Mixer\\', \\'name\\': \\'Gary Rydstrom\\', \\'profile_path\\': \\'/jZpr1nVfO7lldWI0YtmP1FGw7Rj.jpg\\'}, {\\'credit_id\\': \\'5892154c9251412dd1009a56\\', \\'department\\': \\'Sound\\', \\'gender\\': 0, \\'id\\': 1425978, \\'job\\': \\'Sound Re-Recording Mixer\\', \\'name\\': \\'Gary Summers\\', \\'profile_path\\': None}, {\\'credit_id\\': \\'58921555c3a36809680091bd\\', \\'department\\': \\'Sound\\', \\'gender\\': 2, \\'id\\': 8276, \\'job\\': \\'Supervising Sound Editor\\', \\'name\\': \\'Tim Holland\\', \\'profile_path\\': None}, {\\'credit_id\\': \\'589215c39251412dcb009c12\\', \\'department\\': \\'Sound\\', \\'gender\\': 0, \\'id\\': 7069, \\'job\\': \\'Sound Effects Editor\\', \\'name\\': \\'Pat Jackson\\', \\'profile_path\\': None}, {\\'credit_id\\': \\'58921698c3a368096a009788\\', \\'department\\': \\'Crew\\', \\'gender\\': 2, \\'id\\': 15894, \\'job\\': \\'Sound Design Assistant\\', \\'name\\': \\'Tom Myers\\', \\'profile_path\\': None}, {\\'credit_id\\': \\'589216a89251412dc2009ca4\\', \\'department\\': \\'Sound\\', \\'gender\\': 0, \\'id\\': 1414177, \\'job\\': \\'Assistant Sound Editor\\', \\'name\\': \\'J.R. Grubbs\\', \\'profile_path\\': None}, {\\'credit_id\\': \\'589216c19251412dc2009cb9\\', \\'department\\': \\'Sound\\', \\'gender\\': 1, \\'id\\': 1748724, \\'job\\': \\'Assistant Sound Editor\\', \\'name\\': \\'Susan Sanford\\', \\'profile_path\\': None}, {\\'credit_id\\': \\'589216ccc3a3680973009274\\', \\'department\\': \\'Sound\\', \\'gender\\': 0, \\'id\\': 1748725, \\'job\\': \\'Assistant Sound Editor\\', \\'name\\': \\'Susan Popovic\\', \\'profile_path\\': None}, {\\'credit_id\\': \\'589216d79251412dc8009aa0\\', \\'department\\': \\'Sound\\', \\'gender\\': 0, \\'id\\': 8067, \\'job\\': \\'Assistant Sound Editor\\', \\'name\\': \\'Dan Engstrom\\', \\'profile_path\\': None}, {\\'credit_id\\': \\'589216e49251412dcd009a4f\\', \\'department\\': \\'Production\\', \\'gender\\': 1, \\'id\\': 7902, \\'job\\': \\'Casting Consultant\\', \\'name\\': \\'Ruth Lambert\\', \\'profile_path\\': None}, {\\'credit_id\\': \\'589216f39251412dc2009cf3\\', \\'department\\': \\'Production\\', \\'gender\\': 0, \\'id\\': 84493, \\'job\\': \\'ADR Voice Casting\\', \\'name\\': \\'Mickie McGowan\\', \\'profile_path\\': \\'/k7TjJBfINsg8vLQxJwos6XObAD6.jpg\\'}]'"
      ]
     },
     "execution_count": 40,
     "metadata": {},
     "output_type": "execute_result"
    }
   ],
   "source": [
    "credits['crew'][0]"
   ]
  },
  {
   "cell_type": "code",
   "execution_count": 41,
   "metadata": {},
   "outputs": [],
   "source": [
    "# crew는 있어야 함.\n",
    "\n",
    "credits = credits[credits.crew != '[]']"
   ]
  },
  {
   "cell_type": "code",
   "execution_count": 42,
   "metadata": {},
   "outputs": [],
   "source": [
    "credits['crew'] = credits['crew'].apply(ast.literal_eval)"
   ]
  },
  {
   "cell_type": "code",
   "execution_count": 43,
   "metadata": {},
   "outputs": [],
   "source": [
    "credits['crew_id'] = credits['crew'].apply(lambda x: [v.get('id') for v in x])\n",
    "credits['crew_name'] = credits['crew'].apply(lambda x: [v.get('name') for v in x])"
   ]
  },
  {
   "cell_type": "code",
   "execution_count": 44,
   "metadata": {},
   "outputs": [
    {
     "data": {
      "text/html": [
       "<div>\n",
       "<style scoped>\n",
       "    .dataframe tbody tr th:only-of-type {\n",
       "        vertical-align: middle;\n",
       "    }\n",
       "\n",
       "    .dataframe tbody tr th {\n",
       "        vertical-align: top;\n",
       "    }\n",
       "\n",
       "    .dataframe thead th {\n",
       "        text-align: right;\n",
       "    }\n",
       "</style>\n",
       "<table border=\"1\" class=\"dataframe\">\n",
       "  <thead>\n",
       "    <tr style=\"text-align: right;\">\n",
       "      <th></th>\n",
       "      <th>cast</th>\n",
       "      <th>crew</th>\n",
       "      <th>id</th>\n",
       "      <th>cast_id</th>\n",
       "      <th>cast_name</th>\n",
       "      <th>crew_id</th>\n",
       "      <th>crew_name</th>\n",
       "    </tr>\n",
       "  </thead>\n",
       "  <tbody>\n",
       "    <tr>\n",
       "      <th>45471</th>\n",
       "      <td>[{'cast_id': 0, 'character': '', 'credit_id': ...</td>\n",
       "      <td>[{'credit_id': '5894a97d925141426c00818c', 'de...</td>\n",
       "      <td>439050</td>\n",
       "      <td>[240240, 1749839, 1619957]</td>\n",
       "      <td>[Leila Hatami, Kourosh Tahami, Elham Korda]</td>\n",
       "      <td>[1182809, 1182809, 1543705, 1749842, 1749847, ...</td>\n",
       "      <td>[Hamid Nematollah, Hamid Nematollah, Farshad M...</td>\n",
       "    </tr>\n",
       "    <tr>\n",
       "      <th>45472</th>\n",
       "      <td>[{'cast_id': 1002, 'character': 'Sister Angela...</td>\n",
       "      <td>[{'credit_id': '52fe4af1c3a36847f81e9b15', 'de...</td>\n",
       "      <td>111109</td>\n",
       "      <td>[1043186, 111636, 1204271, 278923, 1042953, 57...</td>\n",
       "      <td>[Angel Aquino, Perry Dizon, Hazel Orencio, Joe...</td>\n",
       "      <td>[1051381, 1051381, 1728582, 1051381, 1051381, ...</td>\n",
       "      <td>[Lav Diaz, Lav Diaz, Dante Perez, Lav Diaz, La...</td>\n",
       "    </tr>\n",
       "    <tr>\n",
       "      <th>45473</th>\n",
       "      <td>[{'cast_id': 6, 'character': 'Emily Shaw', 'cr...</td>\n",
       "      <td>[{'credit_id': '52fe4776c3a368484e0c8387', 'de...</td>\n",
       "      <td>67758</td>\n",
       "      <td>[23764, 2059, 46277, 1736, 58646, 54649, 55270...</td>\n",
       "      <td>[Erika Eleniak, Adam Baldwin, Julie du Page, J...</td>\n",
       "      <td>[67753, 19713, 549355, 549356, 58818]</td>\n",
       "      <td>[Mark L. Lester, C. Courtney Joyner, Jeffrey G...</td>\n",
       "    </tr>\n",
       "    <tr>\n",
       "      <th>45474</th>\n",
       "      <td>[{'cast_id': 2, 'character': '', 'credit_id': ...</td>\n",
       "      <td>[{'credit_id': '533bccebc3a36844cf0011a7', 'de...</td>\n",
       "      <td>227506</td>\n",
       "      <td>[544742, 1090923, 1136422, 1261758, 29199]</td>\n",
       "      <td>[Iwan Mosschuchin, Nathalie Lissenko, Pavel Pa...</td>\n",
       "      <td>[1085341, 1195656]</td>\n",
       "      <td>[Yakov Protazanov, Joseph N. Ermolieff]</td>\n",
       "    </tr>\n",
       "    <tr>\n",
       "      <th>45475</th>\n",
       "      <td>[]</td>\n",
       "      <td>[{'credit_id': '593e676c92514105b702e68e', 'de...</td>\n",
       "      <td>461257</td>\n",
       "      <td>[]</td>\n",
       "      <td>[]</td>\n",
       "      <td>[1344495]</td>\n",
       "      <td>[Daisy Asquith]</td>\n",
       "    </tr>\n",
       "  </tbody>\n",
       "</table>\n",
       "</div>"
      ],
      "text/plain": [
       "                                                    cast  \\\n",
       "45471  [{'cast_id': 0, 'character': '', 'credit_id': ...   \n",
       "45472  [{'cast_id': 1002, 'character': 'Sister Angela...   \n",
       "45473  [{'cast_id': 6, 'character': 'Emily Shaw', 'cr...   \n",
       "45474  [{'cast_id': 2, 'character': '', 'credit_id': ...   \n",
       "45475                                                 []   \n",
       "\n",
       "                                                    crew      id  \\\n",
       "45471  [{'credit_id': '5894a97d925141426c00818c', 'de...  439050   \n",
       "45472  [{'credit_id': '52fe4af1c3a36847f81e9b15', 'de...  111109   \n",
       "45473  [{'credit_id': '52fe4776c3a368484e0c8387', 'de...   67758   \n",
       "45474  [{'credit_id': '533bccebc3a36844cf0011a7', 'de...  227506   \n",
       "45475  [{'credit_id': '593e676c92514105b702e68e', 'de...  461257   \n",
       "\n",
       "                                                 cast_id  \\\n",
       "45471                         [240240, 1749839, 1619957]   \n",
       "45472  [1043186, 111636, 1204271, 278923, 1042953, 57...   \n",
       "45473  [23764, 2059, 46277, 1736, 58646, 54649, 55270...   \n",
       "45474         [544742, 1090923, 1136422, 1261758, 29199]   \n",
       "45475                                                 []   \n",
       "\n",
       "                                               cast_name  \\\n",
       "45471        [Leila Hatami, Kourosh Tahami, Elham Korda]   \n",
       "45472  [Angel Aquino, Perry Dizon, Hazel Orencio, Joe...   \n",
       "45473  [Erika Eleniak, Adam Baldwin, Julie du Page, J...   \n",
       "45474  [Iwan Mosschuchin, Nathalie Lissenko, Pavel Pa...   \n",
       "45475                                                 []   \n",
       "\n",
       "                                                 crew_id  \\\n",
       "45471  [1182809, 1182809, 1543705, 1749842, 1749847, ...   \n",
       "45472  [1051381, 1051381, 1728582, 1051381, 1051381, ...   \n",
       "45473              [67753, 19713, 549355, 549356, 58818]   \n",
       "45474                                 [1085341, 1195656]   \n",
       "45475                                          [1344495]   \n",
       "\n",
       "                                               crew_name  \n",
       "45471  [Hamid Nematollah, Hamid Nematollah, Farshad M...  \n",
       "45472  [Lav Diaz, Lav Diaz, Dante Perez, Lav Diaz, La...  \n",
       "45473  [Mark L. Lester, C. Courtney Joyner, Jeffrey G...  \n",
       "45474            [Yakov Protazanov, Joseph N. Ermolieff]  \n",
       "45475                                    [Daisy Asquith]  "
      ]
     },
     "execution_count": 44,
     "metadata": {},
     "output_type": "execute_result"
    }
   ],
   "source": [
    "credits.tail()"
   ]
  },
  {
   "cell_type": "markdown",
   "metadata": {},
   "source": [
    "#### 2) keyword.csv 정리"
   ]
  },
  {
   "cell_type": "code",
   "execution_count": 45,
   "metadata": {},
   "outputs": [
    {
     "data": {
      "text/html": [
       "<div>\n",
       "<style scoped>\n",
       "    .dataframe tbody tr th:only-of-type {\n",
       "        vertical-align: middle;\n",
       "    }\n",
       "\n",
       "    .dataframe tbody tr th {\n",
       "        vertical-align: top;\n",
       "    }\n",
       "\n",
       "    .dataframe thead th {\n",
       "        text-align: right;\n",
       "    }\n",
       "</style>\n",
       "<table border=\"1\" class=\"dataframe\">\n",
       "  <thead>\n",
       "    <tr style=\"text-align: right;\">\n",
       "      <th></th>\n",
       "      <th>id</th>\n",
       "      <th>keywords</th>\n",
       "    </tr>\n",
       "  </thead>\n",
       "  <tbody>\n",
       "    <tr>\n",
       "      <th>46414</th>\n",
       "      <td>439050</td>\n",
       "      <td>[{'id': 10703, 'name': 'tragic love'}]</td>\n",
       "    </tr>\n",
       "    <tr>\n",
       "      <th>46415</th>\n",
       "      <td>111109</td>\n",
       "      <td>[{'id': 2679, 'name': 'artist'}, {'id': 14531,...</td>\n",
       "    </tr>\n",
       "    <tr>\n",
       "      <th>46416</th>\n",
       "      <td>67758</td>\n",
       "      <td>[]</td>\n",
       "    </tr>\n",
       "    <tr>\n",
       "      <th>46417</th>\n",
       "      <td>227506</td>\n",
       "      <td>[]</td>\n",
       "    </tr>\n",
       "    <tr>\n",
       "      <th>46418</th>\n",
       "      <td>461257</td>\n",
       "      <td>[]</td>\n",
       "    </tr>\n",
       "  </tbody>\n",
       "</table>\n",
       "</div>"
      ],
      "text/plain": [
       "           id                                           keywords\n",
       "46414  439050             [{'id': 10703, 'name': 'tragic love'}]\n",
       "46415  111109  [{'id': 2679, 'name': 'artist'}, {'id': 14531,...\n",
       "46416   67758                                                 []\n",
       "46417  227506                                                 []\n",
       "46418  461257                                                 []"
      ]
     },
     "execution_count": 45,
     "metadata": {},
     "output_type": "execute_result"
    }
   ],
   "source": [
    "keywords = pd.read_csv('../data/keywords.csv')\n",
    "keywords.tail()"
   ]
  },
  {
   "cell_type": "code",
   "execution_count": 46,
   "metadata": {},
   "outputs": [
    {
     "data": {
      "text/plain": [
       "str"
      ]
     },
     "execution_count": 46,
     "metadata": {},
     "output_type": "execute_result"
    }
   ],
   "source": [
    "type(keywords['keywords'][0])"
   ]
  },
  {
   "cell_type": "code",
   "execution_count": 47,
   "metadata": {},
   "outputs": [],
   "source": [
    "# keyword 있는 값만 가져오기\n",
    "\n",
    "keywords = keywords[keywords.keywords != '[]']"
   ]
  },
  {
   "cell_type": "code",
   "execution_count": 48,
   "metadata": {},
   "outputs": [
    {
     "data": {
      "text/plain": [
       "\"[{'id': 931, 'name': 'jealousy'}, {'id': 4290, 'name': 'toy'}, {'id': 5202, 'name': 'boy'}, {'id': 6054, 'name': 'friendship'}, {'id': 9713, 'name': 'friends'}, {'id': 9823, 'name': 'rivalry'}, {'id': 165503, 'name': 'boy next door'}, {'id': 170722, 'name': 'new toy'}, {'id': 187065, 'name': 'toy comes to life'}]\""
      ]
     },
     "execution_count": 48,
     "metadata": {},
     "output_type": "execute_result"
    }
   ],
   "source": [
    "keywords['keywords'][0]"
   ]
  },
  {
   "cell_type": "code",
   "execution_count": 49,
   "metadata": {},
   "outputs": [],
   "source": [
    "keywords['keywords'] = keywords['keywords'].apply(ast.literal_eval)"
   ]
  },
  {
   "cell_type": "code",
   "execution_count": 50,
   "metadata": {},
   "outputs": [],
   "source": [
    "keywords['keywords_id'] = keywords['keywords'].apply(lambda x: [v.get('id') for v in x])\n",
    "keywords['keywords_name'] = keywords['keywords'].apply(lambda x: [v.get('name') for v in x])"
   ]
  },
  {
   "cell_type": "code",
   "execution_count": 51,
   "metadata": {},
   "outputs": [
    {
     "data": {
      "text/html": [
       "<div>\n",
       "<style scoped>\n",
       "    .dataframe tbody tr th:only-of-type {\n",
       "        vertical-align: middle;\n",
       "    }\n",
       "\n",
       "    .dataframe tbody tr th {\n",
       "        vertical-align: top;\n",
       "    }\n",
       "\n",
       "    .dataframe thead th {\n",
       "        text-align: right;\n",
       "    }\n",
       "</style>\n",
       "<table border=\"1\" class=\"dataframe\">\n",
       "  <thead>\n",
       "    <tr style=\"text-align: right;\">\n",
       "      <th></th>\n",
       "      <th>id</th>\n",
       "      <th>keywords</th>\n",
       "      <th>keywords_id</th>\n",
       "      <th>keywords_name</th>\n",
       "    </tr>\n",
       "  </thead>\n",
       "  <tbody>\n",
       "    <tr>\n",
       "      <th>46409</th>\n",
       "      <td>84419</td>\n",
       "      <td>[{'id': 9748, 'name': 'revenge'}, {'id': 9826,...</td>\n",
       "      <td>[9748, 9826, 10714, 14512, 173245, 179083, 189...</td>\n",
       "      <td>[revenge, murder, serial killer, new york city...</td>\n",
       "    </tr>\n",
       "    <tr>\n",
       "      <th>46410</th>\n",
       "      <td>390959</td>\n",
       "      <td>[{'id': 224180, 'name': 'blair witch'}]</td>\n",
       "      <td>[224180]</td>\n",
       "      <td>[blair witch]</td>\n",
       "    </tr>\n",
       "    <tr>\n",
       "      <th>46411</th>\n",
       "      <td>289923</td>\n",
       "      <td>[{'id': 616, 'name': 'witch'}, {'id': 2035, 'n...</td>\n",
       "      <td>[616, 2035, 3754, 10714, 11800]</td>\n",
       "      <td>[witch, mythology, legend, serial killer, mock...</td>\n",
       "    </tr>\n",
       "    <tr>\n",
       "      <th>46414</th>\n",
       "      <td>439050</td>\n",
       "      <td>[{'id': 10703, 'name': 'tragic love'}]</td>\n",
       "      <td>[10703]</td>\n",
       "      <td>[tragic love]</td>\n",
       "    </tr>\n",
       "    <tr>\n",
       "      <th>46415</th>\n",
       "      <td>111109</td>\n",
       "      <td>[{'id': 2679, 'name': 'artist'}, {'id': 14531,...</td>\n",
       "      <td>[2679, 14531, 215397]</td>\n",
       "      <td>[artist, play, pinoy]</td>\n",
       "    </tr>\n",
       "  </tbody>\n",
       "</table>\n",
       "</div>"
      ],
      "text/plain": [
       "           id                                           keywords  \\\n",
       "46409   84419  [{'id': 9748, 'name': 'revenge'}, {'id': 9826,...   \n",
       "46410  390959            [{'id': 224180, 'name': 'blair witch'}]   \n",
       "46411  289923  [{'id': 616, 'name': 'witch'}, {'id': 2035, 'n...   \n",
       "46414  439050             [{'id': 10703, 'name': 'tragic love'}]   \n",
       "46415  111109  [{'id': 2679, 'name': 'artist'}, {'id': 14531,...   \n",
       "\n",
       "                                             keywords_id  \\\n",
       "46409  [9748, 9826, 10714, 14512, 173245, 179083, 189...   \n",
       "46410                                           [224180]   \n",
       "46411                    [616, 2035, 3754, 10714, 11800]   \n",
       "46414                                            [10703]   \n",
       "46415                              [2679, 14531, 215397]   \n",
       "\n",
       "                                           keywords_name  \n",
       "46409  [revenge, murder, serial killer, new york city...  \n",
       "46410                                      [blair witch]  \n",
       "46411  [witch, mythology, legend, serial killer, mock...  \n",
       "46414                                      [tragic love]  \n",
       "46415                              [artist, play, pinoy]  "
      ]
     },
     "execution_count": 51,
     "metadata": {},
     "output_type": "execute_result"
    }
   ],
   "source": [
    "keywords.tail()"
   ]
  },
  {
   "cell_type": "code",
   "execution_count": 52,
   "metadata": {},
   "outputs": [
    {
     "name": "stdout",
     "output_type": "stream",
     "text": [
      "<class 'pandas.core.frame.DataFrame'>\n",
      "Int64Index: 31624 entries, 0 to 46415\n",
      "Data columns (total 4 columns):\n",
      " #   Column         Non-Null Count  Dtype \n",
      "---  ------         --------------  ----- \n",
      " 0   id             31624 non-null  int64 \n",
      " 1   keywords       31624 non-null  object\n",
      " 2   keywords_id    31624 non-null  object\n",
      " 3   keywords_name  31624 non-null  object\n",
      "dtypes: int64(1), object(3)\n",
      "memory usage: 2.2+ MB\n"
     ]
    }
   ],
   "source": [
    "keywords.info()"
   ]
  },
  {
   "cell_type": "markdown",
   "metadata": {},
   "source": [
    "#### 3) id 이용해 병합(inner)"
   ]
  },
  {
   "cell_type": "code",
   "execution_count": 53,
   "metadata": {},
   "outputs": [],
   "source": [
    "merge_df = pd.merge(credits, keywords, on='id')"
   ]
  },
  {
   "cell_type": "code",
   "execution_count": 54,
   "metadata": {},
   "outputs": [
    {
     "data": {
      "text/html": [
       "<div>\n",
       "<style scoped>\n",
       "    .dataframe tbody tr th:only-of-type {\n",
       "        vertical-align: middle;\n",
       "    }\n",
       "\n",
       "    .dataframe tbody tr th {\n",
       "        vertical-align: top;\n",
       "    }\n",
       "\n",
       "    .dataframe thead th {\n",
       "        text-align: right;\n",
       "    }\n",
       "</style>\n",
       "<table border=\"1\" class=\"dataframe\">\n",
       "  <thead>\n",
       "    <tr style=\"text-align: right;\">\n",
       "      <th></th>\n",
       "      <th>cast</th>\n",
       "      <th>crew</th>\n",
       "      <th>id</th>\n",
       "      <th>cast_id</th>\n",
       "      <th>cast_name</th>\n",
       "      <th>crew_id</th>\n",
       "      <th>crew_name</th>\n",
       "      <th>keywords</th>\n",
       "      <th>keywords_id</th>\n",
       "      <th>keywords_name</th>\n",
       "    </tr>\n",
       "  </thead>\n",
       "  <tbody>\n",
       "    <tr>\n",
       "      <th>31512</th>\n",
       "      <td>[{'cast_id': 5, 'character': 'The Creeper', 'c...</td>\n",
       "      <td>[{'credit_id': '58152c139251415a7f0047e2', 'de...</td>\n",
       "      <td>84419</td>\n",
       "      <td>[931198, 34117, 19967, 34287, 29142, 6933, 143...</td>\n",
       "      <td>[Rondo Hatton, Robert Lowery, Virginia Grey, B...</td>\n",
       "      <td>[12348, 16753, 29813, 30412, 89745, 96696, 117...</td>\n",
       "      <td>[Russell A. Gausman, John B. Goodman, Jack P. ...</td>\n",
       "      <td>[{'id': 9748, 'name': 'revenge'}, {'id': 9826,...</td>\n",
       "      <td>[9748, 9826, 10714, 14512, 173245, 179083, 189...</td>\n",
       "      <td>[revenge, murder, serial killer, new york city...</td>\n",
       "    </tr>\n",
       "    <tr>\n",
       "      <th>31513</th>\n",
       "      <td>[{'cast_id': 30, 'character': 'Debuty Hank Har...</td>\n",
       "      <td>[{'credit_id': '56ff6ddbc3a3686e9e0013bc', 'de...</td>\n",
       "      <td>390959</td>\n",
       "      <td>[53303, 204174, 79736, 1099459, 1599751, 15997...</td>\n",
       "      <td>[Tony Abatemarco, Andre Brooks, Mariclare Cost...</td>\n",
       "      <td>[76541, 76541, 1599733, 1599735, 75651, 76541,...</td>\n",
       "      <td>[Ben Rock, Ben Rock, Jay Bogdanowitsch, Pirie ...</td>\n",
       "      <td>[{'id': 224180, 'name': 'blair witch'}]</td>\n",
       "      <td>[224180]</td>\n",
       "      <td>[blair witch]</td>\n",
       "    </tr>\n",
       "    <tr>\n",
       "      <th>31514</th>\n",
       "      <td>[{'cast_id': 2, 'character': 'Branwall', 'cred...</td>\n",
       "      <td>[{'credit_id': '5403d669c3a3682d9800427d', 'de...</td>\n",
       "      <td>289923</td>\n",
       "      <td>[44616, 9300, 1359316, 1099459, 1099455, 26851...</td>\n",
       "      <td>[Monty Bane, Lucy Butler, David Grammer, Bill ...</td>\n",
       "      <td>[76541, 76541]</td>\n",
       "      <td>[Ben Rock, Ben Rock]</td>\n",
       "      <td>[{'id': 616, 'name': 'witch'}, {'id': 2035, 'n...</td>\n",
       "      <td>[616, 2035, 3754, 10714, 11800]</td>\n",
       "      <td>[witch, mythology, legend, serial killer, mock...</td>\n",
       "    </tr>\n",
       "    <tr>\n",
       "      <th>31515</th>\n",
       "      <td>[{'cast_id': 0, 'character': '', 'credit_id': ...</td>\n",
       "      <td>[{'credit_id': '5894a97d925141426c00818c', 'de...</td>\n",
       "      <td>439050</td>\n",
       "      <td>[240240, 1749839, 1619957]</td>\n",
       "      <td>[Leila Hatami, Kourosh Tahami, Elham Korda]</td>\n",
       "      <td>[1182809, 1182809, 1543705, 1749842, 1749847, ...</td>\n",
       "      <td>[Hamid Nematollah, Hamid Nematollah, Farshad M...</td>\n",
       "      <td>[{'id': 10703, 'name': 'tragic love'}]</td>\n",
       "      <td>[10703]</td>\n",
       "      <td>[tragic love]</td>\n",
       "    </tr>\n",
       "    <tr>\n",
       "      <th>31516</th>\n",
       "      <td>[{'cast_id': 1002, 'character': 'Sister Angela...</td>\n",
       "      <td>[{'credit_id': '52fe4af1c3a36847f81e9b15', 'de...</td>\n",
       "      <td>111109</td>\n",
       "      <td>[1043186, 111636, 1204271, 278923, 1042953, 57...</td>\n",
       "      <td>[Angel Aquino, Perry Dizon, Hazel Orencio, Joe...</td>\n",
       "      <td>[1051381, 1051381, 1728582, 1051381, 1051381, ...</td>\n",
       "      <td>[Lav Diaz, Lav Diaz, Dante Perez, Lav Diaz, La...</td>\n",
       "      <td>[{'id': 2679, 'name': 'artist'}, {'id': 14531,...</td>\n",
       "      <td>[2679, 14531, 215397]</td>\n",
       "      <td>[artist, play, pinoy]</td>\n",
       "    </tr>\n",
       "  </tbody>\n",
       "</table>\n",
       "</div>"
      ],
      "text/plain": [
       "                                                    cast  \\\n",
       "31512  [{'cast_id': 5, 'character': 'The Creeper', 'c...   \n",
       "31513  [{'cast_id': 30, 'character': 'Debuty Hank Har...   \n",
       "31514  [{'cast_id': 2, 'character': 'Branwall', 'cred...   \n",
       "31515  [{'cast_id': 0, 'character': '', 'credit_id': ...   \n",
       "31516  [{'cast_id': 1002, 'character': 'Sister Angela...   \n",
       "\n",
       "                                                    crew      id  \\\n",
       "31512  [{'credit_id': '58152c139251415a7f0047e2', 'de...   84419   \n",
       "31513  [{'credit_id': '56ff6ddbc3a3686e9e0013bc', 'de...  390959   \n",
       "31514  [{'credit_id': '5403d669c3a3682d9800427d', 'de...  289923   \n",
       "31515  [{'credit_id': '5894a97d925141426c00818c', 'de...  439050   \n",
       "31516  [{'credit_id': '52fe4af1c3a36847f81e9b15', 'de...  111109   \n",
       "\n",
       "                                                 cast_id  \\\n",
       "31512  [931198, 34117, 19967, 34287, 29142, 6933, 143...   \n",
       "31513  [53303, 204174, 79736, 1099459, 1599751, 15997...   \n",
       "31514  [44616, 9300, 1359316, 1099459, 1099455, 26851...   \n",
       "31515                         [240240, 1749839, 1619957]   \n",
       "31516  [1043186, 111636, 1204271, 278923, 1042953, 57...   \n",
       "\n",
       "                                               cast_name  \\\n",
       "31512  [Rondo Hatton, Robert Lowery, Virginia Grey, B...   \n",
       "31513  [Tony Abatemarco, Andre Brooks, Mariclare Cost...   \n",
       "31514  [Monty Bane, Lucy Butler, David Grammer, Bill ...   \n",
       "31515        [Leila Hatami, Kourosh Tahami, Elham Korda]   \n",
       "31516  [Angel Aquino, Perry Dizon, Hazel Orencio, Joe...   \n",
       "\n",
       "                                                 crew_id  \\\n",
       "31512  [12348, 16753, 29813, 30412, 89745, 96696, 117...   \n",
       "31513  [76541, 76541, 1599733, 1599735, 75651, 76541,...   \n",
       "31514                                     [76541, 76541]   \n",
       "31515  [1182809, 1182809, 1543705, 1749842, 1749847, ...   \n",
       "31516  [1051381, 1051381, 1728582, 1051381, 1051381, ...   \n",
       "\n",
       "                                               crew_name  \\\n",
       "31512  [Russell A. Gausman, John B. Goodman, Jack P. ...   \n",
       "31513  [Ben Rock, Ben Rock, Jay Bogdanowitsch, Pirie ...   \n",
       "31514                               [Ben Rock, Ben Rock]   \n",
       "31515  [Hamid Nematollah, Hamid Nematollah, Farshad M...   \n",
       "31516  [Lav Diaz, Lav Diaz, Dante Perez, Lav Diaz, La...   \n",
       "\n",
       "                                                keywords  \\\n",
       "31512  [{'id': 9748, 'name': 'revenge'}, {'id': 9826,...   \n",
       "31513            [{'id': 224180, 'name': 'blair witch'}]   \n",
       "31514  [{'id': 616, 'name': 'witch'}, {'id': 2035, 'n...   \n",
       "31515             [{'id': 10703, 'name': 'tragic love'}]   \n",
       "31516  [{'id': 2679, 'name': 'artist'}, {'id': 14531,...   \n",
       "\n",
       "                                             keywords_id  \\\n",
       "31512  [9748, 9826, 10714, 14512, 173245, 179083, 189...   \n",
       "31513                                           [224180]   \n",
       "31514                    [616, 2035, 3754, 10714, 11800]   \n",
       "31515                                            [10703]   \n",
       "31516                              [2679, 14531, 215397]   \n",
       "\n",
       "                                           keywords_name  \n",
       "31512  [revenge, murder, serial killer, new york city...  \n",
       "31513                                      [blair witch]  \n",
       "31514  [witch, mythology, legend, serial killer, mock...  \n",
       "31515                                      [tragic love]  \n",
       "31516                              [artist, play, pinoy]  "
      ]
     },
     "execution_count": 54,
     "metadata": {},
     "output_type": "execute_result"
    }
   ],
   "source": [
    "merge_df.tail()"
   ]
  },
  {
   "cell_type": "code",
   "execution_count": 55,
   "metadata": {},
   "outputs": [],
   "source": [
    "merge_df.drop('cast', axis=1, inplace=True)"
   ]
  },
  {
   "cell_type": "code",
   "execution_count": 56,
   "metadata": {},
   "outputs": [],
   "source": [
    "merge_df.drop('crew', axis=1, inplace=True)"
   ]
  },
  {
   "cell_type": "code",
   "execution_count": 57,
   "metadata": {},
   "outputs": [],
   "source": [
    "merge_df.drop('keywords', axis=1, inplace=True)"
   ]
  },
  {
   "cell_type": "code",
   "execution_count": 58,
   "metadata": {},
   "outputs": [
    {
     "data": {
      "text/plain": [
       "numpy.int64"
      ]
     },
     "execution_count": 58,
     "metadata": {},
     "output_type": "execute_result"
    }
   ],
   "source": [
    "type(merge_df['id'][0])"
   ]
  },
  {
   "cell_type": "code",
   "execution_count": 59,
   "metadata": {},
   "outputs": [
    {
     "name": "stdout",
     "output_type": "stream",
     "text": [
      "<class 'pandas.core.frame.DataFrame'>\n",
      "Int64Index: 31517 entries, 0 to 31516\n",
      "Data columns (total 7 columns):\n",
      " #   Column         Non-Null Count  Dtype \n",
      "---  ------         --------------  ----- \n",
      " 0   id             31517 non-null  int64 \n",
      " 1   cast_id        31517 non-null  object\n",
      " 2   cast_name      31517 non-null  object\n",
      " 3   crew_id        31517 non-null  object\n",
      " 4   crew_name      31517 non-null  object\n",
      " 5   keywords_id    31517 non-null  object\n",
      " 6   keywords_name  31517 non-null  object\n",
      "dtypes: int64(1), object(6)\n",
      "memory usage: 2.9+ MB\n"
     ]
    }
   ],
   "source": [
    "merge_df.info()"
   ]
  },
  {
   "cell_type": "code",
   "execution_count": 60,
   "metadata": {},
   "outputs": [
    {
     "data": {
      "text/plain": [
       "numpy.int64"
      ]
     },
     "execution_count": 60,
     "metadata": {},
     "output_type": "execute_result"
    }
   ],
   "source": [
    "type(movies_df['id'][0])"
   ]
  },
  {
   "cell_type": "code",
   "execution_count": 61,
   "metadata": {},
   "outputs": [],
   "source": [
    "movies_df['id'] = movies_df['id'].astype(int)"
   ]
  },
  {
   "cell_type": "code",
   "execution_count": 62,
   "metadata": {},
   "outputs": [],
   "source": [
    "df = pd.merge(movies_df, merge_df, on='id')"
   ]
  },
  {
   "cell_type": "code",
   "execution_count": 63,
   "metadata": {},
   "outputs": [
    {
     "data": {
      "text/html": [
       "<div>\n",
       "<style scoped>\n",
       "    .dataframe tbody tr th:only-of-type {\n",
       "        vertical-align: middle;\n",
       "    }\n",
       "\n",
       "    .dataframe tbody tr th {\n",
       "        vertical-align: top;\n",
       "    }\n",
       "\n",
       "    .dataframe thead th {\n",
       "        text-align: right;\n",
       "    }\n",
       "</style>\n",
       "<table border=\"1\" class=\"dataframe\">\n",
       "  <thead>\n",
       "    <tr style=\"text-align: right;\">\n",
       "      <th></th>\n",
       "      <th>Unnamed: 0</th>\n",
       "      <th>original_title</th>\n",
       "      <th>title</th>\n",
       "      <th>id</th>\n",
       "      <th>release_date</th>\n",
       "      <th>genres_name</th>\n",
       "      <th>genres_id</th>\n",
       "      <th>runtime</th>\n",
       "      <th>popularity</th>\n",
       "      <th>original_language</th>\n",
       "      <th>...</th>\n",
       "      <th>production_companies_id</th>\n",
       "      <th>production_countries</th>\n",
       "      <th>adult</th>\n",
       "      <th>vote_count</th>\n",
       "      <th>cast_id</th>\n",
       "      <th>cast_name</th>\n",
       "      <th>crew_id</th>\n",
       "      <th>crew_name</th>\n",
       "      <th>keywords_id</th>\n",
       "      <th>keywords_name</th>\n",
       "    </tr>\n",
       "  </thead>\n",
       "  <tbody>\n",
       "    <tr>\n",
       "      <th>0</th>\n",
       "      <td>0</td>\n",
       "      <td>Toy Story</td>\n",
       "      <td>Toy Story</td>\n",
       "      <td>862</td>\n",
       "      <td>1995-10-30</td>\n",
       "      <td>['Animation', 'Comedy', 'Family']</td>\n",
       "      <td>[16, 35, 10751]</td>\n",
       "      <td>81.0</td>\n",
       "      <td>21.946943</td>\n",
       "      <td>en</td>\n",
       "      <td>...</td>\n",
       "      <td>[3]</td>\n",
       "      <td>['United States of America']</td>\n",
       "      <td>False</td>\n",
       "      <td>5415.0</td>\n",
       "      <td>[31, 12898, 7167, 12899, 12900, 7907, 8873, 11...</td>\n",
       "      <td>[Tom Hanks, Tim Allen, Don Rickles, Jim Varney...</td>\n",
       "      <td>[7879, 12891, 7, 12892, 12893, 12894, 12895, 1...</td>\n",
       "      <td>[John Lasseter, Joss Whedon, Andrew Stanton, J...</td>\n",
       "      <td>[931, 4290, 5202, 6054, 9713, 9823, 165503, 17...</td>\n",
       "      <td>[jealousy, toy, boy, friendship, friends, riva...</td>\n",
       "    </tr>\n",
       "  </tbody>\n",
       "</table>\n",
       "<p>1 rows × 22 columns</p>\n",
       "</div>"
      ],
      "text/plain": [
       "   Unnamed: 0 original_title      title   id release_date  \\\n",
       "0           0      Toy Story  Toy Story  862   1995-10-30   \n",
       "\n",
       "                         genres_name        genres_id  runtime  popularity  \\\n",
       "0  ['Animation', 'Comedy', 'Family']  [16, 35, 10751]     81.0   21.946943   \n",
       "\n",
       "  original_language  ... production_companies_id  \\\n",
       "0                en  ...                     [3]   \n",
       "\n",
       "           production_countries  adult vote_count  \\\n",
       "0  ['United States of America']  False     5415.0   \n",
       "\n",
       "                                             cast_id  \\\n",
       "0  [31, 12898, 7167, 12899, 12900, 7907, 8873, 11...   \n",
       "\n",
       "                                           cast_name  \\\n",
       "0  [Tom Hanks, Tim Allen, Don Rickles, Jim Varney...   \n",
       "\n",
       "                                             crew_id  \\\n",
       "0  [7879, 12891, 7, 12892, 12893, 12894, 12895, 1...   \n",
       "\n",
       "                                           crew_name  \\\n",
       "0  [John Lasseter, Joss Whedon, Andrew Stanton, J...   \n",
       "\n",
       "                                         keywords_id  \\\n",
       "0  [931, 4290, 5202, 6054, 9713, 9823, 165503, 17...   \n",
       "\n",
       "                                       keywords_name  \n",
       "0  [jealousy, toy, boy, friendship, friends, riva...  \n",
       "\n",
       "[1 rows x 22 columns]"
      ]
     },
     "execution_count": 63,
     "metadata": {},
     "output_type": "execute_result"
    }
   ],
   "source": [
    "df.head(1)"
   ]
  },
  {
   "cell_type": "code",
   "execution_count": 64,
   "metadata": {},
   "outputs": [],
   "source": [
    "df.to_csv(\n",
    "    \"../data/project_df.csv\", sep=\",\", encoding=\"utf-8\"\n",
    ")"
   ]
  },
  {
   "cell_type": "code",
   "execution_count": 65,
   "metadata": {},
   "outputs": [],
   "source": [
    "df = pd.read_csv(\"../data/project_df.csv\", sep=\",\", encoding=\"utf-8\")"
   ]
  },
  {
   "cell_type": "code",
   "execution_count": 66,
   "metadata": {},
   "outputs": [],
   "source": [
    "df_new = df[(df['release_date']>='2000-01-01')]"
   ]
  },
  {
   "cell_type": "code",
   "execution_count": 67,
   "metadata": {},
   "outputs": [
    {
     "name": "stdout",
     "output_type": "stream",
     "text": [
      "<class 'pandas.core.frame.DataFrame'>\n",
      "Int64Index: 15485 entries, 1852 to 31283\n",
      "Data columns (total 23 columns):\n",
      " #   Column                     Non-Null Count  Dtype  \n",
      "---  ------                     --------------  -----  \n",
      " 0   Unnamed: 0                 15485 non-null  int64  \n",
      " 1   Unnamed: 0.1               15485 non-null  int64  \n",
      " 2   original_title             15485 non-null  object \n",
      " 3   title                      15485 non-null  object \n",
      " 4   id                         15485 non-null  int64  \n",
      " 5   release_date               15485 non-null  object \n",
      " 6   genres_name                15485 non-null  object \n",
      " 7   genres_id                  15485 non-null  object \n",
      " 8   runtime                    15485 non-null  float64\n",
      " 9   popularity                 15485 non-null  float64\n",
      " 10  original_language          15485 non-null  object \n",
      " 11  spoken_languages           15485 non-null  object \n",
      " 12  production_companies_name  15485 non-null  object \n",
      " 13  production_companies_id    15485 non-null  object \n",
      " 14  production_countries       15485 non-null  object \n",
      " 15  adult                      15485 non-null  bool   \n",
      " 16  vote_count                 15485 non-null  float64\n",
      " 17  cast_id                    15485 non-null  object \n",
      " 18  cast_name                  15485 non-null  object \n",
      " 19  crew_id                    15485 non-null  object \n",
      " 20  crew_name                  15485 non-null  object \n",
      " 21  keywords_id                15485 non-null  object \n",
      " 22  keywords_name              15485 non-null  object \n",
      "dtypes: bool(1), float64(3), int64(3), object(16)\n",
      "memory usage: 2.7+ MB\n"
     ]
    }
   ],
   "source": [
    "df_new.info()"
   ]
  },
  {
   "cell_type": "markdown",
   "metadata": {},
   "source": [
    "### 4. revenue, budget, vote_average 컬럼 추가 (회의내용 반영)\n",
    "- 회의 결과(11.29)에 따라 삭제했던 컬럼 다시 되살림."
   ]
  },
  {
   "cell_type": "code",
   "execution_count": 69,
   "metadata": {},
   "outputs": [],
   "source": [
    "movies['id'] = movies['id'].astype(int)"
   ]
  },
  {
   "cell_type": "code",
   "execution_count": 102,
   "metadata": {},
   "outputs": [],
   "source": [
    "new_df = pd.merge(df_new, movies[['revenue', 'budget', 'vote_average', 'id']], on='id')"
   ]
  },
  {
   "cell_type": "code",
   "execution_count": 103,
   "metadata": {},
   "outputs": [
    {
     "data": {
      "text/plain": [
       "numpy.float64"
      ]
     },
     "execution_count": 103,
     "metadata": {},
     "output_type": "execute_result"
    }
   ],
   "source": [
    "type(new_df['revenue'][0])"
   ]
  },
  {
   "cell_type": "code",
   "execution_count": 104,
   "metadata": {},
   "outputs": [
    {
     "data": {
      "text/plain": [
       "str"
      ]
     },
     "execution_count": 104,
     "metadata": {},
     "output_type": "execute_result"
    }
   ],
   "source": [
    "type(new_df['budget'][0])"
   ]
  },
  {
   "cell_type": "code",
   "execution_count": 105,
   "metadata": {},
   "outputs": [
    {
     "data": {
      "text/plain": [
       "numpy.float64"
      ]
     },
     "execution_count": 105,
     "metadata": {},
     "output_type": "execute_result"
    }
   ],
   "source": [
    "type(new_df['vote_average'][0])"
   ]
  },
  {
   "cell_type": "code",
   "execution_count": 106,
   "metadata": {},
   "outputs": [],
   "source": [
    "# str형을 다른 컬럼과 마찬가지로 계산할 수 있는 float형으로 변환\n",
    "\n",
    "new_df['budget'] = new_df['budget'].astype(float)"
   ]
  },
  {
   "cell_type": "code",
   "execution_count": 107,
   "metadata": {},
   "outputs": [],
   "source": [
    "# budget과 revenue는 0일 수 없으므로 해당 데이터 삭제\n",
    "\n",
    "new_df = new_df[new_df.revenue != 0]"
   ]
  },
  {
   "cell_type": "code",
   "execution_count": 108,
   "metadata": {},
   "outputs": [],
   "source": [
    "new_df = new_df[new_df.budget != 0]"
   ]
  },
  {
   "cell_type": "code",
   "execution_count": 109,
   "metadata": {},
   "outputs": [
    {
     "data": {
      "text/html": [
       "<div>\n",
       "<style scoped>\n",
       "    .dataframe tbody tr th:only-of-type {\n",
       "        vertical-align: middle;\n",
       "    }\n",
       "\n",
       "    .dataframe tbody tr th {\n",
       "        vertical-align: top;\n",
       "    }\n",
       "\n",
       "    .dataframe thead th {\n",
       "        text-align: right;\n",
       "    }\n",
       "</style>\n",
       "<table border=\"1\" class=\"dataframe\">\n",
       "  <thead>\n",
       "    <tr style=\"text-align: right;\">\n",
       "      <th></th>\n",
       "      <th>Unnamed: 0</th>\n",
       "      <th>Unnamed: 0.1</th>\n",
       "      <th>original_title</th>\n",
       "      <th>title</th>\n",
       "      <th>id</th>\n",
       "      <th>release_date</th>\n",
       "      <th>genres_name</th>\n",
       "      <th>genres_id</th>\n",
       "      <th>runtime</th>\n",
       "      <th>popularity</th>\n",
       "      <th>...</th>\n",
       "      <th>vote_count</th>\n",
       "      <th>cast_id</th>\n",
       "      <th>cast_name</th>\n",
       "      <th>crew_id</th>\n",
       "      <th>crew_name</th>\n",
       "      <th>keywords_id</th>\n",
       "      <th>keywords_name</th>\n",
       "      <th>revenue</th>\n",
       "      <th>budget</th>\n",
       "      <th>vote_average</th>\n",
       "    </tr>\n",
       "  </thead>\n",
       "  <tbody>\n",
       "    <tr>\n",
       "      <th>15366</th>\n",
       "      <td>31088</td>\n",
       "      <td>44544</td>\n",
       "      <td>The Dark Tower</td>\n",
       "      <td>The Dark Tower</td>\n",
       "      <td>353491</td>\n",
       "      <td>2017-08-03</td>\n",
       "      <td>['Action', 'Western', 'Science Fiction', 'Fant...</td>\n",
       "      <td>[28, 37, 878, 14, 27]</td>\n",
       "      <td>95.0</td>\n",
       "      <td>50.903593</td>\n",
       "      <td>...</td>\n",
       "      <td>688.0</td>\n",
       "      <td>[17605, 10297, 1696753, 1401531, 51533, 103628...</td>\n",
       "      <td>['Idris Elba', 'Matthew McConaughey', 'Tom Tay...</td>\n",
       "      <td>[339, 1012, 1012, 5914, 3027, 3027, 5575, 5575...</td>\n",
       "      <td>['Brian Grazer', 'Anders Thomas Jensen', 'Ande...</td>\n",
       "      <td>[75, 818]</td>\n",
       "      <td>['gunslinger', 'based on novel']</td>\n",
       "      <td>71000000.0</td>\n",
       "      <td>60000000.0</td>\n",
       "      <td>5.7</td>\n",
       "    </tr>\n",
       "    <tr>\n",
       "      <th>15400</th>\n",
       "      <td>31138</td>\n",
       "      <td>44663</td>\n",
       "      <td>The Emoji Movie</td>\n",
       "      <td>The Emoji Movie</td>\n",
       "      <td>378236</td>\n",
       "      <td>2017-07-28</td>\n",
       "      <td>['Comedy', 'Family', 'Animation']</td>\n",
       "      <td>[35, 10751, 16]</td>\n",
       "      <td>86.0</td>\n",
       "      <td>33.694599</td>\n",
       "      <td>...</td>\n",
       "      <td>327.0</td>\n",
       "      <td>[51990, 55466, 1772, 52792, 3214, 38334, 60255...</td>\n",
       "      <td>['T.J. Miller', 'James Corden', 'Anna Faris', ...</td>\n",
       "      <td>[6874, 7903, 9152, 14819, 76746, 89112, 89112,...</td>\n",
       "      <td>['Ben Waisbren', 'Mary Hidalgo', 'Patrick Doyl...</td>\n",
       "      <td>[207468, 229979, 229980]</td>\n",
       "      <td>['app', 'emoji', 'smartphone']</td>\n",
       "      <td>66913939.0</td>\n",
       "      <td>50000000.0</td>\n",
       "      <td>5.8</td>\n",
       "    </tr>\n",
       "    <tr>\n",
       "      <th>15404</th>\n",
       "      <td>31149</td>\n",
       "      <td>44690</td>\n",
       "      <td>Wind River</td>\n",
       "      <td>Wind River</td>\n",
       "      <td>395834</td>\n",
       "      <td>2017-08-03</td>\n",
       "      <td>['Action', 'Crime', 'Mystery', 'Thriller']</td>\n",
       "      <td>[28, 80, 9648, 53]</td>\n",
       "      <td>111.0</td>\n",
       "      <td>40.796775</td>\n",
       "      <td>...</td>\n",
       "      <td>181.0</td>\n",
       "      <td>[17604, 550843, 84225, 205976, 19498, 6804, 87...</td>\n",
       "      <td>['Jeremy Renner', 'Elizabeth Olsen', 'Gil Birm...</td>\n",
       "      <td>[1614580, 36602, 935798, 67759, 1614581, 74319...</td>\n",
       "      <td>['Elizabeth A. Bell', 'Peter Berg', 'Matthew G...</td>\n",
       "      <td>[570, 1262, 1419, 5340, 9826, 10322, 10950, 13...</td>\n",
       "      <td>['rape', 'mountain', 'gun', 'investigation', '...</td>\n",
       "      <td>184770205.0</td>\n",
       "      <td>11000000.0</td>\n",
       "      <td>7.4</td>\n",
       "    </tr>\n",
       "    <tr>\n",
       "      <th>15432</th>\n",
       "      <td>31189</td>\n",
       "      <td>44772</td>\n",
       "      <td>சிவாஜி</td>\n",
       "      <td>Sivaji: The Boss</td>\n",
       "      <td>24049</td>\n",
       "      <td>2007-06-14</td>\n",
       "      <td>['Action', 'Comedy', 'Drama']</td>\n",
       "      <td>[28, 35, 18]</td>\n",
       "      <td>185.0</td>\n",
       "      <td>1.323587</td>\n",
       "      <td>...</td>\n",
       "      <td>25.0</td>\n",
       "      <td>[91555, 91557, 145628, 85523, 237697, 545009, ...</td>\n",
       "      <td>['Rajinikanth', 'Suman', 'Shriya Saran', 'Vive...</td>\n",
       "      <td>[5288, 81090, 89154, 91552, 91552, 91552, 9155...</td>\n",
       "      <td>['A. R. Rahman', 'Anthony', 'Prabhu Deva', 'S....</td>\n",
       "      <td>[5969, 156024, 206225]</td>\n",
       "      <td>['black money', 'corrupt politician', 'educati...</td>\n",
       "      <td>19000000.0</td>\n",
       "      <td>12000000.0</td>\n",
       "      <td>6.9</td>\n",
       "    </tr>\n",
       "    <tr>\n",
       "      <th>15471</th>\n",
       "      <td>31255</td>\n",
       "      <td>44919</td>\n",
       "      <td>Все и сразу</td>\n",
       "      <td>All at Once</td>\n",
       "      <td>280422</td>\n",
       "      <td>2014-06-05</td>\n",
       "      <td>['Crime', 'Comedy']</td>\n",
       "      <td>[80, 35]</td>\n",
       "      <td>0.0</td>\n",
       "      <td>0.201582</td>\n",
       "      <td>...</td>\n",
       "      <td>4.0</td>\n",
       "      <td>[1337734, 1337735, 1337736, 1337737, 1337738, ...</td>\n",
       "      <td>['Andrey Muravyov', 'Yuliya Khlynina', 'Anton ...</td>\n",
       "      <td>[225680, 225680, 1337733]</td>\n",
       "      <td>['Roman Karimov', 'Roman Karimov', 'Roman Ugle...</td>\n",
       "      <td>[642, 231149]</td>\n",
       "      <td>['robbery', 'mob']</td>\n",
       "      <td>3.0</td>\n",
       "      <td>750000.0</td>\n",
       "      <td>6.0</td>\n",
       "    </tr>\n",
       "  </tbody>\n",
       "</table>\n",
       "<p>5 rows × 26 columns</p>\n",
       "</div>"
      ],
      "text/plain": [
       "       Unnamed: 0  Unnamed: 0.1   original_title             title      id  \\\n",
       "15366       31088         44544   The Dark Tower    The Dark Tower  353491   \n",
       "15400       31138         44663  The Emoji Movie   The Emoji Movie  378236   \n",
       "15404       31149         44690       Wind River        Wind River  395834   \n",
       "15432       31189         44772           சிவாஜி  Sivaji: The Boss   24049   \n",
       "15471       31255         44919      Все и сразу       All at Once  280422   \n",
       "\n",
       "      release_date                                        genres_name  \\\n",
       "15366   2017-08-03  ['Action', 'Western', 'Science Fiction', 'Fant...   \n",
       "15400   2017-07-28                  ['Comedy', 'Family', 'Animation']   \n",
       "15404   2017-08-03         ['Action', 'Crime', 'Mystery', 'Thriller']   \n",
       "15432   2007-06-14                      ['Action', 'Comedy', 'Drama']   \n",
       "15471   2014-06-05                                ['Crime', 'Comedy']   \n",
       "\n",
       "                   genres_id  runtime  popularity  ... vote_count  \\\n",
       "15366  [28, 37, 878, 14, 27]     95.0   50.903593  ...      688.0   \n",
       "15400        [35, 10751, 16]     86.0   33.694599  ...      327.0   \n",
       "15404     [28, 80, 9648, 53]    111.0   40.796775  ...      181.0   \n",
       "15432           [28, 35, 18]    185.0    1.323587  ...       25.0   \n",
       "15471               [80, 35]      0.0    0.201582  ...        4.0   \n",
       "\n",
       "                                                 cast_id  \\\n",
       "15366  [17605, 10297, 1696753, 1401531, 51533, 103628...   \n",
       "15400  [51990, 55466, 1772, 52792, 3214, 38334, 60255...   \n",
       "15404  [17604, 550843, 84225, 205976, 19498, 6804, 87...   \n",
       "15432  [91555, 91557, 145628, 85523, 237697, 545009, ...   \n",
       "15471  [1337734, 1337735, 1337736, 1337737, 1337738, ...   \n",
       "\n",
       "                                               cast_name  \\\n",
       "15366  ['Idris Elba', 'Matthew McConaughey', 'Tom Tay...   \n",
       "15400  ['T.J. Miller', 'James Corden', 'Anna Faris', ...   \n",
       "15404  ['Jeremy Renner', 'Elizabeth Olsen', 'Gil Birm...   \n",
       "15432  ['Rajinikanth', 'Suman', 'Shriya Saran', 'Vive...   \n",
       "15471  ['Andrey Muravyov', 'Yuliya Khlynina', 'Anton ...   \n",
       "\n",
       "                                                 crew_id  \\\n",
       "15366  [339, 1012, 1012, 5914, 3027, 3027, 5575, 5575...   \n",
       "15400  [6874, 7903, 9152, 14819, 76746, 89112, 89112,...   \n",
       "15404  [1614580, 36602, 935798, 67759, 1614581, 74319...   \n",
       "15432  [5288, 81090, 89154, 91552, 91552, 91552, 9155...   \n",
       "15471                          [225680, 225680, 1337733]   \n",
       "\n",
       "                                               crew_name  \\\n",
       "15366  ['Brian Grazer', 'Anders Thomas Jensen', 'Ande...   \n",
       "15400  ['Ben Waisbren', 'Mary Hidalgo', 'Patrick Doyl...   \n",
       "15404  ['Elizabeth A. Bell', 'Peter Berg', 'Matthew G...   \n",
       "15432  ['A. R. Rahman', 'Anthony', 'Prabhu Deva', 'S....   \n",
       "15471  ['Roman Karimov', 'Roman Karimov', 'Roman Ugle...   \n",
       "\n",
       "                                             keywords_id  \\\n",
       "15366                                          [75, 818]   \n",
       "15400                           [207468, 229979, 229980]   \n",
       "15404  [570, 1262, 1419, 5340, 9826, 10322, 10950, 13...   \n",
       "15432                             [5969, 156024, 206225]   \n",
       "15471                                      [642, 231149]   \n",
       "\n",
       "                                           keywords_name      revenue  \\\n",
       "15366                   ['gunslinger', 'based on novel']   71000000.0   \n",
       "15400                     ['app', 'emoji', 'smartphone']   66913939.0   \n",
       "15404  ['rape', 'mountain', 'gun', 'investigation', '...  184770205.0   \n",
       "15432  ['black money', 'corrupt politician', 'educati...   19000000.0   \n",
       "15471                                 ['robbery', 'mob']          3.0   \n",
       "\n",
       "           budget vote_average  \n",
       "15366  60000000.0          5.7  \n",
       "15400  50000000.0          5.8  \n",
       "15404  11000000.0          7.4  \n",
       "15432  12000000.0          6.9  \n",
       "15471    750000.0          6.0  \n",
       "\n",
       "[5 rows x 26 columns]"
      ]
     },
     "execution_count": 109,
     "metadata": {},
     "output_type": "execute_result"
    }
   ],
   "source": [
    "new_df.tail()"
   ]
  },
  {
   "cell_type": "code",
   "execution_count": 110,
   "metadata": {},
   "outputs": [
    {
     "name": "stdout",
     "output_type": "stream",
     "text": [
      "<class 'pandas.core.frame.DataFrame'>\n",
      "Int64Index: 3199 entries, 6 to 15471\n",
      "Data columns (total 26 columns):\n",
      " #   Column                     Non-Null Count  Dtype  \n",
      "---  ------                     --------------  -----  \n",
      " 0   Unnamed: 0                 3199 non-null   int64  \n",
      " 1   Unnamed: 0.1               3199 non-null   int64  \n",
      " 2   original_title             3199 non-null   object \n",
      " 3   title                      3199 non-null   object \n",
      " 4   id                         3199 non-null   int64  \n",
      " 5   release_date               3199 non-null   object \n",
      " 6   genres_name                3199 non-null   object \n",
      " 7   genres_id                  3199 non-null   object \n",
      " 8   runtime                    3199 non-null   float64\n",
      " 9   popularity                 3199 non-null   float64\n",
      " 10  original_language          3199 non-null   object \n",
      " 11  spoken_languages           3199 non-null   object \n",
      " 12  production_companies_name  3199 non-null   object \n",
      " 13  production_companies_id    3199 non-null   object \n",
      " 14  production_countries       3199 non-null   object \n",
      " 15  adult                      3199 non-null   bool   \n",
      " 16  vote_count                 3199 non-null   float64\n",
      " 17  cast_id                    3199 non-null   object \n",
      " 18  cast_name                  3199 non-null   object \n",
      " 19  crew_id                    3199 non-null   object \n",
      " 20  crew_name                  3199 non-null   object \n",
      " 21  keywords_id                3199 non-null   object \n",
      " 22  keywords_name              3199 non-null   object \n",
      " 23  revenue                    3199 non-null   float64\n",
      " 24  budget                     3199 non-null   float64\n",
      " 25  vote_average               3199 non-null   float64\n",
      "dtypes: bool(1), float64(6), int64(3), object(16)\n",
      "memory usage: 652.9+ KB\n"
     ]
    }
   ],
   "source": [
    "new_df.info()"
   ]
  },
  {
   "cell_type": "code",
   "execution_count": 111,
   "metadata": {},
   "outputs": [],
   "source": [
    "new_df.drop('Unnamed: 0', axis=1, inplace=True)\n",
    "new_df.drop('Unnamed: 0.1', axis=1, inplace=True)"
   ]
  },
  {
   "cell_type": "code",
   "execution_count": 112,
   "metadata": {},
   "outputs": [
    {
     "data": {
      "text/html": [
       "<div>\n",
       "<style scoped>\n",
       "    .dataframe tbody tr th:only-of-type {\n",
       "        vertical-align: middle;\n",
       "    }\n",
       "\n",
       "    .dataframe tbody tr th {\n",
       "        vertical-align: top;\n",
       "    }\n",
       "\n",
       "    .dataframe thead th {\n",
       "        text-align: right;\n",
       "    }\n",
       "</style>\n",
       "<table border=\"1\" class=\"dataframe\">\n",
       "  <thead>\n",
       "    <tr style=\"text-align: right;\">\n",
       "      <th></th>\n",
       "      <th>original_title</th>\n",
       "      <th>title</th>\n",
       "      <th>id</th>\n",
       "      <th>release_date</th>\n",
       "      <th>genres_name</th>\n",
       "      <th>genres_id</th>\n",
       "      <th>runtime</th>\n",
       "      <th>popularity</th>\n",
       "      <th>original_language</th>\n",
       "      <th>spoken_languages</th>\n",
       "      <th>...</th>\n",
       "      <th>vote_count</th>\n",
       "      <th>cast_id</th>\n",
       "      <th>cast_name</th>\n",
       "      <th>crew_id</th>\n",
       "      <th>crew_name</th>\n",
       "      <th>keywords_id</th>\n",
       "      <th>keywords_name</th>\n",
       "      <th>revenue</th>\n",
       "      <th>budget</th>\n",
       "      <th>vote_average</th>\n",
       "    </tr>\n",
       "  </thead>\n",
       "  <tbody>\n",
       "    <tr>\n",
       "      <th>0</th>\n",
       "      <td>Next Friday</td>\n",
       "      <td>Next Friday</td>\n",
       "      <td>10471</td>\n",
       "      <td>2000-01-12</td>\n",
       "      <td>['Comedy']</td>\n",
       "      <td>[35]</td>\n",
       "      <td>98.0</td>\n",
       "      <td>10.065450</td>\n",
       "      <td>en</td>\n",
       "      <td>['English']</td>\n",
       "      <td>...</td>\n",
       "      <td>145.0</td>\n",
       "      <td>[9778, 51944, 57389, 56902, 65132, 16429, 4807...</td>\n",
       "      <td>['Ice Cube', 'Mike Epps', 'Justin Pierce', 'Jo...</td>\n",
       "      <td>[52112, 9778, 5287, 3121, 50723, 9778, 9778, 6...</td>\n",
       "      <td>['Steve Carr', 'Ice Cube', 'Terence Blanchard'...</td>\n",
       "      <td>[378, 1522, 2987, 7858, 9748, 9777, 10685, 126...</td>\n",
       "      <td>['prison', 'repayment', 'gang war', 'boy gang'...</td>\n",
       "      <td>59827328.0</td>\n",
       "      <td>11000000.0</td>\n",
       "      <td>6.5</td>\n",
       "    </tr>\n",
       "    <tr>\n",
       "      <th>1</th>\n",
       "      <td>Supernova</td>\n",
       "      <td>Supernova</td>\n",
       "      <td>10384</td>\n",
       "      <td>2000-01-14</td>\n",
       "      <td>['Horror', 'Science Fiction', 'Thriller']</td>\n",
       "      <td>[27, 878, 53]</td>\n",
       "      <td>91.0</td>\n",
       "      <td>5.496624</td>\n",
       "      <td>en</td>\n",
       "      <td>['English']</td>\n",
       "      <td>...</td>\n",
       "      <td>109.0</td>\n",
       "      <td>[13548, 9780, 5694, 38560, 56857, 17346, 54453...</td>\n",
       "      <td>['James Spader', 'Angela Bassett', 'Robert For...</td>\n",
       "      <td>[1723, 2121, 2530, 7733, 11308, 15332, 17233, ...</td>\n",
       "      <td>['Walter Hill', 'Mary Jo Slater', 'Bob Ringwoo...</td>\n",
       "      <td>[577, 1472, 2964, 3412, 5100, 222423]</td>\n",
       "      <td>['black people', 'starships', 'future', 'star'...</td>\n",
       "      <td>14828081.0</td>\n",
       "      <td>90000000.0</td>\n",
       "      <td>4.9</td>\n",
       "    </tr>\n",
       "    <tr>\n",
       "      <th>2</th>\n",
       "      <td>Isn't She Great</td>\n",
       "      <td>Isn't She Great</td>\n",
       "      <td>75531</td>\n",
       "      <td>2000-01-28</td>\n",
       "      <td>['Drama', 'Comedy']</td>\n",
       "      <td>[18, 35]</td>\n",
       "      <td>95.0</td>\n",
       "      <td>0.907927</td>\n",
       "      <td>de</td>\n",
       "      <td>['English']</td>\n",
       "      <td>...</td>\n",
       "      <td>14.0</td>\n",
       "      <td>[73931, 78729, 8893, 11076, 8930, 14101, 2956,...</td>\n",
       "      <td>['Bette Midler', 'Nathan Lane', 'Stockard Chan...</td>\n",
       "      <td>[284, 2988, 6048, 8677, 9580, 32588, 31143, 37...</td>\n",
       "      <td>['Gary Levinsohn', 'Barry Malkin', 'Mark Gordo...</td>\n",
       "      <td>[1646]</td>\n",
       "      <td>['autism']</td>\n",
       "      <td>3003296.0</td>\n",
       "      <td>36000000.0</td>\n",
       "      <td>4.6</td>\n",
       "    </tr>\n",
       "    <tr>\n",
       "      <th>3</th>\n",
       "      <td>Scream 3</td>\n",
       "      <td>Scream 3</td>\n",
       "      <td>4234</td>\n",
       "      <td>2000-02-03</td>\n",
       "      <td>['Horror', 'Mystery']</td>\n",
       "      <td>[27, 9648]</td>\n",
       "      <td>116.0</td>\n",
       "      <td>9.738371</td>\n",
       "      <td>en</td>\n",
       "      <td>['English']</td>\n",
       "      <td>...</td>\n",
       "      <td>749.0</td>\n",
       "      <td>[15234, 9206, 14405, 18352, 35595, 2714, 35598...</td>\n",
       "      <td>['David Arquette', 'Neve Campbell', 'Courteney...</td>\n",
       "      <td>[5140, 26458, 15244, 409, 35581, 26458, 7229, ...</td>\n",
       "      <td>['Wes Craven', 'Kevin Williamson', 'Ehren Krug...</td>\n",
       "      <td>[2546, 2573, 2793, 8440, 12193, 12339, 13124, ...</td>\n",
       "      <td>['mask', 'metal detector', 'film director', 'e...</td>\n",
       "      <td>161834276.0</td>\n",
       "      <td>40000000.0</td>\n",
       "      <td>5.7</td>\n",
       "    </tr>\n",
       "    <tr>\n",
       "      <th>4</th>\n",
       "      <td>Gun Shy</td>\n",
       "      <td>Gun Shy</td>\n",
       "      <td>29076</td>\n",
       "      <td>2000-02-04</td>\n",
       "      <td>['Action', 'Comedy', 'Romance', 'Thriller']</td>\n",
       "      <td>[28, 35, 10749, 53]</td>\n",
       "      <td>101.0</td>\n",
       "      <td>6.370105</td>\n",
       "      <td>en</td>\n",
       "      <td>['English']</td>\n",
       "      <td>...</td>\n",
       "      <td>24.0</td>\n",
       "      <td>[18277, 3896, 17485, 10963, 52422, 31028, 1980...</td>\n",
       "      <td>['Sandra Bullock', 'Liam Neeson', 'Oliver Plat...</td>\n",
       "      <td>[95818, 95818]</td>\n",
       "      <td>['Eric Blakeney', 'Eric Blakeney']</td>\n",
       "      <td>[293, 10175, 15274]</td>\n",
       "      <td>['female nudity', 'drug cartel', 'nervous brea...</td>\n",
       "      <td>1631839.0</td>\n",
       "      <td>10000000.0</td>\n",
       "      <td>5.4</td>\n",
       "    </tr>\n",
       "    <tr>\n",
       "      <th>...</th>\n",
       "      <td>...</td>\n",
       "      <td>...</td>\n",
       "      <td>...</td>\n",
       "      <td>...</td>\n",
       "      <td>...</td>\n",
       "      <td>...</td>\n",
       "      <td>...</td>\n",
       "      <td>...</td>\n",
       "      <td>...</td>\n",
       "      <td>...</td>\n",
       "      <td>...</td>\n",
       "      <td>...</td>\n",
       "      <td>...</td>\n",
       "      <td>...</td>\n",
       "      <td>...</td>\n",
       "      <td>...</td>\n",
       "      <td>...</td>\n",
       "      <td>...</td>\n",
       "      <td>...</td>\n",
       "      <td>...</td>\n",
       "      <td>...</td>\n",
       "    </tr>\n",
       "    <tr>\n",
       "      <th>3194</th>\n",
       "      <td>The Dark Tower</td>\n",
       "      <td>The Dark Tower</td>\n",
       "      <td>353491</td>\n",
       "      <td>2017-08-03</td>\n",
       "      <td>['Action', 'Western', 'Science Fiction', 'Fant...</td>\n",
       "      <td>[28, 37, 878, 14, 27]</td>\n",
       "      <td>95.0</td>\n",
       "      <td>50.903593</td>\n",
       "      <td>en</td>\n",
       "      <td>['English']</td>\n",
       "      <td>...</td>\n",
       "      <td>688.0</td>\n",
       "      <td>[17605, 10297, 1696753, 1401531, 51533, 103628...</td>\n",
       "      <td>['Idris Elba', 'Matthew McConaughey', 'Tom Tay...</td>\n",
       "      <td>[339, 1012, 1012, 5914, 3027, 3027, 5575, 5575...</td>\n",
       "      <td>['Brian Grazer', 'Anders Thomas Jensen', 'Ande...</td>\n",
       "      <td>[75, 818]</td>\n",
       "      <td>['gunslinger', 'based on novel']</td>\n",
       "      <td>71000000.0</td>\n",
       "      <td>60000000.0</td>\n",
       "      <td>5.7</td>\n",
       "    </tr>\n",
       "    <tr>\n",
       "      <th>3195</th>\n",
       "      <td>The Emoji Movie</td>\n",
       "      <td>The Emoji Movie</td>\n",
       "      <td>378236</td>\n",
       "      <td>2017-07-28</td>\n",
       "      <td>['Comedy', 'Family', 'Animation']</td>\n",
       "      <td>[35, 10751, 16]</td>\n",
       "      <td>86.0</td>\n",
       "      <td>33.694599</td>\n",
       "      <td>en</td>\n",
       "      <td>['English']</td>\n",
       "      <td>...</td>\n",
       "      <td>327.0</td>\n",
       "      <td>[51990, 55466, 1772, 52792, 3214, 38334, 60255...</td>\n",
       "      <td>['T.J. Miller', 'James Corden', 'Anna Faris', ...</td>\n",
       "      <td>[6874, 7903, 9152, 14819, 76746, 89112, 89112,...</td>\n",
       "      <td>['Ben Waisbren', 'Mary Hidalgo', 'Patrick Doyl...</td>\n",
       "      <td>[207468, 229979, 229980]</td>\n",
       "      <td>['app', 'emoji', 'smartphone']</td>\n",
       "      <td>66913939.0</td>\n",
       "      <td>50000000.0</td>\n",
       "      <td>5.8</td>\n",
       "    </tr>\n",
       "    <tr>\n",
       "      <th>3196</th>\n",
       "      <td>Wind River</td>\n",
       "      <td>Wind River</td>\n",
       "      <td>395834</td>\n",
       "      <td>2017-08-03</td>\n",
       "      <td>['Action', 'Crime', 'Mystery', 'Thriller']</td>\n",
       "      <td>[28, 80, 9648, 53]</td>\n",
       "      <td>111.0</td>\n",
       "      <td>40.796775</td>\n",
       "      <td>en</td>\n",
       "      <td>['English']</td>\n",
       "      <td>...</td>\n",
       "      <td>181.0</td>\n",
       "      <td>[17604, 550843, 84225, 205976, 19498, 6804, 87...</td>\n",
       "      <td>['Jeremy Renner', 'Elizabeth Olsen', 'Gil Birm...</td>\n",
       "      <td>[1614580, 36602, 935798, 67759, 1614581, 74319...</td>\n",
       "      <td>['Elizabeth A. Bell', 'Peter Berg', 'Matthew G...</td>\n",
       "      <td>[570, 1262, 1419, 5340, 9826, 10322, 10950, 13...</td>\n",
       "      <td>['rape', 'mountain', 'gun', 'investigation', '...</td>\n",
       "      <td>184770205.0</td>\n",
       "      <td>11000000.0</td>\n",
       "      <td>7.4</td>\n",
       "    </tr>\n",
       "    <tr>\n",
       "      <th>3197</th>\n",
       "      <td>சிவாஜி</td>\n",
       "      <td>Sivaji: The Boss</td>\n",
       "      <td>24049</td>\n",
       "      <td>2007-06-14</td>\n",
       "      <td>['Action', 'Comedy', 'Drama']</td>\n",
       "      <td>[28, 35, 18]</td>\n",
       "      <td>185.0</td>\n",
       "      <td>1.323587</td>\n",
       "      <td>ta</td>\n",
       "      <td>['தமிழ்', 'తెలుగు']</td>\n",
       "      <td>...</td>\n",
       "      <td>25.0</td>\n",
       "      <td>[91555, 91557, 145628, 85523, 237697, 545009, ...</td>\n",
       "      <td>['Rajinikanth', 'Suman', 'Shriya Saran', 'Vive...</td>\n",
       "      <td>[5288, 81090, 89154, 91552, 91552, 91552, 9155...</td>\n",
       "      <td>['A. R. Rahman', 'Anthony', 'Prabhu Deva', 'S....</td>\n",
       "      <td>[5969, 156024, 206225]</td>\n",
       "      <td>['black money', 'corrupt politician', 'educati...</td>\n",
       "      <td>19000000.0</td>\n",
       "      <td>12000000.0</td>\n",
       "      <td>6.9</td>\n",
       "    </tr>\n",
       "    <tr>\n",
       "      <th>3198</th>\n",
       "      <td>Все и сразу</td>\n",
       "      <td>All at Once</td>\n",
       "      <td>280422</td>\n",
       "      <td>2014-06-05</td>\n",
       "      <td>['Crime', 'Comedy']</td>\n",
       "      <td>[80, 35]</td>\n",
       "      <td>0.0</td>\n",
       "      <td>0.201582</td>\n",
       "      <td>ru</td>\n",
       "      <td>['Pусский']</td>\n",
       "      <td>...</td>\n",
       "      <td>4.0</td>\n",
       "      <td>[1337734, 1337735, 1337736, 1337737, 1337738, ...</td>\n",
       "      <td>['Andrey Muravyov', 'Yuliya Khlynina', 'Anton ...</td>\n",
       "      <td>[225680, 225680, 1337733]</td>\n",
       "      <td>['Roman Karimov', 'Roman Karimov', 'Roman Ugle...</td>\n",
       "      <td>[642, 231149]</td>\n",
       "      <td>['robbery', 'mob']</td>\n",
       "      <td>3.0</td>\n",
       "      <td>750000.0</td>\n",
       "      <td>6.0</td>\n",
       "    </tr>\n",
       "  </tbody>\n",
       "</table>\n",
       "<p>3199 rows × 24 columns</p>\n",
       "</div>"
      ],
      "text/plain": [
       "       original_title             title      id release_date  \\\n",
       "0         Next Friday       Next Friday   10471   2000-01-12   \n",
       "1           Supernova         Supernova   10384   2000-01-14   \n",
       "2     Isn't She Great   Isn't She Great   75531   2000-01-28   \n",
       "3            Scream 3          Scream 3    4234   2000-02-03   \n",
       "4             Gun Shy           Gun Shy   29076   2000-02-04   \n",
       "...               ...               ...     ...          ...   \n",
       "3194   The Dark Tower    The Dark Tower  353491   2017-08-03   \n",
       "3195  The Emoji Movie   The Emoji Movie  378236   2017-07-28   \n",
       "3196       Wind River        Wind River  395834   2017-08-03   \n",
       "3197           சிவாஜி  Sivaji: The Boss   24049   2007-06-14   \n",
       "3198      Все и сразу       All at Once  280422   2014-06-05   \n",
       "\n",
       "                                            genres_name  \\\n",
       "0                                            ['Comedy']   \n",
       "1             ['Horror', 'Science Fiction', 'Thriller']   \n",
       "2                                   ['Drama', 'Comedy']   \n",
       "3                                 ['Horror', 'Mystery']   \n",
       "4           ['Action', 'Comedy', 'Romance', 'Thriller']   \n",
       "...                                                 ...   \n",
       "3194  ['Action', 'Western', 'Science Fiction', 'Fant...   \n",
       "3195                  ['Comedy', 'Family', 'Animation']   \n",
       "3196         ['Action', 'Crime', 'Mystery', 'Thriller']   \n",
       "3197                      ['Action', 'Comedy', 'Drama']   \n",
       "3198                                ['Crime', 'Comedy']   \n",
       "\n",
       "                  genres_id  runtime  popularity original_language  \\\n",
       "0                      [35]     98.0   10.065450                en   \n",
       "1             [27, 878, 53]     91.0    5.496624                en   \n",
       "2                  [18, 35]     95.0    0.907927                de   \n",
       "3                [27, 9648]    116.0    9.738371                en   \n",
       "4       [28, 35, 10749, 53]    101.0    6.370105                en   \n",
       "...                     ...      ...         ...               ...   \n",
       "3194  [28, 37, 878, 14, 27]     95.0   50.903593                en   \n",
       "3195        [35, 10751, 16]     86.0   33.694599                en   \n",
       "3196     [28, 80, 9648, 53]    111.0   40.796775                en   \n",
       "3197           [28, 35, 18]    185.0    1.323587                ta   \n",
       "3198               [80, 35]      0.0    0.201582                ru   \n",
       "\n",
       "         spoken_languages  ... vote_count  \\\n",
       "0             ['English']  ...      145.0   \n",
       "1             ['English']  ...      109.0   \n",
       "2             ['English']  ...       14.0   \n",
       "3             ['English']  ...      749.0   \n",
       "4             ['English']  ...       24.0   \n",
       "...                   ...  ...        ...   \n",
       "3194          ['English']  ...      688.0   \n",
       "3195          ['English']  ...      327.0   \n",
       "3196          ['English']  ...      181.0   \n",
       "3197  ['தமிழ்', 'తెలుగు']  ...       25.0   \n",
       "3198          ['Pусский']  ...        4.0   \n",
       "\n",
       "                                                cast_id  \\\n",
       "0     [9778, 51944, 57389, 56902, 65132, 16429, 4807...   \n",
       "1     [13548, 9780, 5694, 38560, 56857, 17346, 54453...   \n",
       "2     [73931, 78729, 8893, 11076, 8930, 14101, 2956,...   \n",
       "3     [15234, 9206, 14405, 18352, 35595, 2714, 35598...   \n",
       "4     [18277, 3896, 17485, 10963, 52422, 31028, 1980...   \n",
       "...                                                 ...   \n",
       "3194  [17605, 10297, 1696753, 1401531, 51533, 103628...   \n",
       "3195  [51990, 55466, 1772, 52792, 3214, 38334, 60255...   \n",
       "3196  [17604, 550843, 84225, 205976, 19498, 6804, 87...   \n",
       "3197  [91555, 91557, 145628, 85523, 237697, 545009, ...   \n",
       "3198  [1337734, 1337735, 1337736, 1337737, 1337738, ...   \n",
       "\n",
       "                                              cast_name  \\\n",
       "0     ['Ice Cube', 'Mike Epps', 'Justin Pierce', 'Jo...   \n",
       "1     ['James Spader', 'Angela Bassett', 'Robert For...   \n",
       "2     ['Bette Midler', 'Nathan Lane', 'Stockard Chan...   \n",
       "3     ['David Arquette', 'Neve Campbell', 'Courteney...   \n",
       "4     ['Sandra Bullock', 'Liam Neeson', 'Oliver Plat...   \n",
       "...                                                 ...   \n",
       "3194  ['Idris Elba', 'Matthew McConaughey', 'Tom Tay...   \n",
       "3195  ['T.J. Miller', 'James Corden', 'Anna Faris', ...   \n",
       "3196  ['Jeremy Renner', 'Elizabeth Olsen', 'Gil Birm...   \n",
       "3197  ['Rajinikanth', 'Suman', 'Shriya Saran', 'Vive...   \n",
       "3198  ['Andrey Muravyov', 'Yuliya Khlynina', 'Anton ...   \n",
       "\n",
       "                                                crew_id  \\\n",
       "0     [52112, 9778, 5287, 3121, 50723, 9778, 9778, 6...   \n",
       "1     [1723, 2121, 2530, 7733, 11308, 15332, 17233, ...   \n",
       "2     [284, 2988, 6048, 8677, 9580, 32588, 31143, 37...   \n",
       "3     [5140, 26458, 15244, 409, 35581, 26458, 7229, ...   \n",
       "4                                        [95818, 95818]   \n",
       "...                                                 ...   \n",
       "3194  [339, 1012, 1012, 5914, 3027, 3027, 5575, 5575...   \n",
       "3195  [6874, 7903, 9152, 14819, 76746, 89112, 89112,...   \n",
       "3196  [1614580, 36602, 935798, 67759, 1614581, 74319...   \n",
       "3197  [5288, 81090, 89154, 91552, 91552, 91552, 9155...   \n",
       "3198                          [225680, 225680, 1337733]   \n",
       "\n",
       "                                              crew_name  \\\n",
       "0     ['Steve Carr', 'Ice Cube', 'Terence Blanchard'...   \n",
       "1     ['Walter Hill', 'Mary Jo Slater', 'Bob Ringwoo...   \n",
       "2     ['Gary Levinsohn', 'Barry Malkin', 'Mark Gordo...   \n",
       "3     ['Wes Craven', 'Kevin Williamson', 'Ehren Krug...   \n",
       "4                    ['Eric Blakeney', 'Eric Blakeney']   \n",
       "...                                                 ...   \n",
       "3194  ['Brian Grazer', 'Anders Thomas Jensen', 'Ande...   \n",
       "3195  ['Ben Waisbren', 'Mary Hidalgo', 'Patrick Doyl...   \n",
       "3196  ['Elizabeth A. Bell', 'Peter Berg', 'Matthew G...   \n",
       "3197  ['A. R. Rahman', 'Anthony', 'Prabhu Deva', 'S....   \n",
       "3198  ['Roman Karimov', 'Roman Karimov', 'Roman Ugle...   \n",
       "\n",
       "                                            keywords_id  \\\n",
       "0     [378, 1522, 2987, 7858, 9748, 9777, 10685, 126...   \n",
       "1                 [577, 1472, 2964, 3412, 5100, 222423]   \n",
       "2                                                [1646]   \n",
       "3     [2546, 2573, 2793, 8440, 12193, 12339, 13124, ...   \n",
       "4                                   [293, 10175, 15274]   \n",
       "...                                                 ...   \n",
       "3194                                          [75, 818]   \n",
       "3195                           [207468, 229979, 229980]   \n",
       "3196  [570, 1262, 1419, 5340, 9826, 10322, 10950, 13...   \n",
       "3197                             [5969, 156024, 206225]   \n",
       "3198                                      [642, 231149]   \n",
       "\n",
       "                                          keywords_name      revenue  \\\n",
       "0     ['prison', 'repayment', 'gang war', 'boy gang'...   59827328.0   \n",
       "1     ['black people', 'starships', 'future', 'star'...   14828081.0   \n",
       "2                                            ['autism']    3003296.0   \n",
       "3     ['mask', 'metal detector', 'film director', 'e...  161834276.0   \n",
       "4     ['female nudity', 'drug cartel', 'nervous brea...    1631839.0   \n",
       "...                                                 ...          ...   \n",
       "3194                   ['gunslinger', 'based on novel']   71000000.0   \n",
       "3195                     ['app', 'emoji', 'smartphone']   66913939.0   \n",
       "3196  ['rape', 'mountain', 'gun', 'investigation', '...  184770205.0   \n",
       "3197  ['black money', 'corrupt politician', 'educati...   19000000.0   \n",
       "3198                                 ['robbery', 'mob']          3.0   \n",
       "\n",
       "          budget vote_average  \n",
       "0     11000000.0          6.5  \n",
       "1     90000000.0          4.9  \n",
       "2     36000000.0          4.6  \n",
       "3     40000000.0          5.7  \n",
       "4     10000000.0          5.4  \n",
       "...          ...          ...  \n",
       "3194  60000000.0          5.7  \n",
       "3195  50000000.0          5.8  \n",
       "3196  11000000.0          7.4  \n",
       "3197  12000000.0          6.9  \n",
       "3198    750000.0          6.0  \n",
       "\n",
       "[3199 rows x 24 columns]"
      ]
     },
     "execution_count": 112,
     "metadata": {},
     "output_type": "execute_result"
    }
   ],
   "source": [
    "new_df.reset_index(drop=True)"
   ]
  },
  {
   "cell_type": "code",
   "execution_count": 113,
   "metadata": {},
   "outputs": [],
   "source": [
    "new_df.to_csv(\n",
    "    \"../data/21c_movies.csv\", sep=\",\", encoding=\"utf-8\", index = None\n",
    ")"
   ]
  },
  {
   "cell_type": "markdown",
   "metadata": {},
   "source": [
    "### 5. 값 정리"
   ]
  },
  {
   "cell_type": "markdown",
   "metadata": {},
   "source": [
    "#### 1) original language LabelEncoding"
   ]
  },
  {
   "cell_type": "code",
   "execution_count": 219,
   "metadata": {},
   "outputs": [],
   "source": [
    "new_df = pd.read_csv('../data/21c_movies.csv', encoding='utf-8')"
   ]
  },
  {
   "cell_type": "code",
   "execution_count": 163,
   "metadata": {},
   "outputs": [],
   "source": [
    "import numpy as np\n",
    "import matplotlib.pyplot as plt\n",
    "import seaborn as sns"
   ]
  },
  {
   "cell_type": "code",
   "execution_count": 164,
   "metadata": {},
   "outputs": [],
   "source": [
    "# 리스트가 아니어서 전처리 없이 라벨 인코딩 가능한 값은 라벨 인코딩 진행\n",
    "from sklearn.preprocessing import LabelEncoder\n",
    "\n",
    "le = LabelEncoder()"
   ]
  },
  {
   "cell_type": "code",
   "execution_count": 188,
   "metadata": {},
   "outputs": [
    {
     "data": {
      "image/png": "[encoded data removed]",
      "text/plain": [
       "<Figure size 864x432 with 1 Axes>"
      ]
     },
     "metadata": {
      "needs_background": "light"
     },
     "output_type": "display_data"
    }
   ],
   "source": [
    "# original language에 따른 budget 평균값 차이 확인\n",
    "\n",
    "lang_budget = new_df.pivot_table(index='original_language', values=['budget'], aggfunc=np.mean).sort_values(by='budget', ascending=False)\n",
    "plt.figure(figsize=(12, 6))\n",
    "sns.barplot(x=lang_budget.index, y=lang_budget['budget'], data=lang_budget)\n",
    "plt.xticks(rotation=90)\n",
    "plt.show()"
   ]
  },
  {
   "cell_type": "code",
   "execution_count": 220,
   "metadata": {},
   "outputs": [],
   "source": [
    "new_df['original_language'] = le.fit_transform(new_df['original_language'])"
   ]
  },
  {
   "cell_type": "code",
   "execution_count": 221,
   "metadata": {},
   "outputs": [
    {
     "data": {
      "text/html": [
       "<div>\n",
       "<style scoped>\n",
       "    .dataframe tbody tr th:only-of-type {\n",
       "        vertical-align: middle;\n",
       "    }\n",
       "\n",
       "    .dataframe tbody tr th {\n",
       "        vertical-align: top;\n",
       "    }\n",
       "\n",
       "    .dataframe thead th {\n",
       "        text-align: right;\n",
       "    }\n",
       "</style>\n",
       "<table border=\"1\" class=\"dataframe\">\n",
       "  <thead>\n",
       "    <tr style=\"text-align: right;\">\n",
       "      <th></th>\n",
       "      <th>original_title</th>\n",
       "      <th>title</th>\n",
       "      <th>id</th>\n",
       "      <th>release_date</th>\n",
       "      <th>genres_name</th>\n",
       "      <th>genres_id</th>\n",
       "      <th>runtime</th>\n",
       "      <th>popularity</th>\n",
       "      <th>original_language</th>\n",
       "      <th>spoken_languages</th>\n",
       "      <th>...</th>\n",
       "      <th>vote_count</th>\n",
       "      <th>cast_id</th>\n",
       "      <th>cast_name</th>\n",
       "      <th>crew_id</th>\n",
       "      <th>crew_name</th>\n",
       "      <th>keywords_id</th>\n",
       "      <th>keywords_name</th>\n",
       "      <th>revenue</th>\n",
       "      <th>budget</th>\n",
       "      <th>vote_average</th>\n",
       "    </tr>\n",
       "  </thead>\n",
       "  <tbody>\n",
       "    <tr>\n",
       "      <th>0</th>\n",
       "      <td>Next Friday</td>\n",
       "      <td>Next Friday</td>\n",
       "      <td>10471</td>\n",
       "      <td>2000-01-12</td>\n",
       "      <td>['Comedy']</td>\n",
       "      <td>[35]</td>\n",
       "      <td>98.0</td>\n",
       "      <td>10.065450</td>\n",
       "      <td>6</td>\n",
       "      <td>['English']</td>\n",
       "      <td>...</td>\n",
       "      <td>145.0</td>\n",
       "      <td>[9778, 51944, 57389, 56902, 65132, 16429, 4807...</td>\n",
       "      <td>['Ice Cube', 'Mike Epps', 'Justin Pierce', 'Jo...</td>\n",
       "      <td>[52112, 9778, 5287, 3121, 50723, 9778, 9778, 6...</td>\n",
       "      <td>['Steve Carr', 'Ice Cube', 'Terence Blanchard'...</td>\n",
       "      <td>[378, 1522, 2987, 7858, 9748, 9777, 10685, 126...</td>\n",
       "      <td>['prison', 'repayment', 'gang war', 'boy gang'...</td>\n",
       "      <td>59827328.0</td>\n",
       "      <td>11000000.0</td>\n",
       "      <td>6.5</td>\n",
       "    </tr>\n",
       "    <tr>\n",
       "      <th>1</th>\n",
       "      <td>Supernova</td>\n",
       "      <td>Supernova</td>\n",
       "      <td>10384</td>\n",
       "      <td>2000-01-14</td>\n",
       "      <td>['Horror', 'Science Fiction', 'Thriller']</td>\n",
       "      <td>[27, 878, 53]</td>\n",
       "      <td>91.0</td>\n",
       "      <td>5.496624</td>\n",
       "      <td>6</td>\n",
       "      <td>['English']</td>\n",
       "      <td>...</td>\n",
       "      <td>109.0</td>\n",
       "      <td>[13548, 9780, 5694, 38560, 56857, 17346, 54453...</td>\n",
       "      <td>['James Spader', 'Angela Bassett', 'Robert For...</td>\n",
       "      <td>[1723, 2121, 2530, 7733, 11308, 15332, 17233, ...</td>\n",
       "      <td>['Walter Hill', 'Mary Jo Slater', 'Bob Ringwoo...</td>\n",
       "      <td>[577, 1472, 2964, 3412, 5100, 222423]</td>\n",
       "      <td>['black people', 'starships', 'future', 'star'...</td>\n",
       "      <td>14828081.0</td>\n",
       "      <td>90000000.0</td>\n",
       "      <td>4.9</td>\n",
       "    </tr>\n",
       "    <tr>\n",
       "      <th>2</th>\n",
       "      <td>Isn't She Great</td>\n",
       "      <td>Isn't She Great</td>\n",
       "      <td>75531</td>\n",
       "      <td>2000-01-28</td>\n",
       "      <td>['Drama', 'Comedy']</td>\n",
       "      <td>[18, 35]</td>\n",
       "      <td>95.0</td>\n",
       "      <td>0.907927</td>\n",
       "      <td>5</td>\n",
       "      <td>['English']</td>\n",
       "      <td>...</td>\n",
       "      <td>14.0</td>\n",
       "      <td>[73931, 78729, 8893, 11076, 8930, 14101, 2956,...</td>\n",
       "      <td>['Bette Midler', 'Nathan Lane', 'Stockard Chan...</td>\n",
       "      <td>[284, 2988, 6048, 8677, 9580, 32588, 31143, 37...</td>\n",
       "      <td>['Gary Levinsohn', 'Barry Malkin', 'Mark Gordo...</td>\n",
       "      <td>[1646]</td>\n",
       "      <td>['autism']</td>\n",
       "      <td>3003296.0</td>\n",
       "      <td>36000000.0</td>\n",
       "      <td>4.6</td>\n",
       "    </tr>\n",
       "    <tr>\n",
       "      <th>3</th>\n",
       "      <td>Scream 3</td>\n",
       "      <td>Scream 3</td>\n",
       "      <td>4234</td>\n",
       "      <td>2000-02-03</td>\n",
       "      <td>['Horror', 'Mystery']</td>\n",
       "      <td>[27, 9648]</td>\n",
       "      <td>116.0</td>\n",
       "      <td>9.738371</td>\n",
       "      <td>6</td>\n",
       "      <td>['English']</td>\n",
       "      <td>...</td>\n",
       "      <td>749.0</td>\n",
       "      <td>[15234, 9206, 14405, 18352, 35595, 2714, 35598...</td>\n",
       "      <td>['David Arquette', 'Neve Campbell', 'Courteney...</td>\n",
       "      <td>[5140, 26458, 15244, 409, 35581, 26458, 7229, ...</td>\n",
       "      <td>['Wes Craven', 'Kevin Williamson', 'Ehren Krug...</td>\n",
       "      <td>[2546, 2573, 2793, 8440, 12193, 12339, 13124, ...</td>\n",
       "      <td>['mask', 'metal detector', 'film director', 'e...</td>\n",
       "      <td>161834276.0</td>\n",
       "      <td>40000000.0</td>\n",
       "      <td>5.7</td>\n",
       "    </tr>\n",
       "    <tr>\n",
       "      <th>4</th>\n",
       "      <td>Gun Shy</td>\n",
       "      <td>Gun Shy</td>\n",
       "      <td>29076</td>\n",
       "      <td>2000-02-04</td>\n",
       "      <td>['Action', 'Comedy', 'Romance', 'Thriller']</td>\n",
       "      <td>[28, 35, 10749, 53]</td>\n",
       "      <td>101.0</td>\n",
       "      <td>6.370105</td>\n",
       "      <td>6</td>\n",
       "      <td>['English']</td>\n",
       "      <td>...</td>\n",
       "      <td>24.0</td>\n",
       "      <td>[18277, 3896, 17485, 10963, 52422, 31028, 1980...</td>\n",
       "      <td>['Sandra Bullock', 'Liam Neeson', 'Oliver Plat...</td>\n",
       "      <td>[95818, 95818]</td>\n",
       "      <td>['Eric Blakeney', 'Eric Blakeney']</td>\n",
       "      <td>[293, 10175, 15274]</td>\n",
       "      <td>['female nudity', 'drug cartel', 'nervous brea...</td>\n",
       "      <td>1631839.0</td>\n",
       "      <td>10000000.0</td>\n",
       "      <td>5.4</td>\n",
       "    </tr>\n",
       "  </tbody>\n",
       "</table>\n",
       "<p>5 rows × 24 columns</p>\n",
       "</div>"
      ],
      "text/plain": [
       "    original_title            title     id release_date  \\\n",
       "0      Next Friday      Next Friday  10471   2000-01-12   \n",
       "1        Supernova        Supernova  10384   2000-01-14   \n",
       "2  Isn't She Great  Isn't She Great  75531   2000-01-28   \n",
       "3         Scream 3         Scream 3   4234   2000-02-03   \n",
       "4          Gun Shy          Gun Shy  29076   2000-02-04   \n",
       "\n",
       "                                   genres_name            genres_id  runtime  \\\n",
       "0                                   ['Comedy']                 [35]     98.0   \n",
       "1    ['Horror', 'Science Fiction', 'Thriller']        [27, 878, 53]     91.0   \n",
       "2                          ['Drama', 'Comedy']             [18, 35]     95.0   \n",
       "3                        ['Horror', 'Mystery']           [27, 9648]    116.0   \n",
       "4  ['Action', 'Comedy', 'Romance', 'Thriller']  [28, 35, 10749, 53]    101.0   \n",
       "\n",
       "   popularity  original_language spoken_languages  ... vote_count  \\\n",
       "0   10.065450                  6      ['English']  ...      145.0   \n",
       "1    5.496624                  6      ['English']  ...      109.0   \n",
       "2    0.907927                  5      ['English']  ...       14.0   \n",
       "3    9.738371                  6      ['English']  ...      749.0   \n",
       "4    6.370105                  6      ['English']  ...       24.0   \n",
       "\n",
       "                                             cast_id  \\\n",
       "0  [9778, 51944, 57389, 56902, 65132, 16429, 4807...   \n",
       "1  [13548, 9780, 5694, 38560, 56857, 17346, 54453...   \n",
       "2  [73931, 78729, 8893, 11076, 8930, 14101, 2956,...   \n",
       "3  [15234, 9206, 14405, 18352, 35595, 2714, 35598...   \n",
       "4  [18277, 3896, 17485, 10963, 52422, 31028, 1980...   \n",
       "\n",
       "                                           cast_name  \\\n",
       "0  ['Ice Cube', 'Mike Epps', 'Justin Pierce', 'Jo...   \n",
       "1  ['James Spader', 'Angela Bassett', 'Robert For...   \n",
       "2  ['Bette Midler', 'Nathan Lane', 'Stockard Chan...   \n",
       "3  ['David Arquette', 'Neve Campbell', 'Courteney...   \n",
       "4  ['Sandra Bullock', 'Liam Neeson', 'Oliver Plat...   \n",
       "\n",
       "                                             crew_id  \\\n",
       "0  [52112, 9778, 5287, 3121, 50723, 9778, 9778, 6...   \n",
       "1  [1723, 2121, 2530, 7733, 11308, 15332, 17233, ...   \n",
       "2  [284, 2988, 6048, 8677, 9580, 32588, 31143, 37...   \n",
       "3  [5140, 26458, 15244, 409, 35581, 26458, 7229, ...   \n",
       "4                                     [95818, 95818]   \n",
       "\n",
       "                                           crew_name  \\\n",
       "0  ['Steve Carr', 'Ice Cube', 'Terence Blanchard'...   \n",
       "1  ['Walter Hill', 'Mary Jo Slater', 'Bob Ringwoo...   \n",
       "2  ['Gary Levinsohn', 'Barry Malkin', 'Mark Gordo...   \n",
       "3  ['Wes Craven', 'Kevin Williamson', 'Ehren Krug...   \n",
       "4                 ['Eric Blakeney', 'Eric Blakeney']   \n",
       "\n",
       "                                         keywords_id  \\\n",
       "0  [378, 1522, 2987, 7858, 9748, 9777, 10685, 126...   \n",
       "1              [577, 1472, 2964, 3412, 5100, 222423]   \n",
       "2                                             [1646]   \n",
       "3  [2546, 2573, 2793, 8440, 12193, 12339, 13124, ...   \n",
       "4                                [293, 10175, 15274]   \n",
       "\n",
       "                                       keywords_name      revenue      budget  \\\n",
       "0  ['prison', 'repayment', 'gang war', 'boy gang'...   59827328.0  11000000.0   \n",
       "1  ['black people', 'starships', 'future', 'star'...   14828081.0  90000000.0   \n",
       "2                                         ['autism']    3003296.0  36000000.0   \n",
       "3  ['mask', 'metal detector', 'film director', 'e...  161834276.0  40000000.0   \n",
       "4  ['female nudity', 'drug cartel', 'nervous brea...    1631839.0  10000000.0   \n",
       "\n",
       "  vote_average  \n",
       "0          6.5  \n",
       "1          4.9  \n",
       "2          4.6  \n",
       "3          5.7  \n",
       "4          5.4  \n",
       "\n",
       "[5 rows x 24 columns]"
      ]
     },
     "execution_count": 221,
     "metadata": {},
     "output_type": "execute_result"
    }
   ],
   "source": [
    "new_df.head()"
   ]
  },
  {
   "cell_type": "code",
   "execution_count": 222,
   "metadata": {},
   "outputs": [
    {
     "data": {
      "text/html": [
       "<div>\n",
       "<style scoped>\n",
       "    .dataframe tbody tr th:only-of-type {\n",
       "        vertical-align: middle;\n",
       "    }\n",
       "\n",
       "    .dataframe tbody tr th {\n",
       "        vertical-align: top;\n",
       "    }\n",
       "\n",
       "    .dataframe thead th {\n",
       "        text-align: right;\n",
       "    }\n",
       "</style>\n",
       "<table border=\"1\" class=\"dataframe\">\n",
       "  <thead>\n",
       "    <tr style=\"text-align: right;\">\n",
       "      <th></th>\n",
       "      <th>i</th>\n",
       "      <th>label</th>\n",
       "    </tr>\n",
       "  </thead>\n",
       "  <tbody>\n",
       "    <tr>\n",
       "      <th>0</th>\n",
       "      <td>0</td>\n",
       "      <td>af</td>\n",
       "    </tr>\n",
       "    <tr>\n",
       "      <th>1</th>\n",
       "      <td>1</td>\n",
       "      <td>bm</td>\n",
       "    </tr>\n",
       "    <tr>\n",
       "      <th>2</th>\n",
       "      <td>2</td>\n",
       "      <td>ca</td>\n",
       "    </tr>\n",
       "    <tr>\n",
       "      <th>3</th>\n",
       "      <td>3</td>\n",
       "      <td>cn</td>\n",
       "    </tr>\n",
       "    <tr>\n",
       "      <th>4</th>\n",
       "      <td>4</td>\n",
       "      <td>da</td>\n",
       "    </tr>\n",
       "    <tr>\n",
       "      <th>5</th>\n",
       "      <td>5</td>\n",
       "      <td>de</td>\n",
       "    </tr>\n",
       "    <tr>\n",
       "      <th>6</th>\n",
       "      <td>6</td>\n",
       "      <td>en</td>\n",
       "    </tr>\n",
       "    <tr>\n",
       "      <th>7</th>\n",
       "      <td>7</td>\n",
       "      <td>es</td>\n",
       "    </tr>\n",
       "    <tr>\n",
       "      <th>8</th>\n",
       "      <td>8</td>\n",
       "      <td>fi</td>\n",
       "    </tr>\n",
       "    <tr>\n",
       "      <th>9</th>\n",
       "      <td>9</td>\n",
       "      <td>fr</td>\n",
       "    </tr>\n",
       "    <tr>\n",
       "      <th>10</th>\n",
       "      <td>10</td>\n",
       "      <td>he</td>\n",
       "    </tr>\n",
       "    <tr>\n",
       "      <th>11</th>\n",
       "      <td>11</td>\n",
       "      <td>hi</td>\n",
       "    </tr>\n",
       "    <tr>\n",
       "      <th>12</th>\n",
       "      <td>12</td>\n",
       "      <td>hu</td>\n",
       "    </tr>\n",
       "    <tr>\n",
       "      <th>13</th>\n",
       "      <td>13</td>\n",
       "      <td>id</td>\n",
       "    </tr>\n",
       "    <tr>\n",
       "      <th>14</th>\n",
       "      <td>14</td>\n",
       "      <td>is</td>\n",
       "    </tr>\n",
       "    <tr>\n",
       "      <th>15</th>\n",
       "      <td>15</td>\n",
       "      <td>it</td>\n",
       "    </tr>\n",
       "    <tr>\n",
       "      <th>16</th>\n",
       "      <td>16</td>\n",
       "      <td>ja</td>\n",
       "    </tr>\n",
       "    <tr>\n",
       "      <th>17</th>\n",
       "      <td>17</td>\n",
       "      <td>kn</td>\n",
       "    </tr>\n",
       "    <tr>\n",
       "      <th>18</th>\n",
       "      <td>18</td>\n",
       "      <td>ko</td>\n",
       "    </tr>\n",
       "    <tr>\n",
       "      <th>19</th>\n",
       "      <td>19</td>\n",
       "      <td>ml</td>\n",
       "    </tr>\n",
       "    <tr>\n",
       "      <th>20</th>\n",
       "      <td>20</td>\n",
       "      <td>nb</td>\n",
       "    </tr>\n",
       "    <tr>\n",
       "      <th>21</th>\n",
       "      <td>21</td>\n",
       "      <td>nl</td>\n",
       "    </tr>\n",
       "    <tr>\n",
       "      <th>22</th>\n",
       "      <td>22</td>\n",
       "      <td>no</td>\n",
       "    </tr>\n",
       "    <tr>\n",
       "      <th>23</th>\n",
       "      <td>23</td>\n",
       "      <td>pl</td>\n",
       "    </tr>\n",
       "    <tr>\n",
       "      <th>24</th>\n",
       "      <td>24</td>\n",
       "      <td>pt</td>\n",
       "    </tr>\n",
       "    <tr>\n",
       "      <th>25</th>\n",
       "      <td>25</td>\n",
       "      <td>ro</td>\n",
       "    </tr>\n",
       "    <tr>\n",
       "      <th>26</th>\n",
       "      <td>26</td>\n",
       "      <td>ru</td>\n",
       "    </tr>\n",
       "    <tr>\n",
       "      <th>27</th>\n",
       "      <td>27</td>\n",
       "      <td>sr</td>\n",
       "    </tr>\n",
       "    <tr>\n",
       "      <th>28</th>\n",
       "      <td>28</td>\n",
       "      <td>sv</td>\n",
       "    </tr>\n",
       "    <tr>\n",
       "      <th>29</th>\n",
       "      <td>29</td>\n",
       "      <td>ta</td>\n",
       "    </tr>\n",
       "    <tr>\n",
       "      <th>30</th>\n",
       "      <td>30</td>\n",
       "      <td>te</td>\n",
       "    </tr>\n",
       "    <tr>\n",
       "      <th>31</th>\n",
       "      <td>31</td>\n",
       "      <td>th</td>\n",
       "    </tr>\n",
       "    <tr>\n",
       "      <th>32</th>\n",
       "      <td>32</td>\n",
       "      <td>tr</td>\n",
       "    </tr>\n",
       "    <tr>\n",
       "      <th>33</th>\n",
       "      <td>33</td>\n",
       "      <td>vi</td>\n",
       "    </tr>\n",
       "    <tr>\n",
       "      <th>34</th>\n",
       "      <td>34</td>\n",
       "      <td>xx</td>\n",
       "    </tr>\n",
       "    <tr>\n",
       "      <th>35</th>\n",
       "      <td>35</td>\n",
       "      <td>zh</td>\n",
       "    </tr>\n",
       "  </tbody>\n",
       "</table>\n",
       "</div>"
      ],
      "text/plain": [
       "     i label\n",
       "0    0    af\n",
       "1    1    bm\n",
       "2    2    ca\n",
       "3    3    cn\n",
       "4    4    da\n",
       "5    5    de\n",
       "6    6    en\n",
       "7    7    es\n",
       "8    8    fi\n",
       "9    9    fr\n",
       "10  10    he\n",
       "11  11    hi\n",
       "12  12    hu\n",
       "13  13    id\n",
       "14  14    is\n",
       "15  15    it\n",
       "16  16    ja\n",
       "17  17    kn\n",
       "18  18    ko\n",
       "19  19    ml\n",
       "20  20    nb\n",
       "21  21    nl\n",
       "22  22    no\n",
       "23  23    pl\n",
       "24  24    pt\n",
       "25  25    ro\n",
       "26  26    ru\n",
       "27  27    sr\n",
       "28  28    sv\n",
       "29  29    ta\n",
       "30  30    te\n",
       "31  31    th\n",
       "32  32    tr\n",
       "33  33    vi\n",
       "34  34    xx\n",
       "35  35    zh"
      ]
     },
     "execution_count": 222,
     "metadata": {},
     "output_type": "execute_result"
    }
   ],
   "source": [
    "label_pd = pd.DataFrame(columns=['i', 'label'])\n",
    "for i, label in enumerate(le.classes_):\n",
    "    label_pd = label_pd.append(pd.DataFrame([[i, label]], columns=['i', 'label']), ignore_index=True)\n",
    "\n",
    "label_pd"
   ]
  },
  {
   "cell_type": "code",
   "execution_count": 223,
   "metadata": {},
   "outputs": [
    {
     "name": "stdout",
     "output_type": "stream",
     "text": [
      "<class 'pandas.core.frame.DataFrame'>\n",
      "RangeIndex: 3199 entries, 0 to 3198\n",
      "Data columns (total 24 columns):\n",
      " #   Column                     Non-Null Count  Dtype  \n",
      "---  ------                     --------------  -----  \n",
      " 0   original_title             3199 non-null   object \n",
      " 1   title                      3199 non-null   object \n",
      " 2   id                         3199 non-null   int64  \n",
      " 3   release_date               3199 non-null   object \n",
      " 4   genres_name                3199 non-null   object \n",
      " 5   genres_id                  3199 non-null   object \n",
      " 6   runtime                    3199 non-null   float64\n",
      " 7   popularity                 3199 non-null   float64\n",
      " 8   original_language          3199 non-null   int32  \n",
      " 9   spoken_languages           3199 non-null   object \n",
      " 10  production_companies_name  3199 non-null   object \n",
      " 11  production_companies_id    3199 non-null   object \n",
      " 12  production_countries       3199 non-null   object \n",
      " 13  adult                      3199 non-null   bool   \n",
      " 14  vote_count                 3199 non-null   float64\n",
      " 15  cast_id                    3199 non-null   object \n",
      " 16  cast_name                  3199 non-null   object \n",
      " 17  crew_id                    3199 non-null   object \n",
      " 18  crew_name                  3199 non-null   object \n",
      " 19  keywords_id                3199 non-null   object \n",
      " 20  keywords_name              3199 non-null   object \n",
      " 21  revenue                    3199 non-null   float64\n",
      " 22  budget                     3199 non-null   float64\n",
      " 23  vote_average               3199 non-null   float64\n",
      "dtypes: bool(1), float64(6), int32(1), int64(1), object(15)\n",
      "memory usage: 565.6+ KB\n"
     ]
    }
   ],
   "source": [
    "new_df.info()"
   ]
  },
  {
   "cell_type": "markdown",
   "metadata": {},
   "source": [
    "#### 2) 장르, 크루, 캐스트, 키워드, 프로덕션컴패니는 대표값 1개의 id값만 추출\n"
   ]
  },
  {
   "cell_type": "code",
   "execution_count": 224,
   "metadata": {},
   "outputs": [],
   "source": [
    "new_df['genres_id'] = new_df['genres_id'].apply(ast.literal_eval)"
   ]
  },
  {
   "cell_type": "code",
   "execution_count": 225,
   "metadata": {},
   "outputs": [],
   "source": [
    "new_df['genres_id'] = new_df['genres_id'].apply(lambda x : x[:1])"
   ]
  },
  {
   "cell_type": "code",
   "execution_count": 226,
   "metadata": {},
   "outputs": [],
   "source": [
    "new_df['crew_id'] = new_df['crew_id'].apply(ast.literal_eval)"
   ]
  },
  {
   "cell_type": "code",
   "execution_count": 227,
   "metadata": {},
   "outputs": [],
   "source": [
    "new_df['crew_id'] = new_df['crew_id'].apply(lambda x : x[:1])"
   ]
  },
  {
   "cell_type": "code",
   "execution_count": 228,
   "metadata": {},
   "outputs": [],
   "source": [
    "new_df['cast_id'] = new_df['cast_id'].apply(ast.literal_eval)\n",
    "new_df['cast_id'] = new_df['cast_id'].apply(lambda x : x[:1])"
   ]
  },
  {
   "cell_type": "code",
   "execution_count": 229,
   "metadata": {},
   "outputs": [],
   "source": [
    "new_df['keywords_id'] = new_df['keywords_id'].apply(ast.literal_eval)\n",
    "new_df['keywords_id'] = new_df['keywords_id'].apply(lambda x : x[:1])"
   ]
  },
  {
   "cell_type": "code",
   "execution_count": 230,
   "metadata": {},
   "outputs": [],
   "source": [
    "new_df['production_companies_id'] = new_df['production_companies_id'].apply(ast.literal_eval)\n",
    "new_df['production_companies_id'] = new_df['production_companies_id'].apply(lambda x : x[:1])"
   ]
  },
  {
   "cell_type": "code",
   "execution_count": 231,
   "metadata": {},
   "outputs": [
    {
     "data": {
      "text/html": [
       "<div>\n",
       "<style scoped>\n",
       "    .dataframe tbody tr th:only-of-type {\n",
       "        vertical-align: middle;\n",
       "    }\n",
       "\n",
       "    .dataframe tbody tr th {\n",
       "        vertical-align: top;\n",
       "    }\n",
       "\n",
       "    .dataframe thead th {\n",
       "        text-align: right;\n",
       "    }\n",
       "</style>\n",
       "<table border=\"1\" class=\"dataframe\">\n",
       "  <thead>\n",
       "    <tr style=\"text-align: right;\">\n",
       "      <th></th>\n",
       "      <th>original_title</th>\n",
       "      <th>title</th>\n",
       "      <th>id</th>\n",
       "      <th>release_date</th>\n",
       "      <th>genres_name</th>\n",
       "      <th>genres_id</th>\n",
       "      <th>runtime</th>\n",
       "      <th>popularity</th>\n",
       "      <th>original_language</th>\n",
       "      <th>spoken_languages</th>\n",
       "      <th>...</th>\n",
       "      <th>vote_count</th>\n",
       "      <th>cast_id</th>\n",
       "      <th>cast_name</th>\n",
       "      <th>crew_id</th>\n",
       "      <th>crew_name</th>\n",
       "      <th>keywords_id</th>\n",
       "      <th>keywords_name</th>\n",
       "      <th>revenue</th>\n",
       "      <th>budget</th>\n",
       "      <th>vote_average</th>\n",
       "    </tr>\n",
       "  </thead>\n",
       "  <tbody>\n",
       "    <tr>\n",
       "      <th>0</th>\n",
       "      <td>Next Friday</td>\n",
       "      <td>Next Friday</td>\n",
       "      <td>10471</td>\n",
       "      <td>2000-01-12</td>\n",
       "      <td>['Comedy']</td>\n",
       "      <td>[35]</td>\n",
       "      <td>98.0</td>\n",
       "      <td>10.06545</td>\n",
       "      <td>6</td>\n",
       "      <td>['English']</td>\n",
       "      <td>...</td>\n",
       "      <td>145.0</td>\n",
       "      <td>[9778]</td>\n",
       "      <td>['Ice Cube', 'Mike Epps', 'Justin Pierce', 'Jo...</td>\n",
       "      <td>[52112]</td>\n",
       "      <td>['Steve Carr', 'Ice Cube', 'Terence Blanchard'...</td>\n",
       "      <td>[378]</td>\n",
       "      <td>['prison', 'repayment', 'gang war', 'boy gang'...</td>\n",
       "      <td>59827328.0</td>\n",
       "      <td>11000000.0</td>\n",
       "      <td>6.5</td>\n",
       "    </tr>\n",
       "  </tbody>\n",
       "</table>\n",
       "<p>1 rows × 24 columns</p>\n",
       "</div>"
      ],
      "text/plain": [
       "  original_title        title     id release_date genres_name genres_id  \\\n",
       "0    Next Friday  Next Friday  10471   2000-01-12  ['Comedy']      [35]   \n",
       "\n",
       "   runtime  popularity  original_language spoken_languages  ... vote_count  \\\n",
       "0     98.0    10.06545                  6      ['English']  ...      145.0   \n",
       "\n",
       "  cast_id                                          cast_name  crew_id  \\\n",
       "0  [9778]  ['Ice Cube', 'Mike Epps', 'Justin Pierce', 'Jo...  [52112]   \n",
       "\n",
       "                                           crew_name keywords_id  \\\n",
       "0  ['Steve Carr', 'Ice Cube', 'Terence Blanchard'...       [378]   \n",
       "\n",
       "                                       keywords_name     revenue      budget  \\\n",
       "0  ['prison', 'repayment', 'gang war', 'boy gang'...  59827328.0  11000000.0   \n",
       "\n",
       "  vote_average  \n",
       "0          6.5  \n",
       "\n",
       "[1 rows x 24 columns]"
      ]
     },
     "execution_count": 231,
     "metadata": {},
     "output_type": "execute_result"
    }
   ],
   "source": [
    "new_df.head(1)"
   ]
  },
  {
   "cell_type": "code",
   "execution_count": 232,
   "metadata": {},
   "outputs": [
    {
     "data": {
      "text/plain": [
       "0       [35]\n",
       "1       [27]\n",
       "2       [18]\n",
       "3       [27]\n",
       "4       [28]\n",
       "        ... \n",
       "3194    [28]\n",
       "3195    [35]\n",
       "3196    [28]\n",
       "3197    [28]\n",
       "3198    [80]\n",
       "Name: genres_id, Length: 3199, dtype: object"
      ]
     },
     "execution_count": 232,
     "metadata": {},
     "output_type": "execute_result"
    }
   ],
   "source": [
    "new_df['genres_id']"
   ]
  },
  {
   "cell_type": "code",
   "execution_count": 233,
   "metadata": {},
   "outputs": [
    {
     "data": {
      "text/plain": [
       "<AxesSubplot:>"
      ]
     },
     "execution_count": 233,
     "metadata": {},
     "output_type": "execute_result"
    },
    {
     "data": {
      "image/png": "[encoded data removed]",
      "text/plain": [
       "<Figure size 864x576 with 2 Axes>"
      ]
     },
     "metadata": {
      "needs_background": "light"
     },
     "output_type": "display_data"
    }
   ],
   "source": [
    "correlation_matrix = new_df.corr().round(1)\n",
    "plt.figure(figsize=(12, 8))\n",
    "sns.heatmap(data=correlation_matrix, annot=True, cmap='bwr')"
   ]
  },
  {
   "cell_type": "code",
   "execution_count": 234,
   "metadata": {},
   "outputs": [],
   "source": [
    "new_df.to_csv(\n",
    "    \"../data/21c_movies.csv\", sep=\",\", encoding=\"utf-8\", index = None\n",
    ")"
   ]
  },
  {
   "cell_type": "markdown",
   "metadata": {},
   "source": [
    "- budget은 vote_count, revenue와 관계가 있는 것으로 보임"
   ]
  },
  {
   "cell_type": "markdown",
   "metadata": {},
   "source": [
    "## Ⅱ. 머신러닝"
   ]
  },
  {
   "cell_type": "markdown",
   "metadata": {},
   "source": [
    "### 1. 주제\n",
    "- 특정 조건의 영화를 만들고자 할 때, 예산을 얼마로 잡아야 할까?"
   ]
  },
  {
   "cell_type": "markdown",
   "metadata": {},
   "source": [
    "#### 가설\n",
    "#### 1) 예산과 런타임은 관계가 있다.\n",
    "#### 2) 예산과 popularity(tmdb에서 자체 척도를 사용해 계산한 인기도)는 관계가 있다.\n",
    "- '순수익(revenue-budget)'이 아닌 예산(budget)'만 가지고 머신러닝 진행해 가설 확인."
   ]
  },
  {
   "cell_type": "markdown",
   "metadata": {},
   "source": [
    "### 2. 모델링\n",
    "- train, test 데이터는 8:2로 분리\n",
    "- 전처리 없이 머신러닝 가능한 컬럼부터 확인"
   ]
  },
  {
   "cell_type": "code",
   "execution_count": 80,
   "metadata": {},
   "outputs": [],
   "source": [
    "new_df = pd.read_csv(\"../data/21c_movies.csv\", encoding=\"utf-8\")"
   ]
  },
  {
   "cell_type": "code",
   "execution_count": 235,
   "metadata": {},
   "outputs": [
    {
     "name": "stdout",
     "output_type": "stream",
     "text": [
      "<class 'pandas.core.frame.DataFrame'>\n",
      "RangeIndex: 3199 entries, 0 to 3198\n",
      "Data columns (total 24 columns):\n",
      " #   Column                     Non-Null Count  Dtype  \n",
      "---  ------                     --------------  -----  \n",
      " 0   original_title             3199 non-null   object \n",
      " 1   title                      3199 non-null   object \n",
      " 2   id                         3199 non-null   int64  \n",
      " 3   release_date               3199 non-null   object \n",
      " 4   genres_name                3199 non-null   object \n",
      " 5   genres_id                  3199 non-null   object \n",
      " 6   runtime                    3199 non-null   float64\n",
      " 7   popularity                 3199 non-null   float64\n",
      " 8   original_language          3199 non-null   int32  \n",
      " 9   spoken_languages           3199 non-null   object \n",
      " 10  production_companies_name  3199 non-null   object \n",
      " 11  production_companies_id    3199 non-null   object \n",
      " 12  production_countries       3199 non-null   object \n",
      " 13  adult                      3199 non-null   bool   \n",
      " 14  vote_count                 3199 non-null   float64\n",
      " 15  cast_id                    3199 non-null   object \n",
      " 16  cast_name                  3199 non-null   object \n",
      " 17  crew_id                    3199 non-null   object \n",
      " 18  crew_name                  3199 non-null   object \n",
      " 19  keywords_id                3199 non-null   object \n",
      " 20  keywords_name              3199 non-null   object \n",
      " 21  revenue                    3199 non-null   float64\n",
      " 22  budget                     3199 non-null   float64\n",
      " 23  vote_average               3199 non-null   float64\n",
      "dtypes: bool(1), float64(6), int32(1), int64(1), object(15)\n",
      "memory usage: 565.6+ KB\n"
     ]
    }
   ],
   "source": [
    "new_df.info()"
   ]
  },
  {
   "cell_type": "markdown",
   "metadata": {},
   "source": [
    "- 'popularity', 'vote_count', 'vote_average', 'revenue'는 float\n",
    "- 'original_language'는 라벨 인코딩 가능"
   ]
  },
  {
   "cell_type": "markdown",
   "metadata": {},
   "source": [
    "#### 2) Multiple Linear Regression"
   ]
  },
  {
   "cell_type": "code",
   "execution_count": 239,
   "metadata": {},
   "outputs": [],
   "source": [
    "from sklearn.model_selection import train_test_split\n",
    "\n",
    "X = new_df[['original_language', 'popularity', 'vote_count', 'vote_average', 'revenue', 'runtime']]\n",
    "y = new_df['budget']\n",
    "X_train, X_test, y_train, y_test = train_test_split(X, y, test_size=0.2, random_state=13)"
   ]
  },
  {
   "cell_type": "code",
   "execution_count": 240,
   "metadata": {},
   "outputs": [
    {
     "data": {
      "text/plain": [
       "1803    82000000.0\n",
       "215      7000000.0\n",
       "1141     2200000.0\n",
       "1712     2270000.0\n",
       "1077    19000000.0\n",
       "           ...    \n",
       "866     30000000.0\n",
       "2790    19000000.0\n",
       "74      63600000.0\n",
       "2224    25000000.0\n",
       "338      4000000.0\n",
       "Name: budget, Length: 2559, dtype: float64"
      ]
     },
     "execution_count": 240,
     "metadata": {},
     "output_type": "execute_result"
    }
   ],
   "source": [
    "y_train"
   ]
  },
  {
   "cell_type": "code",
   "execution_count": 241,
   "metadata": {},
   "outputs": [
    {
     "data": {
      "text/plain": [
       "LinearRegression()"
      ]
     },
     "execution_count": 241,
     "metadata": {},
     "output_type": "execute_result"
    }
   ],
   "source": [
    "from sklearn.linear_model import LinearRegression\n",
    "\n",
    "lr = LinearRegression()\n",
    "lr.fit(X_train, y_train)"
   ]
  },
  {
   "cell_type": "code",
   "execution_count": 242,
   "metadata": {},
   "outputs": [],
   "source": [
    "pred_test = lr.predict(X_test)"
   ]
  },
  {
   "cell_type": "code",
   "execution_count": 243,
   "metadata": {},
   "outputs": [
    {
     "data": {
      "image/png": "[encoded data removed]",
      "text/plain": [
       "<Figure size 720x720 with 1 Axes>"
      ]
     },
     "metadata": {
      "needs_background": "light"
     },
     "output_type": "display_data"
    }
   ],
   "source": [
    "plt.figure(figsize=(10, 10))\n",
    "plt.scatter(y_test, pred_test, alpha=0.4)\n",
    "plt.plot([min(y_test), max(y_test)], [min(y_test), max(y_test)], 'r', ls='dashed', lw=3)\n",
    "plt.xlabel(\"Actual Budget\")\n",
    "plt.ylabel(\"Predicted Budget\")\n",
    "plt.title(\"MULTIPLE LINEAR REGRESSION\")\n",
    "plt.show()"
   ]
  },
  {
   "cell_type": "markdown",
   "metadata": {},
   "source": [
    "- budget이 커질수록 예측의 정확도가 떨어진다."
   ]
  },
  {
   "cell_type": "code",
   "execution_count": 244,
   "metadata": {},
   "outputs": [
    {
     "data": {
      "text/plain": [
       "(0.6153869345130061, 0.6116308088712938)"
      ]
     },
     "execution_count": 244,
     "metadata": {},
     "output_type": "execute_result"
    }
   ],
   "source": [
    "# 다중선형회귀 결정계수\n",
    "lr.score(X_train, y_train), lr.score(X_test, y_test)"
   ]
  },
  {
   "cell_type": "markdown",
   "metadata": {},
   "source": [
    "#### 3) Standard Scaler 적용 후 Multiple Linear Regression 재시도"
   ]
  },
  {
   "cell_type": "code",
   "execution_count": 245,
   "metadata": {},
   "outputs": [],
   "source": [
    "from sklearn.preprocessing import StandardScaler\n",
    "\n",
    "ss = StandardScaler()\n"
   ]
  },
  {
   "cell_type": "code",
   "execution_count": 321,
   "metadata": {},
   "outputs": [
    {
     "name": "stderr",
     "output_type": "stream",
     "text": [
      "C:\\Users\\ser\\miniconda3\\envs\\ds_study\\lib\\site-packages\\seaborn\\distributions.py:2619: FutureWarning: `distplot` is a deprecated function and will be removed in a future version. Please adapt your code to use either `displot` (a figure-level function with similar flexibility) or `histplot` (an axes-level function for histograms).\n",
      "  warnings.warn(msg, FutureWarning)\n"
     ]
    },
    {
     "data": {
      "text/plain": [
       "<AxesSubplot:xlabel='budget', ylabel='Density'>"
      ]
     },
     "execution_count": 321,
     "metadata": {},
     "output_type": "execute_result"
    },
    {
     "data": {
      "image/png": "[encoded data removed]",
      "text/plain": [
       "<Figure size 864x576 with 1 Axes>"
      ]
     },
     "metadata": {
      "needs_background": "light"
     },
     "output_type": "display_data"
    }
   ],
   "source": [
    "plt.figure(figsize=(12, 8))\n",
    "sns.distplot(new_df['budget'])"
   ]
  },
  {
   "cell_type": "code",
   "execution_count": 322,
   "metadata": {},
   "outputs": [
    {
     "name": "stderr",
     "output_type": "stream",
     "text": [
      "C:\\Users\\ser\\miniconda3\\envs\\ds_study\\lib\\site-packages\\seaborn\\_decorators.py:36: FutureWarning: Pass the following variable as a keyword arg: x. From version 0.12, the only valid positional argument will be `data`, and passing other arguments without an explicit keyword will result in an error or misinterpretation.\n",
      "  warnings.warn(\n"
     ]
    },
    {
     "data": {
      "text/plain": [
       "<AxesSubplot:xlabel='budget'>"
      ]
     },
     "execution_count": 322,
     "metadata": {},
     "output_type": "execute_result"
    },
    {
     "data": {
      "image/png": "[encoded data removed]",
      "text/plain": [
       "<Figure size 864x576 with 1 Axes>"
      ]
     },
     "metadata": {
      "needs_background": "light"
     },
     "output_type": "display_data"
    }
   ],
   "source": [
    "plt.figure(figsize=(12, 8))\n",
    "sns.boxplot(new_df['budget'])"
   ]
  },
  {
   "cell_type": "code",
   "execution_count": 323,
   "metadata": {},
   "outputs": [
    {
     "name": "stderr",
     "output_type": "stream",
     "text": [
      "C:\\Users\\ser\\miniconda3\\envs\\ds_study\\lib\\site-packages\\seaborn\\distributions.py:2619: FutureWarning: `distplot` is a deprecated function and will be removed in a future version. Please adapt your code to use either `displot` (a figure-level function with similar flexibility) or `histplot` (an axes-level function for histograms).\n",
      "  warnings.warn(msg, FutureWarning)\n",
      "C:\\Users\\ser\\miniconda3\\envs\\ds_study\\lib\\site-packages\\seaborn\\_decorators.py:36: FutureWarning: Pass the following variable as a keyword arg: x. From version 0.12, the only valid positional argument will be `data`, and passing other arguments without an explicit keyword will result in an error or misinterpretation.\n",
      "  warnings.warn(\n"
     ]
    },
    {
     "data": {
      "text/plain": [
       "<AxesSubplot:xlabel='popularity'>"
      ]
     },
     "execution_count": 323,
     "metadata": {},
     "output_type": "execute_result"
    },
    {
     "data": {
      "image/png": "[encoded data removed]",
      "text/plain": [
       "<Figure size 1152x432 with 2 Axes>"
      ]
     },
     "metadata": {
      "needs_background": "light"
     },
     "output_type": "display_data"
    }
   ],
   "source": [
    "fig, ax = plt.subplots(1, 2, figsize=(16,6))\n",
    "sns.distplot(new_df['popularity'], ax=ax[0])\n",
    "sns.boxplot(new_df['popularity'], ax=ax[1])"
   ]
  },
  {
   "cell_type": "code",
   "execution_count": 324,
   "metadata": {},
   "outputs": [
    {
     "name": "stderr",
     "output_type": "stream",
     "text": [
      "C:\\Users\\ser\\miniconda3\\envs\\ds_study\\lib\\site-packages\\seaborn\\distributions.py:2619: FutureWarning: `distplot` is a deprecated function and will be removed in a future version. Please adapt your code to use either `displot` (a figure-level function with similar flexibility) or `histplot` (an axes-level function for histograms).\n",
      "  warnings.warn(msg, FutureWarning)\n",
      "C:\\Users\\ser\\miniconda3\\envs\\ds_study\\lib\\site-packages\\seaborn\\_decorators.py:36: FutureWarning: Pass the following variable as a keyword arg: x. From version 0.12, the only valid positional argument will be `data`, and passing other arguments without an explicit keyword will result in an error or misinterpretation.\n",
      "  warnings.warn(\n"
     ]
    },
    {
     "data": {
      "text/plain": [
       "<AxesSubplot:xlabel='vote_count'>"
      ]
     },
     "execution_count": 324,
     "metadata": {},
     "output_type": "execute_result"
    },
    {
     "data": {
      "image/png": "[encoded data removed]",
      "text/plain": [
       "<Figure size 1152x432 with 2 Axes>"
      ]
     },
     "metadata": {
      "needs_background": "light"
     },
     "output_type": "display_data"
    }
   ],
   "source": [
    "fig, ax = plt.subplots(1, 2, figsize=(16,6))\n",
    "sns.distplot(new_df['vote_count'], ax=ax[0])\n",
    "sns.boxplot(new_df['vote_count'], ax=ax[1])"
   ]
  },
  {
   "cell_type": "code",
   "execution_count": 325,
   "metadata": {},
   "outputs": [
    {
     "name": "stderr",
     "output_type": "stream",
     "text": [
      "C:\\Users\\ser\\miniconda3\\envs\\ds_study\\lib\\site-packages\\seaborn\\distributions.py:2619: FutureWarning: `distplot` is a deprecated function and will be removed in a future version. Please adapt your code to use either `displot` (a figure-level function with similar flexibility) or `histplot` (an axes-level function for histograms).\n",
      "  warnings.warn(msg, FutureWarning)\n",
      "C:\\Users\\ser\\miniconda3\\envs\\ds_study\\lib\\site-packages\\seaborn\\_decorators.py:36: FutureWarning: Pass the following variable as a keyword arg: x. From version 0.12, the only valid positional argument will be `data`, and passing other arguments without an explicit keyword will result in an error or misinterpretation.\n",
      "  warnings.warn(\n"
     ]
    },
    {
     "data": {
      "text/plain": [
       "<AxesSubplot:xlabel='vote_average'>"
      ]
     },
     "execution_count": 325,
     "metadata": {},
     "output_type": "execute_result"
    },
    {
     "data": {
      "image/png": "[encoded data removed]",
      "text/plain": [
       "<Figure size 1152x432 with 2 Axes>"
      ]
     },
     "metadata": {
      "needs_background": "light"
     },
     "output_type": "display_data"
    }
   ],
   "source": [
    "fig, ax = plt.subplots(1, 2, figsize=(16,6))\n",
    "sns.distplot(new_df['vote_average'], ax=ax[0])\n",
    "sns.boxplot(new_df['vote_average'], ax=ax[1])"
   ]
  },
  {
   "cell_type": "code",
   "execution_count": 326,
   "metadata": {},
   "outputs": [
    {
     "name": "stderr",
     "output_type": "stream",
     "text": [
      "C:\\Users\\ser\\miniconda3\\envs\\ds_study\\lib\\site-packages\\seaborn\\distributions.py:2619: FutureWarning: `distplot` is a deprecated function and will be removed in a future version. Please adapt your code to use either `displot` (a figure-level function with similar flexibility) or `histplot` (an axes-level function for histograms).\n",
      "  warnings.warn(msg, FutureWarning)\n",
      "C:\\Users\\ser\\miniconda3\\envs\\ds_study\\lib\\site-packages\\seaborn\\_decorators.py:36: FutureWarning: Pass the following variable as a keyword arg: x. From version 0.12, the only valid positional argument will be `data`, and passing other arguments without an explicit keyword will result in an error or misinterpretation.\n",
      "  warnings.warn(\n"
     ]
    },
    {
     "data": {
      "text/plain": [
       "<AxesSubplot:xlabel='revenue'>"
      ]
     },
     "execution_count": 326,
     "metadata": {},
     "output_type": "execute_result"
    },
    {
     "data": {
      "image/png": "[encoded data removed]",
      "text/plain": [
       "<Figure size 1152x432 with 2 Axes>"
      ]
     },
     "metadata": {
      "needs_background": "light"
     },
     "output_type": "display_data"
    }
   ],
   "source": [
    "fig, ax = plt.subplots(1, 2, figsize=(16,6))\n",
    "sns.distplot(new_df['revenue'], ax=ax[0])\n",
    "sns.boxplot(new_df['revenue'], ax=ax[1])"
   ]
  },
  {
   "cell_type": "code",
   "execution_count": 327,
   "metadata": {},
   "outputs": [
    {
     "name": "stderr",
     "output_type": "stream",
     "text": [
      "C:\\Users\\ser\\miniconda3\\envs\\ds_study\\lib\\site-packages\\seaborn\\distributions.py:2619: FutureWarning: `distplot` is a deprecated function and will be removed in a future version. Please adapt your code to use either `displot` (a figure-level function with similar flexibility) or `histplot` (an axes-level function for histograms).\n",
      "  warnings.warn(msg, FutureWarning)\n",
      "C:\\Users\\ser\\miniconda3\\envs\\ds_study\\lib\\site-packages\\seaborn\\_decorators.py:36: FutureWarning: Pass the following variable as a keyword arg: x. From version 0.12, the only valid positional argument will be `data`, and passing other arguments without an explicit keyword will result in an error or misinterpretation.\n",
      "  warnings.warn(\n"
     ]
    },
    {
     "data": {
      "text/plain": [
       "<AxesSubplot:xlabel='runtime'>"
      ]
     },
     "execution_count": 327,
     "metadata": {},
     "output_type": "execute_result"
    },
    {
     "data": {
      "image/png": "[encoded data removed]",
      "text/plain": [
       "<Figure size 1152x432 with 2 Axes>"
      ]
     },
     "metadata": {
      "needs_background": "light"
     },
     "output_type": "display_data"
    }
   ],
   "source": [
    "fig, ax = plt.subplots(1, 2, figsize=(16,6))\n",
    "sns.distplot(new_df['runtime'], ax=ax[0])\n",
    "sns.boxplot(new_df['runtime'], ax=ax[1])"
   ]
  },
  {
   "cell_type": "code",
   "execution_count": 328,
   "metadata": {},
   "outputs": [
    {
     "name": "stderr",
     "output_type": "stream",
     "text": [
      "C:\\Users\\ser\\miniconda3\\envs\\ds_study\\lib\\site-packages\\seaborn\\distributions.py:2619: FutureWarning: `distplot` is a deprecated function and will be removed in a future version. Please adapt your code to use either `displot` (a figure-level function with similar flexibility) or `histplot` (an axes-level function for histograms).\n",
      "  warnings.warn(msg, FutureWarning)\n",
      "C:\\Users\\ser\\miniconda3\\envs\\ds_study\\lib\\site-packages\\seaborn\\_decorators.py:36: FutureWarning: Pass the following variable as a keyword arg: x. From version 0.12, the only valid positional argument will be `data`, and passing other arguments without an explicit keyword will result in an error or misinterpretation.\n",
      "  warnings.warn(\n"
     ]
    },
    {
     "data": {
      "text/plain": [
       "<AxesSubplot:xlabel='original_language'>"
      ]
     },
     "execution_count": 328,
     "metadata": {},
     "output_type": "execute_result"
    },
    {
     "data": {
      "image/png": "[encoded data removed]",
      "text/plain": [
       "<Figure size 1152x432 with 2 Axes>"
      ]
     },
     "metadata": {
      "needs_background": "light"
     },
     "output_type": "display_data"
    }
   ],
   "source": [
    "fig, ax = plt.subplots(1, 2, figsize=(16,6))\n",
    "sns.distplot(new_df['original_language'], ax=ax[0])\n",
    "sns.boxplot(new_df['original_language'], ax=ax[1])"
   ]
  },
  {
   "cell_type": "markdown",
   "metadata": {},
   "source": [
    "- 대부분 한 쪽으로 쏠려 있다."
   ]
  },
  {
   "cell_type": "code",
   "execution_count": 329,
   "metadata": {},
   "outputs": [
    {
     "data": {
      "text/html": [
       "<div>\n",
       "<style scoped>\n",
       "    .dataframe tbody tr th:only-of-type {\n",
       "        vertical-align: middle;\n",
       "    }\n",
       "\n",
       "    .dataframe tbody tr th {\n",
       "        vertical-align: top;\n",
       "    }\n",
       "\n",
       "    .dataframe thead th {\n",
       "        text-align: right;\n",
       "    }\n",
       "</style>\n",
       "<table border=\"1\" class=\"dataframe\">\n",
       "  <thead>\n",
       "    <tr style=\"text-align: right;\">\n",
       "      <th></th>\n",
       "      <th>original_language</th>\n",
       "      <th>popularity</th>\n",
       "      <th>vote_count</th>\n",
       "      <th>vote_average</th>\n",
       "      <th>revenue</th>\n",
       "      <th>runtime</th>\n",
       "      <th>budget</th>\n",
       "    </tr>\n",
       "  </thead>\n",
       "  <tbody>\n",
       "    <tr>\n",
       "      <th>0</th>\n",
       "      <td>6</td>\n",
       "      <td>10.065450</td>\n",
       "      <td>145.0</td>\n",
       "      <td>6.5</td>\n",
       "      <td>59827328.0</td>\n",
       "      <td>98.0</td>\n",
       "      <td>11000000.0</td>\n",
       "    </tr>\n",
       "    <tr>\n",
       "      <th>1</th>\n",
       "      <td>6</td>\n",
       "      <td>5.496624</td>\n",
       "      <td>109.0</td>\n",
       "      <td>4.9</td>\n",
       "      <td>14828081.0</td>\n",
       "      <td>91.0</td>\n",
       "      <td>90000000.0</td>\n",
       "    </tr>\n",
       "    <tr>\n",
       "      <th>2</th>\n",
       "      <td>5</td>\n",
       "      <td>0.907927</td>\n",
       "      <td>14.0</td>\n",
       "      <td>4.6</td>\n",
       "      <td>3003296.0</td>\n",
       "      <td>95.0</td>\n",
       "      <td>36000000.0</td>\n",
       "    </tr>\n",
       "    <tr>\n",
       "      <th>3</th>\n",
       "      <td>6</td>\n",
       "      <td>9.738371</td>\n",
       "      <td>749.0</td>\n",
       "      <td>5.7</td>\n",
       "      <td>161834276.0</td>\n",
       "      <td>116.0</td>\n",
       "      <td>40000000.0</td>\n",
       "    </tr>\n",
       "    <tr>\n",
       "      <th>4</th>\n",
       "      <td>6</td>\n",
       "      <td>6.370105</td>\n",
       "      <td>24.0</td>\n",
       "      <td>5.4</td>\n",
       "      <td>1631839.0</td>\n",
       "      <td>101.0</td>\n",
       "      <td>10000000.0</td>\n",
       "    </tr>\n",
       "    <tr>\n",
       "      <th>...</th>\n",
       "      <td>...</td>\n",
       "      <td>...</td>\n",
       "      <td>...</td>\n",
       "      <td>...</td>\n",
       "      <td>...</td>\n",
       "      <td>...</td>\n",
       "      <td>...</td>\n",
       "    </tr>\n",
       "    <tr>\n",
       "      <th>3194</th>\n",
       "      <td>6</td>\n",
       "      <td>50.903593</td>\n",
       "      <td>688.0</td>\n",
       "      <td>5.7</td>\n",
       "      <td>71000000.0</td>\n",
       "      <td>95.0</td>\n",
       "      <td>60000000.0</td>\n",
       "    </tr>\n",
       "    <tr>\n",
       "      <th>3195</th>\n",
       "      <td>6</td>\n",
       "      <td>33.694599</td>\n",
       "      <td>327.0</td>\n",
       "      <td>5.8</td>\n",
       "      <td>66913939.0</td>\n",
       "      <td>86.0</td>\n",
       "      <td>50000000.0</td>\n",
       "    </tr>\n",
       "    <tr>\n",
       "      <th>3196</th>\n",
       "      <td>6</td>\n",
       "      <td>40.796775</td>\n",
       "      <td>181.0</td>\n",
       "      <td>7.4</td>\n",
       "      <td>184770205.0</td>\n",
       "      <td>111.0</td>\n",
       "      <td>11000000.0</td>\n",
       "    </tr>\n",
       "    <tr>\n",
       "      <th>3197</th>\n",
       "      <td>29</td>\n",
       "      <td>1.323587</td>\n",
       "      <td>25.0</td>\n",
       "      <td>6.9</td>\n",
       "      <td>19000000.0</td>\n",
       "      <td>185.0</td>\n",
       "      <td>12000000.0</td>\n",
       "    </tr>\n",
       "    <tr>\n",
       "      <th>3198</th>\n",
       "      <td>26</td>\n",
       "      <td>0.201582</td>\n",
       "      <td>4.0</td>\n",
       "      <td>6.0</td>\n",
       "      <td>3.0</td>\n",
       "      <td>0.0</td>\n",
       "      <td>750000.0</td>\n",
       "    </tr>\n",
       "  </tbody>\n",
       "</table>\n",
       "<p>3199 rows × 7 columns</p>\n",
       "</div>"
      ],
      "text/plain": [
       "      original_language  popularity  vote_count  vote_average      revenue  \\\n",
       "0                     6   10.065450       145.0           6.5   59827328.0   \n",
       "1                     6    5.496624       109.0           4.9   14828081.0   \n",
       "2                     5    0.907927        14.0           4.6    3003296.0   \n",
       "3                     6    9.738371       749.0           5.7  161834276.0   \n",
       "4                     6    6.370105        24.0           5.4    1631839.0   \n",
       "...                 ...         ...         ...           ...          ...   \n",
       "3194                  6   50.903593       688.0           5.7   71000000.0   \n",
       "3195                  6   33.694599       327.0           5.8   66913939.0   \n",
       "3196                  6   40.796775       181.0           7.4  184770205.0   \n",
       "3197                 29    1.323587        25.0           6.9   19000000.0   \n",
       "3198                 26    0.201582         4.0           6.0          3.0   \n",
       "\n",
       "      runtime      budget  \n",
       "0        98.0  11000000.0  \n",
       "1        91.0  90000000.0  \n",
       "2        95.0  36000000.0  \n",
       "3       116.0  40000000.0  \n",
       "4       101.0  10000000.0  \n",
       "...       ...         ...  \n",
       "3194     95.0  60000000.0  \n",
       "3195     86.0  50000000.0  \n",
       "3196    111.0  11000000.0  \n",
       "3197    185.0  12000000.0  \n",
       "3198      0.0    750000.0  \n",
       "\n",
       "[3199 rows x 7 columns]"
      ]
     },
     "execution_count": 329,
     "metadata": {},
     "output_type": "execute_result"
    }
   ],
   "source": [
    "new_df_sl = new_df[['original_language', 'popularity', 'vote_count', 'vote_average', 'revenue', 'runtime', 'budget']]\n",
    "new_df_sl"
   ]
  },
  {
   "cell_type": "code",
   "execution_count": 330,
   "metadata": {},
   "outputs": [],
   "source": [
    "new_df_ss = ss.fit_transform(new_df_sl)\n",
    "new_df_ss = pd.DataFrame(new_df_ss, columns=new_df_sl.columns)\n",
    "new_df_ss['runtime'] = new_df_sl['runtime'] # runtime 값은 비교적 가운데에 있어 제외하였음\n",
    "new_df_ss['vote_average'] = new_df_sl['vote_average'] # vote_arange 값은 약간의 쏠림만 있기 때문에 제외하였음\n",
    "new_df_ss['budget'] = new_df_sl['budget'] # budget 값은 y값으로 사용하므로 제외하였음\n"
   ]
  },
  {
   "cell_type": "code",
   "execution_count": 331,
   "metadata": {},
   "outputs": [],
   "source": [
    "X = new_df_ss[['original_language', 'popularity', 'vote_count', 'vote_average', 'revenue', 'runtime']]\n",
    "y = new_df_ss['budget']\n",
    "X_train, X_test, y_train, y_test = train_test_split(X, y, test_size=0.2, random_state=13)"
   ]
  },
  {
   "cell_type": "code",
   "execution_count": 332,
   "metadata": {},
   "outputs": [],
   "source": [
    "lr.fit(X_train, y_train)\n",
    "pred_test = lr.predict(X_test)"
   ]
  },
  {
   "cell_type": "code",
   "execution_count": 333,
   "metadata": {},
   "outputs": [
    {
     "data": {
      "image/png": "[encoded data removed]",
      "text/plain": [
       "<Figure size 720x720 with 1 Axes>"
      ]
     },
     "metadata": {
      "needs_background": "light"
     },
     "output_type": "display_data"
    }
   ],
   "source": [
    "plt.figure(figsize=(10, 10))\n",
    "plt.scatter(y_test, pred_test, alpha=0.4)\n",
    "plt.plot([min(y_test), max(y_test)], [min(y_test), max(y_test)], 'r', ls='dashed', lw=3)\n",
    "plt.xlabel(\"Actual Budget\")\n",
    "plt.ylabel(\"Predicted Budget\")\n",
    "plt.title(\"MULTIPLE LINEAR REGRESSION\")\n",
    "plt.show()"
   ]
  },
  {
   "cell_type": "code",
   "execution_count": 334,
   "metadata": {},
   "outputs": [
    {
     "data": {
      "text/plain": [
       "(0.6153869345130061, 0.6116308088958613)"
      ]
     },
     "execution_count": 334,
     "metadata": {},
     "output_type": "execute_result"
    }
   ],
   "source": [
    "# 다중선형회귀 결정계수\n",
    "lr.score(X_train, y_train), lr.score(X_test, y_test)"
   ]
  },
  {
   "cell_type": "markdown",
   "metadata": {},
   "source": [
    "- 앞선 결과와 비슷함"
   ]
  },
  {
   "cell_type": "markdown",
   "metadata": {},
   "source": [
    "#### 4) log scale 후 Multiple Linear Regression 재시도"
   ]
  },
  {
   "cell_type": "code",
   "execution_count": 284,
   "metadata": {},
   "outputs": [],
   "source": [
    "new_df_ls = pd.DataFrame()\n",
    "cols = ['original_language', 'popularity', 'vote_count', 'revenue']\n",
    "for col in cols:\n",
    "    log = np.log1p(new_df[col])\n",
    "    new_df_ls[col] = log"
   ]
  },
  {
   "cell_type": "code",
   "execution_count": 287,
   "metadata": {},
   "outputs": [],
   "source": [
    "new_df_ls['runtime'] = new_df_sl['runtime']\n",
    "new_df_ls['vote_average'] = new_df_sl['vote_average']\n",
    "new_df_ls['budget'] = new_df_sl['budget']"
   ]
  },
  {
   "cell_type": "code",
   "execution_count": 288,
   "metadata": {},
   "outputs": [],
   "source": [
    "X = new_df_ls[['original_language', 'popularity', 'vote_count', 'vote_average', 'revenue', 'runtime']]\n",
    "y = new_df_ls['budget']\n",
    "X_train, X_test, y_train, y_test = train_test_split(X, y, test_size=0.2, random_state=13)"
   ]
  },
  {
   "cell_type": "code",
   "execution_count": 289,
   "metadata": {},
   "outputs": [],
   "source": [
    "lr.fit(X_train, y_train)\n",
    "y_pred = lr.predict(X_test)"
   ]
  },
  {
   "cell_type": "code",
   "execution_count": 290,
   "metadata": {},
   "outputs": [
    {
     "data": {
      "image/png": "[encoded data removed]",
      "text/plain": [
       "<Figure size 720x720 with 1 Axes>"
      ]
     },
     "metadata": {
      "needs_background": "light"
     },
     "output_type": "display_data"
    }
   ],
   "source": [
    "plt.figure(figsize=(10, 10))\n",
    "plt.scatter(y_test, y_pred, alpha=0.4)\n",
    "plt.plot([min(y_test), max(y_test)], [min(y_test), max(y_test)], 'r', ls='dashed', lw=3)\n",
    "plt.xlabel(\"Actual Budget\")\n",
    "plt.ylabel(\"Predicted Budget\")\n",
    "plt.title(\"MULTIPLE LINEAR REGRESSION\")\n",
    "plt.show()"
   ]
  },
  {
   "cell_type": "code",
   "execution_count": 291,
   "metadata": {},
   "outputs": [
    {
     "data": {
      "text/plain": [
       "(0.4230490558427935, 0.4470567128109706)"
      ]
     },
     "execution_count": 291,
     "metadata": {},
     "output_type": "execute_result"
    }
   ],
   "source": [
    "# 다중선형회귀 결정계수\n",
    "lr.score(X_train, y_train), lr.score(X_test, y_test)"
   ]
  },
  {
   "cell_type": "markdown",
   "metadata": {},
   "source": [
    "- 결과 더 안 좋아짐"
   ]
  },
  {
   "cell_type": "markdown",
   "metadata": {},
   "source": [
    "#### 5) 아웃라이어 처리 후 Multiple Linear Regression 재시도"
   ]
  },
  {
   "cell_type": "code",
   "execution_count": 335,
   "metadata": {},
   "outputs": [],
   "source": [
    "new_df_copy = new_df_ss.copy()"
   ]
  },
  {
   "cell_type": "code",
   "execution_count": 336,
   "metadata": {},
   "outputs": [
    {
     "data": {
      "text/html": [
       "<div>\n",
       "<style scoped>\n",
       "    .dataframe tbody tr th:only-of-type {\n",
       "        vertical-align: middle;\n",
       "    }\n",
       "\n",
       "    .dataframe tbody tr th {\n",
       "        vertical-align: top;\n",
       "    }\n",
       "\n",
       "    .dataframe thead th {\n",
       "        text-align: right;\n",
       "    }\n",
       "</style>\n",
       "<table border=\"1\" class=\"dataframe\">\n",
       "  <thead>\n",
       "    <tr style=\"text-align: right;\">\n",
       "      <th></th>\n",
       "      <th>original_language</th>\n",
       "      <th>popularity</th>\n",
       "      <th>vote_count</th>\n",
       "      <th>vote_average</th>\n",
       "      <th>revenue</th>\n",
       "      <th>runtime</th>\n",
       "      <th>budget</th>\n",
       "    </tr>\n",
       "  </thead>\n",
       "  <tbody>\n",
       "    <tr>\n",
       "      <th>0</th>\n",
       "      <td>-0.262580</td>\n",
       "      <td>-0.061488</td>\n",
       "      <td>-0.562466</td>\n",
       "      <td>6.5</td>\n",
       "      <td>-0.275125</td>\n",
       "      <td>98.0</td>\n",
       "      <td>11000000.0</td>\n",
       "    </tr>\n",
       "    <tr>\n",
       "      <th>1</th>\n",
       "      <td>-0.262580</td>\n",
       "      <td>-0.330297</td>\n",
       "      <td>-0.587705</td>\n",
       "      <td>4.9</td>\n",
       "      <td>-0.506505</td>\n",
       "      <td>91.0</td>\n",
       "      <td>90000000.0</td>\n",
       "    </tr>\n",
       "    <tr>\n",
       "      <th>2</th>\n",
       "      <td>-0.488081</td>\n",
       "      <td>-0.600276</td>\n",
       "      <td>-0.654308</td>\n",
       "      <td>4.6</td>\n",
       "      <td>-0.567306</td>\n",
       "      <td>95.0</td>\n",
       "      <td>36000000.0</td>\n",
       "    </tr>\n",
       "    <tr>\n",
       "      <th>3</th>\n",
       "      <td>-0.262580</td>\n",
       "      <td>-0.080732</td>\n",
       "      <td>-0.139013</td>\n",
       "      <td>5.7</td>\n",
       "      <td>0.249381</td>\n",
       "      <td>116.0</td>\n",
       "      <td>40000000.0</td>\n",
       "    </tr>\n",
       "    <tr>\n",
       "      <th>4</th>\n",
       "      <td>-0.262580</td>\n",
       "      <td>-0.278906</td>\n",
       "      <td>-0.647297</td>\n",
       "      <td>5.4</td>\n",
       "      <td>-0.574358</td>\n",
       "      <td>101.0</td>\n",
       "      <td>10000000.0</td>\n",
       "    </tr>\n",
       "  </tbody>\n",
       "</table>\n",
       "</div>"
      ],
      "text/plain": [
       "   original_language  popularity  vote_count  vote_average   revenue  runtime  \\\n",
       "0          -0.262580   -0.061488   -0.562466           6.5 -0.275125     98.0   \n",
       "1          -0.262580   -0.330297   -0.587705           4.9 -0.506505     91.0   \n",
       "2          -0.488081   -0.600276   -0.654308           4.6 -0.567306     95.0   \n",
       "3          -0.262580   -0.080732   -0.139013           5.7  0.249381    116.0   \n",
       "4          -0.262580   -0.278906   -0.647297           5.4 -0.574358    101.0   \n",
       "\n",
       "       budget  \n",
       "0  11000000.0  \n",
       "1  90000000.0  \n",
       "2  36000000.0  \n",
       "3  40000000.0  \n",
       "4  10000000.0  "
      ]
     },
     "execution_count": 336,
     "metadata": {},
     "output_type": "execute_result"
    }
   ],
   "source": [
    "new_df_copy.head()"
   ]
  },
  {
   "cell_type": "code",
   "execution_count": 337,
   "metadata": {},
   "outputs": [],
   "source": [
    "def get_outlier(df=None, column=None, weight=1.5):\n",
    "\n",
    "    quantile_25 = np.percentile(df[column].values, 25)\n",
    "    quantile_75 = np.percentile(df[column].values, 75)\n",
    "\n",
    "    iqr = quantile_75 - quantile_25\n",
    "    iqr_weight = iqr*weight\n",
    "\n",
    "    lowest_val = quantile_25 - iqr_weight\n",
    "    highest_val = quantile_75 + iqr_weight\n",
    "\n",
    "    return lowest_val, highest_val"
   ]
  },
  {
   "cell_type": "code",
   "execution_count": 338,
   "metadata": {},
   "outputs": [
    {
     "data": {
      "text/plain": [
       "(-53400000.0, 113000000.0)"
      ]
     },
     "execution_count": 338,
     "metadata": {},
     "output_type": "execute_result"
    }
   ],
   "source": [
    "get_outlier(new_df_ss, 'budget')"
   ]
  },
  {
   "cell_type": "markdown",
   "metadata": {},
   "source": [
    "- budget 113000000 이상은 제외 처리(예산이 0 이하일 수는 없으므로 lowest 값은 적용  안 함)"
   ]
  },
  {
   "cell_type": "code",
   "execution_count": 339,
   "metadata": {},
   "outputs": [],
   "source": [
    "new_df_copy = new_df_copy[new_df_copy['budget'] < 113000000]"
   ]
  },
  {
   "cell_type": "code",
   "execution_count": 340,
   "metadata": {},
   "outputs": [
    {
     "data": {
      "text/plain": [
       "(-0.8145179444032669, 0.6172640146340944)"
      ]
     },
     "execution_count": 340,
     "metadata": {},
     "output_type": "execute_result"
    }
   ],
   "source": [
    "get_outlier(new_df_ss, 'popularity')"
   ]
  },
  {
   "cell_type": "markdown",
   "metadata": {},
   "source": [
    "- popularity(ss) 0.6172640146340944 이상, -0.8145179444032669 이하는 제외 처리"
   ]
  },
  {
   "cell_type": "code",
   "execution_count": 341,
   "metadata": {},
   "outputs": [],
   "source": [
    "new_df_copy = new_df_copy[new_df_copy['popularity'] < 0.6172640146340944]\n",
    "new_df_copy = new_df_copy[new_df_copy['popularity'] > -0.8145179444032669]"
   ]
  },
  {
   "cell_type": "code",
   "execution_count": 342,
   "metadata": {},
   "outputs": [
    {
     "data": {
      "text/plain": [
       "(-1.5839405395697737, 1.1306435985608216)"
      ]
     },
     "execution_count": 342,
     "metadata": {},
     "output_type": "execute_result"
    }
   ],
   "source": [
    "get_outlier(new_df_ss, 'vote_count')"
   ]
  },
  {
   "cell_type": "markdown",
   "metadata": {},
   "source": [
    "- vote_count(ss) 1.1306435985608216 이상, -1.5839405395697737 이하는 제외 처리"
   ]
  },
  {
   "cell_type": "code",
   "execution_count": 343,
   "metadata": {},
   "outputs": [],
   "source": [
    "new_df_copy = new_df_copy[new_df_copy['vote_count'] < 1.1306435985608216]\n",
    "new_df_copy = new_df_copy[new_df_copy['vote_count'] > -1.5839405395697737]"
   ]
  },
  {
   "cell_type": "code",
   "execution_count": 344,
   "metadata": {},
   "outputs": [
    {
     "data": {
      "text/plain": [
       "(-1.4155517817115157, 0.9406519575530875)"
      ]
     },
     "execution_count": 344,
     "metadata": {},
     "output_type": "execute_result"
    }
   ],
   "source": [
    "get_outlier(new_df_ss, 'revenue')"
   ]
  },
  {
   "cell_type": "markdown",
   "metadata": {},
   "source": [
    "- revenue(ss) 0.9406519575530875 이상 -1.4155517817115157 이하는 제외"
   ]
  },
  {
   "cell_type": "code",
   "execution_count": 345,
   "metadata": {},
   "outputs": [],
   "source": [
    "new_df_copy = new_df_copy[new_df_copy['revenue'] < 0.9406519575530875]\n",
    "new_df_copy = new_df_copy[new_df_copy['revenue'] > -1.4155517817115157]"
   ]
  },
  {
   "cell_type": "code",
   "execution_count": 346,
   "metadata": {},
   "outputs": [],
   "source": [
    "X = new_df_copy[['original_language', 'popularity', 'vote_count', 'vote_average', 'revenue', 'runtime']]\n",
    "y = new_df_copy['budget']\n",
    "X_train, X_test, y_train, y_test = train_test_split(X, y, test_size=0.2, random_state=13)"
   ]
  },
  {
   "cell_type": "code",
   "execution_count": 347,
   "metadata": {},
   "outputs": [],
   "source": [
    "y_pred = lr.predict(X_test)"
   ]
  },
  {
   "cell_type": "code",
   "execution_count": 348,
   "metadata": {},
   "outputs": [
    {
     "data": {
      "image/png": "[encoded data removed]",
      "text/plain": [
       "<Figure size 720x720 with 1 Axes>"
      ]
     },
     "metadata": {
      "needs_background": "light"
     },
     "output_type": "display_data"
    }
   ],
   "source": [
    "plt.figure(figsize=(10, 10))\n",
    "plt.scatter(y_test, y_pred, alpha=0.4)\n",
    "plt.plot([min(y_test), max(y_test)], [min(y_test), max(y_test)], 'r', ls='dashed', lw=3)\n",
    "plt.xlabel(\"Actual Budget\")\n",
    "plt.ylabel(\"Predicted Budget\")\n",
    "plt.title(\"MULTIPLE LINEAR REGRESSION\")\n",
    "plt.show()"
   ]
  },
  {
   "cell_type": "code",
   "execution_count": 349,
   "metadata": {},
   "outputs": [
    {
     "data": {
      "text/plain": [
       "(0.39734968273813176, 0.3415577000722875)"
      ]
     },
     "execution_count": 349,
     "metadata": {},
     "output_type": "execute_result"
    }
   ],
   "source": [
    "# 다중선형회귀 결정계수\n",
    "lr.score(X_train, y_train), lr.score(X_test, y_test)"
   ]
  },
  {
   "cell_type": "markdown",
   "metadata": {},
   "source": [
    "- outlier 제거 전보다 오히려 떨어짐"
   ]
  },
  {
   "cell_type": "markdown",
   "metadata": {},
   "source": [
    "#### 6) PCA"
   ]
  },
  {
   "cell_type": "code",
   "execution_count": 353,
   "metadata": {},
   "outputs": [],
   "source": [
    "from sklearn.decomposition import PCA\n",
    "from sklearn.neighbors import KNeighborsRegressor"
   ]
  },
  {
   "cell_type": "code",
   "execution_count": 350,
   "metadata": {},
   "outputs": [],
   "source": [
    "X = new_df[['original_language', 'popularity', 'vote_count', 'vote_average', 'revenue', 'runtime']]\n",
    "y = new_df['budget']\n",
    "X_train, X_test, y_train, y_test = train_test_split(X, y, test_size=0.2, random_state=13)"
   ]
  },
  {
   "cell_type": "code",
   "execution_count": 351,
   "metadata": {},
   "outputs": [],
   "source": [
    "ss = StandardScaler()\n",
    "X_train_ss = ss.fit_transform(X_train)\n",
    "X_test_ss = ss.transform(X_test)"
   ]
  },
  {
   "cell_type": "code",
   "execution_count": 355,
   "metadata": {},
   "outputs": [],
   "source": [
    "pca = PCA(n_components=6)"
   ]
  },
  {
   "cell_type": "code",
   "execution_count": 356,
   "metadata": {},
   "outputs": [],
   "source": [
    "X_train_pca = pca.fit_transform(X_train_ss)\n",
    "X_test_pca = pca.transform(X_test_ss)"
   ]
  },
  {
   "cell_type": "code",
   "execution_count": 357,
   "metadata": {},
   "outputs": [
    {
     "data": {
      "text/plain": [
       "KNeighborsRegressor()"
      ]
     },
     "execution_count": 357,
     "metadata": {},
     "output_type": "execute_result"
    }
   ],
   "source": [
    "model = KNeighborsRegressor(n_neighbors=5)\n",
    "model.fit(X_train_pca, y_train)"
   ]
  },
  {
   "cell_type": "code",
   "execution_count": 358,
   "metadata": {},
   "outputs": [],
   "source": [
    "y_pred = model.predict(X_test_pca)"
   ]
  },
  {
   "cell_type": "code",
   "execution_count": 359,
   "metadata": {},
   "outputs": [],
   "source": [
    "train_score = model.score(X_train_pca, y_train)\n",
    "test_score = model.score(X_test_pca, y_test)"
   ]
  },
  {
   "cell_type": "code",
   "execution_count": 360,
   "metadata": {},
   "outputs": [
    {
     "data": {
      "text/plain": [
       "(0.7732125809214951, 0.6336357863273181)"
      ]
     },
     "execution_count": 360,
     "metadata": {},
     "output_type": "execute_result"
    }
   ],
   "source": [
    "train_score, test_score"
   ]
  },
  {
   "cell_type": "markdown",
   "metadata": {},
   "source": [
    "- Multiple Linear Regression보다 train 데이터의 결정계수값은 높지만 test 데이터는 비슷하다"
   ]
  },
  {
   "cell_type": "code",
   "execution_count": 361,
   "metadata": {},
   "outputs": [
    {
     "data": {
      "image/png": "[encoded data removed]",
      "text/plain": [
       "<Figure size 864x576 with 1 Axes>"
      ]
     },
     "metadata": {
      "needs_background": "light"
     },
     "output_type": "display_data"
    }
   ],
   "source": [
    "samples = 40\n",
    "plt.figure(figsize=(12, 8))\n",
    "plt.plot(range(samples), y_test[:samples], label = 'real target')\n",
    "plt.plot(range(samples), y_pred[:samples], label = 'predict target')\n",
    "plt.ylabel('budget')\n",
    "plt.legend()\n",
    "plt.grid()\n",
    "plt.show()"
   ]
  },
  {
   "cell_type": "code",
   "execution_count": null,
   "metadata": {},
   "outputs": [],
   "source": []
  }
 ],
 "metadata": {
  "interpreter": {
   "hash": "c65be9f96cf6a107970e73daa772f619540bc198daa202ce196b8be3b31cfed8"
  },
  "kernelspec": {
   "display_name": "Python 3.8.12 64-bit ('ds_study': conda)",
   "language": "python",
   "name": "python3"
  },
  "language_info": {
   "codemirror_mode": {
    "name": "ipython",
    "version": 3
   },
   "file_extension": ".py",
   "mimetype": "text/x-python",
   "name": "python",
   "nbconvert_exporter": "python",
   "pygments_lexer": "ipython3",
   "version": "3.8.12"
  },
  "orig_nbformat": 4
 },
 "nbformat": 4,
 "nbformat_minor": 2
}
